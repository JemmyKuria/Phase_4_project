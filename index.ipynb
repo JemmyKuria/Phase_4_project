{
 "cells": [
  {
   "cell_type": "markdown",
   "id": "9ff24899",
   "metadata": {},
   "source": [
    "# **PROJECT TITLE: SENTIMENT CLASSIFICATION OF PRODUCT-RELATED TWEETS USING NLP**"
   ]
  },
  {
   "cell_type": "markdown",
   "id": "3fe2be1a",
   "metadata": {},
   "source": [
    "![Twitter](Images/Twitter.png)"
   ]
  },
  {
   "cell_type": "markdown",
   "id": "20e485c4",
   "metadata": {},
   "source": [
    "# **BUSINESS UNDERSTANDING** "
   ]
  },
  {
   "cell_type": "markdown",
   "id": "b43a20a4",
   "metadata": {},
   "source": [
    "## **PROJECT OVERVIEW**\n",
    "This project focuses on building a machine learning model to classify the sentiment expressed in tweets about products or brands, using Natural Language Processing (NLP) techniques. The task is defined as a binary/multi-class classification problem, where the model determines which emotion/sentiment a tweet is expressing directed at a specific brand or product. The project uses a dataset of labeled tweets (tweet_product_company.csv) and involves text preprocessing, exploratory data analysis (EDA), handling class imbalance, feature engineering, and preparing data for model training. The final model will enable automated monitoring of customer sentiment on social media platforms, providing valuable insights for businesses."
   ]
  },
  {
   "cell_type": "markdown",
   "id": "c9447e31",
   "metadata": {},
   "source": [
    "## **PROBLEM STATEMENT**\n",
    "Businesses face the challenge of efficiently analyzing large volumes of tweets to determine whether they contain emotions directed at their products or brands. The dataset (tweet_product_company.csv) consists of 9,093 tweets, each with text content, a column indicating the target of any emotion (e.g., iPhone, iPad, Google, or \"None\" for missing values), and a label categorizing the sentiment as \"Positive emotion,\" \"Negative emotion,\" \"No emotion toward brand or product,\" or \"I can't tell.\" A significant issue is the class imbalance, with 59.2% of tweets labeled as \"No emotion toward brand or product,\" 32.7% as \"Positive emotion,\" 6.3% as \"Negative emotion,\" and 1.7% as \"I can't tell,\" which complicates accurate classification. Additionally, the dataset contains noise such as URLs, mentions, and punctuation, and the emotion_in_tweet_is_directed_at column has 5,802 missing values, making it challenging to leverage this feature effectively. The presence of duplicate tweets (22 instances) and one missing tweet_text entry further complicates data quality. The primary problem is to accurately classify whether a tweet expresses an emotion directed at a brand or product based solely on its text content, amidst these challenges of class imbalance, noisy text data, and incomplete metadata."
   ]
  },
  {
   "cell_type": "markdown",
   "id": "7e1e04be",
   "metadata": {},
   "source": [
    "## **OBJECTIVES**\n",
    "1. To analyse how sentiment categories (positive, negative, neutral) correlate with the presence of specific brand or product mentions in tweets, in order to determine patterns of directed sentiment.\n",
    "\n",
    "2. To apply and compare multiple text feature extraction techniques (such as TF-IDF and n-grams) to enhance the model’s ability to detect brand-directed emotional language.\n",
    "\n",
    "3. To train and evaluate various machine learning models for accurately classifying whether a tweet expresses an emotion toward a brand or product.\n",
    "\n",
    "4. To interpret the model outputs using performance metrics such as accuracy, precision, recall, and F1-score to ensure relevance for real-time brand sentiment monitoring.\n",
    "\n",
    "5. To demonstrate how the resulting model can support businesses in identifying and responding to product-related customer emotions at scale through automated sentiment detection on social media platforms\n"
   ]
  },
  {
   "cell_type": "markdown",
   "id": "cae9f6e2",
   "metadata": {},
   "source": [
    "# **1. DATA LOADING & EXPLORATION**\n",
    "Before diving into analysis or modeling, it’s essential to load the dataset properly and explore its structure to understand what kind of data you're working with.\n",
    "\n",
    "🔹 a) . Data Loading\n",
    "We start by importing the necessary libraries and reading the dataset using pandas. Due to encoding issues that may arise when reading text data, we use the 'ISO-8859-1' encoding instead of the default 'utf-8'."
   ]
  },
  {
   "cell_type": "code",
   "execution_count": 1,
   "id": "337dd9c3",
   "metadata": {},
   "outputs": [],
   "source": [
    "# Importing Libraries\n",
    "import pandas as pd\n",
    "import numpy as np\n",
    "import matplotlib.pyplot as plt\n",
    "import seaborn as sns\n",
    "import os \n",
    "import re\n",
    "import string\n",
    "from collections import Counter\n",
    "from sklearn.utils import resample"
   ]
  },
  {
   "cell_type": "code",
   "execution_count": 2,
   "id": "c2f9e16f",
   "metadata": {},
   "outputs": [
    {
     "data": {
      "text/html": [
       "<div>\n",
       "<style scoped>\n",
       "    .dataframe tbody tr th:only-of-type {\n",
       "        vertical-align: middle;\n",
       "    }\n",
       "\n",
       "    .dataframe tbody tr th {\n",
       "        vertical-align: top;\n",
       "    }\n",
       "\n",
       "    .dataframe thead th {\n",
       "        text-align: right;\n",
       "    }\n",
       "</style>\n",
       "<table border=\"1\" class=\"dataframe\">\n",
       "  <thead>\n",
       "    <tr style=\"text-align: right;\">\n",
       "      <th></th>\n",
       "      <th>tweet_text</th>\n",
       "      <th>emotion_in_tweet_is_directed_at</th>\n",
       "      <th>is_there_an_emotion_directed_at_a_brand_or_product</th>\n",
       "    </tr>\n",
       "  </thead>\n",
       "  <tbody>\n",
       "    <tr>\n",
       "      <th>0</th>\n",
       "      <td>.@wesley83 I have a 3G iPhone. After 3 hrs twe...</td>\n",
       "      <td>iPhone</td>\n",
       "      <td>Negative emotion</td>\n",
       "    </tr>\n",
       "    <tr>\n",
       "      <th>1</th>\n",
       "      <td>@jessedee Know about @fludapp ? Awesome iPad/i...</td>\n",
       "      <td>iPad or iPhone App</td>\n",
       "      <td>Positive emotion</td>\n",
       "    </tr>\n",
       "    <tr>\n",
       "      <th>2</th>\n",
       "      <td>@swonderlin Can not wait for #iPad 2 also. The...</td>\n",
       "      <td>iPad</td>\n",
       "      <td>Positive emotion</td>\n",
       "    </tr>\n",
       "    <tr>\n",
       "      <th>3</th>\n",
       "      <td>@sxsw I hope this year's festival isn't as cra...</td>\n",
       "      <td>iPad or iPhone App</td>\n",
       "      <td>Negative emotion</td>\n",
       "    </tr>\n",
       "    <tr>\n",
       "      <th>4</th>\n",
       "      <td>@sxtxstate great stuff on Fri #SXSW: Marissa M...</td>\n",
       "      <td>Google</td>\n",
       "      <td>Positive emotion</td>\n",
       "    </tr>\n",
       "  </tbody>\n",
       "</table>\n",
       "</div>"
      ],
      "text/plain": [
       "                                          tweet_text  \\\n",
       "0  .@wesley83 I have a 3G iPhone. After 3 hrs twe...   \n",
       "1  @jessedee Know about @fludapp ? Awesome iPad/i...   \n",
       "2  @swonderlin Can not wait for #iPad 2 also. The...   \n",
       "3  @sxsw I hope this year's festival isn't as cra...   \n",
       "4  @sxtxstate great stuff on Fri #SXSW: Marissa M...   \n",
       "\n",
       "  emotion_in_tweet_is_directed_at  \\\n",
       "0                          iPhone   \n",
       "1              iPad or iPhone App   \n",
       "2                            iPad   \n",
       "3              iPad or iPhone App   \n",
       "4                          Google   \n",
       "\n",
       "  is_there_an_emotion_directed_at_a_brand_or_product  \n",
       "0                                   Negative emotion  \n",
       "1                                   Positive emotion  \n",
       "2                                   Positive emotion  \n",
       "3                                   Negative emotion  \n",
       "4                                   Positive emotion  "
      ]
     },
     "execution_count": 2,
     "metadata": {},
     "output_type": "execute_result"
    }
   ],
   "source": [
    "# Loading the dataset\n",
    "df_Tweet = pd.read_csv('Data/tweet_product_company.csv', encoding='ISO-8859-1')\n",
    "\n",
    "# Preview the first 5 rows\n",
    "df_Tweet.head()"
   ]
  },
  {
   "cell_type": "markdown",
   "id": "37bad823",
   "metadata": {},
   "source": [
    "🔹 b) . Basic Dataset Information\n",
    "Understanding the size and structure of the dataset helps inform how we’ll process it."
   ]
  },
  {
   "cell_type": "code",
   "execution_count": 3,
   "id": "07c36cd1",
   "metadata": {},
   "outputs": [
    {
     "data": {
      "text/plain": [
       "(9093, 3)"
      ]
     },
     "execution_count": 3,
     "metadata": {},
     "output_type": "execute_result"
    }
   ],
   "source": [
    "# Check number of rows and columns\n",
    "df_Tweet.shape\n"
   ]
  },
  {
   "cell_type": "code",
   "execution_count": 4,
   "id": "712211a3",
   "metadata": {},
   "outputs": [
    {
     "data": {
      "text/plain": [
       "Index(['tweet_text', 'emotion_in_tweet_is_directed_at',\n",
       "       'is_there_an_emotion_directed_at_a_brand_or_product'],\n",
       "      dtype='object')"
      ]
     },
     "execution_count": 4,
     "metadata": {},
     "output_type": "execute_result"
    }
   ],
   "source": [
    "# Display column names\n",
    "df_Tweet.columns\n"
   ]
  },
  {
   "cell_type": "code",
   "execution_count": 5,
   "id": "65e7d40b",
   "metadata": {},
   "outputs": [
    {
     "name": "stdout",
     "output_type": "stream",
     "text": [
      "<class 'pandas.core.frame.DataFrame'>\n",
      "RangeIndex: 9093 entries, 0 to 9092\n",
      "Data columns (total 3 columns):\n",
      " #   Column                                              Non-Null Count  Dtype \n",
      "---  ------                                              --------------  ----- \n",
      " 0   tweet_text                                          9092 non-null   object\n",
      " 1   emotion_in_tweet_is_directed_at                     3291 non-null   object\n",
      " 2   is_there_an_emotion_directed_at_a_brand_or_product  9093 non-null   object\n",
      "dtypes: object(3)\n",
      "memory usage: 213.2+ KB\n"
     ]
    }
   ],
   "source": [
    "# Get basic information about data types and missing values\n",
    "df_Tweet.info()\n"
   ]
  },
  {
   "cell_type": "markdown",
   "id": "8df5e60d",
   "metadata": {},
   "source": [
    "🔹 c). Statistical Summary\n",
    "We can describe the numerical columns (if any) to see general trends like average values, min/max, and standard deviations.\n"
   ]
  },
  {
   "cell_type": "code",
   "execution_count": 6,
   "id": "70fe4b59",
   "metadata": {},
   "outputs": [
    {
     "data": {
      "text/html": [
       "<div>\n",
       "<style scoped>\n",
       "    .dataframe tbody tr th:only-of-type {\n",
       "        vertical-align: middle;\n",
       "    }\n",
       "\n",
       "    .dataframe tbody tr th {\n",
       "        vertical-align: top;\n",
       "    }\n",
       "\n",
       "    .dataframe thead th {\n",
       "        text-align: right;\n",
       "    }\n",
       "</style>\n",
       "<table border=\"1\" class=\"dataframe\">\n",
       "  <thead>\n",
       "    <tr style=\"text-align: right;\">\n",
       "      <th></th>\n",
       "      <th>tweet_text</th>\n",
       "      <th>emotion_in_tweet_is_directed_at</th>\n",
       "      <th>is_there_an_emotion_directed_at_a_brand_or_product</th>\n",
       "    </tr>\n",
       "  </thead>\n",
       "  <tbody>\n",
       "    <tr>\n",
       "      <th>count</th>\n",
       "      <td>9092</td>\n",
       "      <td>3291</td>\n",
       "      <td>9093</td>\n",
       "    </tr>\n",
       "    <tr>\n",
       "      <th>unique</th>\n",
       "      <td>9065</td>\n",
       "      <td>9</td>\n",
       "      <td>4</td>\n",
       "    </tr>\n",
       "    <tr>\n",
       "      <th>top</th>\n",
       "      <td>RT @mention Marissa Mayer: Google Will Connect...</td>\n",
       "      <td>iPad</td>\n",
       "      <td>No emotion toward brand or product</td>\n",
       "    </tr>\n",
       "    <tr>\n",
       "      <th>freq</th>\n",
       "      <td>5</td>\n",
       "      <td>946</td>\n",
       "      <td>5389</td>\n",
       "    </tr>\n",
       "  </tbody>\n",
       "</table>\n",
       "</div>"
      ],
      "text/plain": [
       "                                               tweet_text  \\\n",
       "count                                                9092   \n",
       "unique                                               9065   \n",
       "top     RT @mention Marissa Mayer: Google Will Connect...   \n",
       "freq                                                    5   \n",
       "\n",
       "       emotion_in_tweet_is_directed_at  \\\n",
       "count                             3291   \n",
       "unique                               9   \n",
       "top                               iPad   \n",
       "freq                               946   \n",
       "\n",
       "       is_there_an_emotion_directed_at_a_brand_or_product  \n",
       "count                                                9093  \n",
       "unique                                                  4  \n",
       "top                    No emotion toward brand or product  \n",
       "freq                                                 5389  "
      ]
     },
     "execution_count": 6,
     "metadata": {},
     "output_type": "execute_result"
    }
   ],
   "source": [
    "# Summary statistics of the dataset\n",
    "df_Tweet.describe()"
   ]
  },
  {
   "cell_type": "code",
   "execution_count": 7,
   "id": "000ca50f",
   "metadata": {},
   "outputs": [
    {
     "data": {
      "text/html": [
       "<div>\n",
       "<style scoped>\n",
       "    .dataframe tbody tr th:only-of-type {\n",
       "        vertical-align: middle;\n",
       "    }\n",
       "\n",
       "    .dataframe tbody tr th {\n",
       "        vertical-align: top;\n",
       "    }\n",
       "\n",
       "    .dataframe thead th {\n",
       "        text-align: right;\n",
       "    }\n",
       "</style>\n",
       "<table border=\"1\" class=\"dataframe\">\n",
       "  <thead>\n",
       "    <tr style=\"text-align: right;\">\n",
       "      <th></th>\n",
       "      <th>tweet_text</th>\n",
       "      <th>emotion_in_tweet_is_directed_at</th>\n",
       "      <th>is_there_an_emotion_directed_at_a_brand_or_product</th>\n",
       "    </tr>\n",
       "  </thead>\n",
       "  <tbody>\n",
       "    <tr>\n",
       "      <th>count</th>\n",
       "      <td>9092</td>\n",
       "      <td>3291</td>\n",
       "      <td>9093</td>\n",
       "    </tr>\n",
       "    <tr>\n",
       "      <th>unique</th>\n",
       "      <td>9065</td>\n",
       "      <td>9</td>\n",
       "      <td>4</td>\n",
       "    </tr>\n",
       "    <tr>\n",
       "      <th>top</th>\n",
       "      <td>RT @mention Marissa Mayer: Google Will Connect...</td>\n",
       "      <td>iPad</td>\n",
       "      <td>No emotion toward brand or product</td>\n",
       "    </tr>\n",
       "    <tr>\n",
       "      <th>freq</th>\n",
       "      <td>5</td>\n",
       "      <td>946</td>\n",
       "      <td>5389</td>\n",
       "    </tr>\n",
       "  </tbody>\n",
       "</table>\n",
       "</div>"
      ],
      "text/plain": [
       "                                               tweet_text  \\\n",
       "count                                                9092   \n",
       "unique                                               9065   \n",
       "top     RT @mention Marissa Mayer: Google Will Connect...   \n",
       "freq                                                    5   \n",
       "\n",
       "       emotion_in_tweet_is_directed_at  \\\n",
       "count                             3291   \n",
       "unique                               9   \n",
       "top                               iPad   \n",
       "freq                               946   \n",
       "\n",
       "       is_there_an_emotion_directed_at_a_brand_or_product  \n",
       "count                                                9093  \n",
       "unique                                                  4  \n",
       "top                    No emotion toward brand or product  \n",
       "freq                                                 5389  "
      ]
     },
     "execution_count": 7,
     "metadata": {},
     "output_type": "execute_result"
    }
   ],
   "source": [
    "# For categorical or text columns\n",
    "df_Tweet.describe(include=['object'])\n"
   ]
  },
  {
   "cell_type": "code",
   "execution_count": 8,
   "id": "709de251",
   "metadata": {},
   "outputs": [
    {
     "data": {
      "text/html": [
       "<div>\n",
       "<style scoped>\n",
       "    .dataframe tbody tr th:only-of-type {\n",
       "        vertical-align: middle;\n",
       "    }\n",
       "\n",
       "    .dataframe tbody tr th {\n",
       "        vertical-align: top;\n",
       "    }\n",
       "\n",
       "    .dataframe thead th {\n",
       "        text-align: right;\n",
       "    }\n",
       "</style>\n",
       "<table border=\"1\" class=\"dataframe\">\n",
       "  <thead>\n",
       "    <tr style=\"text-align: right;\">\n",
       "      <th></th>\n",
       "      <th>text</th>\n",
       "      <th>target</th>\n",
       "      <th>sentiment</th>\n",
       "    </tr>\n",
       "  </thead>\n",
       "  <tbody>\n",
       "    <tr>\n",
       "      <th>0</th>\n",
       "      <td>.@wesley83 I have a 3G iPhone. After 3 hrs twe...</td>\n",
       "      <td>iPhone</td>\n",
       "      <td>Negative emotion</td>\n",
       "    </tr>\n",
       "    <tr>\n",
       "      <th>1</th>\n",
       "      <td>@jessedee Know about @fludapp ? Awesome iPad/i...</td>\n",
       "      <td>iPad or iPhone App</td>\n",
       "      <td>Positive emotion</td>\n",
       "    </tr>\n",
       "    <tr>\n",
       "      <th>2</th>\n",
       "      <td>@swonderlin Can not wait for #iPad 2 also. The...</td>\n",
       "      <td>iPad</td>\n",
       "      <td>Positive emotion</td>\n",
       "    </tr>\n",
       "    <tr>\n",
       "      <th>3</th>\n",
       "      <td>@sxsw I hope this year's festival isn't as cra...</td>\n",
       "      <td>iPad or iPhone App</td>\n",
       "      <td>Negative emotion</td>\n",
       "    </tr>\n",
       "    <tr>\n",
       "      <th>4</th>\n",
       "      <td>@sxtxstate great stuff on Fri #SXSW: Marissa M...</td>\n",
       "      <td>Google</td>\n",
       "      <td>Positive emotion</td>\n",
       "    </tr>\n",
       "  </tbody>\n",
       "</table>\n",
       "</div>"
      ],
      "text/plain": [
       "                                                text              target  \\\n",
       "0  .@wesley83 I have a 3G iPhone. After 3 hrs twe...              iPhone   \n",
       "1  @jessedee Know about @fludapp ? Awesome iPad/i...  iPad or iPhone App   \n",
       "2  @swonderlin Can not wait for #iPad 2 also. The...                iPad   \n",
       "3  @sxsw I hope this year's festival isn't as cra...  iPad or iPhone App   \n",
       "4  @sxtxstate great stuff on Fri #SXSW: Marissa M...              Google   \n",
       "\n",
       "          sentiment  \n",
       "0  Negative emotion  \n",
       "1  Positive emotion  \n",
       "2  Positive emotion  \n",
       "3  Negative emotion  \n",
       "4  Positive emotion  "
      ]
     },
     "execution_count": 8,
     "metadata": {},
     "output_type": "execute_result"
    }
   ],
   "source": [
    "# Change column names\n",
    "df_Tweet.columns = ['text', 'target', 'sentiment']\n",
    "df_Tweet.head()\n"
   ]
  },
  {
   "cell_type": "markdown",
   "id": "f1150281",
   "metadata": {},
   "source": [
    "🔹 d). Checking for Missing Values"
   ]
  },
  {
   "cell_type": "code",
   "execution_count": 9,
   "id": "f1cb19a9",
   "metadata": {},
   "outputs": [
    {
     "data": {
      "text/plain": [
       "text            1\n",
       "target       5802\n",
       "sentiment       0\n",
       "dtype: int64"
      ]
     },
     "execution_count": 9,
     "metadata": {},
     "output_type": "execute_result"
    }
   ],
   "source": [
    "# Check for missing values in the dataset\n",
    "df_Tweet.isnull().sum()"
   ]
  },
  {
   "cell_type": "markdown",
   "id": "66c9599b",
   "metadata": {},
   "source": [
    "🔹 5. Duplicate Check"
   ]
  },
  {
   "cell_type": "code",
   "execution_count": 10,
   "id": "47b2e06e",
   "metadata": {},
   "outputs": [
    {
     "data": {
      "text/plain": [
       "22"
      ]
     },
     "execution_count": 10,
     "metadata": {},
     "output_type": "execute_result"
    }
   ],
   "source": [
    "# Check for duplicate rows\n",
    "df_Tweet.duplicated().sum()"
   ]
  },
  {
   "cell_type": "markdown",
   "id": "e3346a44",
   "metadata": {},
   "source": [
    "# **2.DATA PREPROCESSING**\n",
    "This is where raw data is transformed, cleaned, and prepared for analysis or modeling."
   ]
  },
  {
   "cell_type": "markdown",
   "id": "ae9ddf57",
   "metadata": {},
   "source": [
    " 1. tweet_text — Missing: 1 row\n",
    "This is the most critical feature because your model relies on the content of the tweet to predict sentiment."
   ]
  },
  {
   "cell_type": "markdown",
   "id": "8f3e40da",
   "metadata": {},
   "source": [
    "2. emotion_in_tweet_is_directed_at — Missing: 5802 rows\n",
    "This column indicates whether the emotion is directed at a brand/product. It may be useful as a feature, but it's not essential for basic sentiment classification based on text."
   ]
  },
  {
   "cell_type": "code",
   "execution_count": 11,
   "id": "51acbb02",
   "metadata": {},
   "outputs": [],
   "source": [
    "class TweetCleaner:\n",
    "    def __init__(self, df):\n",
    "        self.df = df.copy()\n",
    "    \n",
    "    def clean_text(self):\n",
    "        # Lowercase text\n",
    "        self.df['clean_text'] = self.df['text'].astype(str).str.lower()\n",
    "        \n",
    "        # Add word count\n",
    "        self.df['word_count'] = self.df['clean_text'].apply(lambda x: len(x.split()))\n",
    "        return self\n",
    "    \n",
    "    def filter_sentiment(self):\n",
    "        # Filter to only Positive and Negative sentiments\n",
    "        self.df = self.df[self.df['sentiment'].isin(['Positive emotion', 'Negative emotion'])].copy()\n",
    "        return self\n",
    "    \n",
    "    def map_binary_labels(self):\n",
    "        # Map Positive = 1, Negative = 0\n",
    "        self.df['emotion_binary'] = self.df['sentiment'].map({\n",
    "            'Positive emotion': 1,\n",
    "            'Negative emotion': 0\n",
    "        })\n",
    "        return self\n",
    "    \n",
    "    def balance_classes(self):\n",
    "        # Handle imbalance via upsampling\n",
    "        from sklearn.utils import resample\n",
    "        positive = self.df[self.df['emotion_binary'] == 1]\n",
    "        negative = self.df[self.df['emotion_binary'] == 0]\n",
    "        negative_upsampled = resample(\n",
    "            negative,\n",
    "            replace=True,\n",
    "            n_samples=len(positive),\n",
    "            random_state=42\n",
    "        )\n",
    "        self.df = pd.concat([positive, negative_upsampled]).sample(frac=1, random_state=42).reset_index(drop=True)\n",
    "        return self\n",
    "    \n",
    "    def get_clean_df(self):\n",
    "        return self.df\n"
   ]
  },
  {
   "cell_type": "code",
   "execution_count": 12,
   "id": "b4059f46",
   "metadata": {},
   "outputs": [],
   "source": [
    "# Apply OOP class\n",
    "cleaner = TweetCleaner(df_Tweet)\n",
    "df_Tweet = (\n",
    "    cleaner\n",
    "    .clean_text()\n",
    "    .filter_sentiment()\n",
    "    .map_binary_labels()\n",
    "    .balance_classes()\n",
    "    .get_clean_df()\n",
    ")"
   ]
  },
  {
   "cell_type": "code",
   "execution_count": 13,
   "id": "3550b240",
   "metadata": {},
   "outputs": [
    {
     "name": "stdout",
     "output_type": "stream",
     "text": [
      "Target value count before mapping: iPad                               1410\n",
      "Apple                              1034\n",
      "iPad or iPhone App                  754\n",
      "iPhone                              728\n",
      "Google                              709\n",
      "Other Google product or service     478\n",
      "Android App                         119\n",
      "Android                             113\n",
      "Other Apple product or service       44\n",
      "Name: target, dtype: int64\n"
     ]
    },
    {
     "data": {
      "text/plain": [
       "Apple     3970\n",
       "Google    1419\n",
       "Name: brand, dtype: int64"
      ]
     },
     "execution_count": 13,
     "metadata": {},
     "output_type": "execute_result"
    }
   ],
   "source": [
    "# Standardizes product names into brand categories and shows the number of tweets for each brand.\n",
    "print(\"Target value count before mapping:\",df_Tweet['target'].value_counts())\n",
    "brand_mapping = {\n",
    "    'iPad': 'Apple',\n",
    "    'Apple': 'Apple',\n",
    "    'iPad or iPhone App': 'Apple',\n",
    "    'iPhone': 'Apple',\n",
    "    'Other Apple product or service': 'Apple',\n",
    "    'Google': 'Google',\n",
    "    'Other Google product or service': 'Google',\n",
    "    'Android App': 'Google',\n",
    "    'Android': 'Google',\n",
    "    \"None\": \"None\"\n",
    "}\n",
    "\n",
    "# Apply the mapping to create new brand column\n",
    "df_Tweet['brand'] = df_Tweet['target'].map(brand_mapping)\n",
    "df_Tweet['brand'].value_counts()"
   ]
  },
  {
   "cell_type": "markdown",
   "id": "724f2b58",
   "metadata": {},
   "source": [
    "## **3.EDA (DATA ANALYSIS) & DATA VISUALIZATION**\n",
    "EDA is like getting to know my data — it’s the first step where i carefully examined the dataset to understand its main characteristics.\n",
    "\n",
    "Data Visualization is the process of creating charts, graphs, and maps that turn numbers and data into pictures."
   ]
  },
  {
   "cell_type": "markdown",
   "id": "7dbe4737",
   "metadata": {},
   "source": [
    "### **1. UNIVARIATE ANALYSIS**\n",
    "#### Checking for distribution of the data and visualizing it.\n",
    "\n",
    "#### Univariate analysis is the simplest form of data analysis — it examines just one variable at a time.\n",
    "\n",
    "#### Examples include: Bar Graphs, Histogram, Box Plot, Pie Chart"
   ]
  },
  {
   "cell_type": "markdown",
   "id": "0708ba4d",
   "metadata": {},
   "source": [
    "Class imbalance may exist, which is important to handle before training a model (through resampling or class weighting)."
   ]
  },
  {
   "cell_type": "markdown",
   "id": "4c0ca504",
   "metadata": {},
   "source": [
    "🔹 a) Tweet Length Distribution "
   ]
  },
  {
   "cell_type": "code",
   "execution_count": 14,
   "id": "67776fa4",
   "metadata": {},
   "outputs": [
    {
     "data": {
      "image/png": "[encoded data removed]",
      "text/plain": [
       "<Figure size 576x360 with 1 Axes>"
      ]
     },
     "metadata": {
      "needs_background": "light"
     },
     "output_type": "display_data"
    }
   ],
   "source": [
    "# Check distribution of Tweet lengths\n",
    "df_Tweet['tweet_length'] = df_Tweet['text'].apply(len)\n",
    "\n",
    "plt.figure(figsize=(8,5))\n",
    "sns.histplot(df_Tweet['tweet_length'], bins=30, kde=True, color='blue')\n",
    "plt.title('Distribution of Tweet Lengths')\n",
    "plt.xlabel('Tweet Length (characters)')\n",
    "plt.ylabel('Frequency')\n",
    "plt.show()"
   ]
  },
  {
   "cell_type": "markdown",
   "id": "fbd6d694",
   "metadata": {},
   "source": [
    "Most tweets are between 50–150 characters, suggesting tweets are short-form."
   ]
  },
  {
   "cell_type": "markdown",
   "id": "544f6cfc",
   "metadata": {},
   "source": [
    "🔹 b) Word Count Distribution"
   ]
  },
  {
   "cell_type": "code",
   "execution_count": 15,
   "id": "e63ecb31",
   "metadata": {},
   "outputs": [
    {
     "data": {
      "image/png": "[encoded data removed]",
      "text/plain": [
       "<Figure size 576x360 with 1 Axes>"
      ]
     },
     "metadata": {
      "needs_background": "light"
     },
     "output_type": "display_data"
    }
   ],
   "source": [
    "# Check the distribution of word counts in tweets\n",
    "df_Tweet['word_count'] = df_Tweet['text'].apply(lambda x: len(x.split()))\n",
    "\n",
    "plt.figure(figsize=(8,5))\n",
    "sns.histplot(df_Tweet['word_count'], bins=30, kde=True, color='coral')\n",
    "plt.title('Distribution of Word Counts in Tweets')\n",
    "plt.xlabel('Word Count')\n",
    "plt.ylabel('Frequency')\n",
    "plt.show()\n"
   ]
  },
  {
   "cell_type": "markdown",
   "id": "3571bbb3",
   "metadata": {},
   "source": [
    "Tweets have 5 to 20 words on average.\n",
    "\n",
    "Confirms that token-level feature engineering is manageable.\n"
   ]
  },
  {
   "cell_type": "markdown",
   "id": "eb50acf5",
   "metadata": {},
   "source": [
    "### **2. BIVARIATE ANALYSIS**\n",
    "#### Checking for correlations; multiple Xs and Y\n",
    "\n",
    "#### Bivariate analysis explores the relationship between two variables.\n",
    "\n",
    "#### Purpose: To identify whether and how the variables are related — for example, does one increase when the other does?\n",
    "\n",
    "#### Examples include: Heatmaps, Line Graphs,Bar Plot, Scatter Plot ."
   ]
  },
  {
   "cell_type": "markdown",
   "id": "f7c3b9c6",
   "metadata": {},
   "source": [
    "🔹 a) Tweet Length vs Sentiment (Target)"
   ]
  },
  {
   "cell_type": "code",
   "execution_count": 16,
   "id": "a38dad27",
   "metadata": {},
   "outputs": [
    {
     "data": {
      "image/png": "[encoded data removed]",
      "text/plain": [
       "<Figure size 720x864 with 1 Axes>"
      ]
     },
     "metadata": {
      "needs_background": "light"
     },
     "output_type": "display_data"
    }
   ],
   "source": [
    "#  Adding tweet length (character count)\n",
    "df_Tweet['tweet_length'] = df_Tweet['text'].astype(str).apply(len)\n",
    "\n",
    "# Adding word count (number of words in each tweet)\n",
    "df_Tweet['word_count'] = df_Tweet['text'].astype(str).apply(lambda x: len(x.split()))\n",
    "\n",
    "\n",
    "# Boxplot of Word Count by Sentiment\n",
    "plt.figure(figsize=(10, 12))\n",
    "sns.boxplot(\n",
    "    data=df_Tweet,\n",
    "    x='sentiment',  \n",
    "    y='tweet_length',\n",
    "    palette='Set3'\n",
    ")\n",
    "plt.title('Tweet Length by Sentiment')\n",
    "plt.xlabel('Sentiment (Emotion Directed at Product)')\n",
    "plt.ylabel('Tweet Length')\n",
    "plt.show()\n"
   ]
  },
  {
   "cell_type": "markdown",
   "id": "9d90a3c9",
   "metadata": {},
   "source": [
    "Tweets marked with emotion (Yes) are generally longer.\n",
    "\n",
    "Therefore the tweet length may be predictive of emotional content and can be included as a feature in modeling."
   ]
  },
  {
   "cell_type": "markdown",
   "id": "198e2a3a",
   "metadata": {},
   "source": [
    "🔹 b) Word Count vs Sentiment"
   ]
  },
  {
   "cell_type": "code",
   "execution_count": 17,
   "id": "d036186b",
   "metadata": {},
   "outputs": [
    {
     "data": {
      "image/png": "[encoded data removed]",
      "text/plain": [
       "<Figure size 720x864 with 1 Axes>"
      ]
     },
     "metadata": {
      "needs_background": "light"
     },
     "output_type": "display_data"
    }
   ],
   "source": [
    "# Boxplot of Word Count by Sentiment\n",
    "plt.figure(figsize=(10,12))\n",
    "sns.boxplot(data=df_Tweet, \n",
    "            x='sentiment', \n",
    "            y='word_count', \n",
    "            palette='Set2')\n",
    "plt.title('Word Count by Sentiment')\n",
    "plt.xlabel('Sentiment (Emotion Directed at Product)')\n",
    "plt.ylabel('Word Count')\n",
    "plt.show()\n"
   ]
  },
  {
   "cell_type": "markdown",
   "id": "c096e0d0",
   "metadata": {},
   "source": [
    "Emotional tweets tend to have more words, suggesting wordiness correlates with sentiment."
   ]
  },
  {
   "cell_type": "markdown",
   "id": "b53ad32d",
   "metadata": {},
   "source": [
    "### **3. MULTIVARIATE ANALYSIS**\n",
    "\n",
    "#### way of exploring how three or more variables (characteristics) relate to each other at the same time.\n",
    "\n",
    "#### Purpose: To understand complex relationships and interactions among multiple variables.\n",
    "\n",
    "#### Examples include: Heatmaps, Scatterplots, Pairplots, 3D Scatter Plot, Parallel Coordinates Plot\n"
   ]
  },
  {
   "cell_type": "markdown",
   "id": "f262ce6c",
   "metadata": {},
   "source": [
    "🔹 a) Emotion Target vs Sentiment"
   ]
  },
  {
   "cell_type": "code",
   "execution_count": 18,
   "id": "69fdeecd",
   "metadata": {},
   "outputs": [
    {
     "data": {
      "image/png": "[encoded data removed]",
      "text/plain": [
       "<Figure size 864x432 with 1 Axes>"
      ]
     },
     "metadata": {
      "needs_background": "light"
     },
     "output_type": "display_data"
    }
   ],
   "source": [
    "# Countplot of Sentiment (Emotion Present) by Emotion Target\n",
    "plt.figure(figsize=(12,6))\n",
    "sns.countplot(\n",
    "    data=df_Tweet, \n",
    "    x='target', \n",
    "    hue='sentiment', \n",
    "    palette='pastel'\n",
    ")\n",
    "plt.xticks(rotation=45)\n",
    "plt.title('Sentiment (Emotion Present) by Emotion Target')\n",
    "plt.xlabel('Entity the Emotion is Directed At')\n",
    "plt.ylabel('Tweet Count')\n",
    "plt.legend(title='Sentiment (Emotion Present)')\n",
    "plt.show()\n"
   ]
  },
  {
   "cell_type": "markdown",
   "id": "bccbb817",
   "metadata": {},
   "source": [
    "Some entities like 'Apple', 'iPad', and 'Google' receive a significantly higher number of emotionally-labeled tweets compared to others.\n",
    "\n",
    "This suggests that the entity being mentioned influences the presence of sentiment.\n",
    "\n",
    "**You can engineer a categorical feature from emotion_in_tweet_is_directed_at using target encoding or one-hot encoding.**"
   ]
  },
  {
   "cell_type": "markdown",
   "id": "cd17d67a",
   "metadata": {},
   "source": [
    "🔹 b) Tweet Length by Sentiment and Emotion Target"
   ]
  },
  {
   "cell_type": "code",
   "execution_count": 19,
   "id": "58239a85",
   "metadata": {},
   "outputs": [
    {
     "data": {
      "image/png": "[encoded data removed]",
      "text/plain": [
       "<Figure size 1008x432 with 1 Axes>"
      ]
     },
     "metadata": {
      "needs_background": "light"
     },
     "output_type": "display_data"
    }
   ],
   "source": [
    "# Boxplot of Tweet Length by Emotion Target and Sentiment\n",
    "plt.figure(figsize=(14,6))\n",
    "sns.boxplot(\n",
    "    data=df_Tweet, \n",
    "    x='target', \n",
    "    y='tweet_length', \n",
    "    hue='sentiment', \n",
    "    palette='Set1'\n",
    ")\n",
    "plt.xticks(rotation=45)\n",
    "plt.title('Tweet Length by Emotion Target and Sentiment')\n",
    "plt.xlabel('Emotion Directed At')\n",
    "plt.ylabel('Tweet Length')\n",
    "plt.legend(title='Sentient (Emotion Present)')\n",
    "plt.show()\n"
   ]
  },
  {
   "cell_type": "markdown",
   "id": "df32195a",
   "metadata": {},
   "source": [
    "Longer emotional tweets may be more prevalent for certain brands.\n",
    "\n",
    "Suggests an interaction effect between target entity and sentiment that could improve model performance.\n",
    "\n",
    "Use interaction terms or allow tree-based models to capture this."
   ]
  },
  {
   "cell_type": "markdown",
   "id": "e0b6cb95",
   "metadata": {},
   "source": [
    "🔹 c) Correlation Between Length and Word Count (Numerical Features)"
   ]
  },
  {
   "cell_type": "code",
   "execution_count": 20,
   "id": "b78f2bd2",
   "metadata": {},
   "outputs": [
    {
     "data": {
      "image/png": "[encoded data removed]",
      "text/plain": [
       "<Figure size 432x288 with 2 Axes>"
      ]
     },
     "metadata": {
      "needs_background": "light"
     },
     "output_type": "display_data"
    }
   ],
   "source": [
    "# Correlation Heatmap\n",
    "corr = df_Tweet[['tweet_length', 'word_count']].corr()\n",
    "sns.heatmap(corr, annot=True, cmap='Blues')\n",
    "plt.title('Correlation Between Tweet Length and Word Count')\n",
    "plt.show()"
   ]
  },
  {
   "cell_type": "markdown",
   "id": "7ce81ad2",
   "metadata": {},
   "source": [
    "Expect very high correlation (~0.9).\n",
    "\n",
    "Keep only one of these features (preferably word_count if using token-based models) to avoid redundancy."
   ]
  },
  {
   "cell_type": "markdown",
   "id": "81651178",
   "metadata": {},
   "source": [
    "# **4. TEXT PREPERATION AND CLASS BALANCING**\n",
    "In this step we, tokenize the tweet text into individual words for analysis and balance the sentiment classes to prevent model bias."
   ]
  },
  {
   "cell_type": "markdown",
   "id": "33ce14e2",
   "metadata": {},
   "source": [
    "1. Tokenization\n",
    "\n",
    "We break down the tweet text into individual words (tokens) to prepare it for analysis and modeling."
   ]
  },
  {
   "cell_type": "code",
   "execution_count": 21,
   "id": "9e2a6693",
   "metadata": {},
   "outputs": [],
   "source": [
    "# Word Tokenization\n",
    "df_Tweet['tokens'] = df_Tweet['clean_text'].apply(lambda x: x.split())"
   ]
  },
  {
   "cell_type": "markdown",
   "id": "fd7b02ff",
   "metadata": {},
   "source": [
    "2. Class Balancing\n",
    "We balanced the positive and negative sentiment classes to ensure fair and unbiased model training."
   ]
  },
  {
   "cell_type": "code",
   "execution_count": 22,
   "id": "d081a3f9",
   "metadata": {},
   "outputs": [
    {
     "name": "stdout",
     "output_type": "stream",
     "text": [
      "Class distribution before balancing:\n",
      "Positive emotion    2978\n",
      "Negative emotion    2978\n",
      "Name: sentiment, dtype: int64\n"
     ]
    }
   ],
   "source": [
    "# Check class distribution before balancing\n",
    "print(\"Class distribution before balancing:\")\n",
    "print(df_Tweet['sentiment'].value_counts())"
   ]
  },
  {
   "cell_type": "markdown",
   "id": "66a99acd",
   "metadata": {},
   "source": [
    "After checking the sentiment class distribution, we observed that the dataset is already balanced. Therefore, no additional resampling is necessary, and we proceed with the existing data."
   ]
  },
  {
   "cell_type": "code",
   "execution_count": 23,
   "id": "bc186dc0",
   "metadata": {},
   "outputs": [],
   "source": [
    "# Save the Cleaned Dataset to CSV\n",
    "df_Tweet.to_csv('Data/Cleaned_Tweet.csv', index=False)\n"
   ]
  },
  {
   "cell_type": "markdown",
   "id": "aabc685e",
   "metadata": {},
   "source": [
    "# 5. Feature Engineering\n",
    "In this section, we will be transforming the raw data into more meaningful inputs to improve the machine learning model's (in this case Natural Language Processing) performance."
   ]
  },
  {
   "cell_type": "code",
   "execution_count": 24,
   "id": "a19cd252",
   "metadata": {},
   "outputs": [
    {
     "name": "stdout",
     "output_type": "stream",
     "text": [
      "<class 'pandas.core.frame.DataFrame'>\n",
      "RangeIndex: 5956 entries, 0 to 5955\n",
      "Data columns (total 9 columns):\n",
      " #   Column          Non-Null Count  Dtype \n",
      "---  ------          --------------  ----- \n",
      " 0   text            5956 non-null   object\n",
      " 1   target          5389 non-null   object\n",
      " 2   sentiment       5956 non-null   object\n",
      " 3   clean_text      5956 non-null   object\n",
      " 4   word_count      5956 non-null   int64 \n",
      " 5   emotion_binary  5956 non-null   int64 \n",
      " 6   brand           5389 non-null   object\n",
      " 7   tweet_length    5956 non-null   int64 \n",
      " 8   tokens          5956 non-null   object\n",
      "dtypes: int64(3), object(6)\n",
      "memory usage: 418.9+ KB\n"
     ]
    }
   ],
   "source": [
    "# First overview the cleaned dataset\n",
    "df_Tweet.info()"
   ]
  },
  {
   "cell_type": "markdown",
   "id": "2d37f0f6",
   "metadata": {},
   "source": [
    "Since we will be classifying the tweets by sentiment, we must analyse that column"
   ]
  },
  {
   "cell_type": "code",
   "execution_count": 25,
   "id": "40dd5fba",
   "metadata": {},
   "outputs": [
    {
     "data": {
      "text/plain": [
       "Positive emotion    2978\n",
       "Negative emotion    2978\n",
       "Name: sentiment, dtype: int64"
      ]
     },
     "execution_count": 25,
     "metadata": {},
     "output_type": "execute_result"
    }
   ],
   "source": [
    "# Look at the distribution of different sentiments\n",
    "df_Tweet['sentiment'].value_counts()"
   ]
  },
  {
   "cell_type": "code",
   "execution_count": 26,
   "id": "806aa3df",
   "metadata": {},
   "outputs": [],
   "source": [
    "# Filter out the inconclusive sentiments for modelling purposes\n",
    "df = df_Tweet[df_Tweet['sentiment'] != \"I can't tell\"]"
   ]
  },
  {
   "cell_type": "markdown",
   "id": "fbb91499",
   "metadata": {},
   "source": [
    "**Stop words and stemming**\n",
    "\n",
    "Next, we remove stop words like “a,” “and,” “but,” that carry little meaningful information and can introduce noise into our model.  \n",
    "We also apply stemming, which reduces words to their root form (e.g., “running” → “run”). This helps group together words with similar meanings and reduces the vocabulary size, improving model generalisation."
   ]
  },
  {
   "cell_type": "code",
   "execution_count": 27,
   "id": "7863a65a",
   "metadata": {},
   "outputs": [
    {
     "name": "stderr",
     "output_type": "stream",
     "text": [
      "[nltk_data] Downloading package stopwords to\n",
      "[nltk_data]     C:\\Users\\admin\\AppData\\Roaming\\nltk_data...\n",
      "[nltk_data]   Package stopwords is already up-to-date!\n"
     ]
    }
   ],
   "source": [
    "# Import the relevant libraries\n",
    "import nltk\n",
    "nltk.download('stopwords')\n",
    "from nltk.corpus import stopwords\n",
    "from nltk.stem import PorterStemmer\n",
    "\n",
    "# Create a list of stopwords in English\n",
    "stopwords_list = stopwords.words('english')\n",
    "\n",
    "# Create an instance of nltk's PorterStemmer\n",
    "stemmer = PorterStemmer()"
   ]
  },
  {
   "cell_type": "code",
   "execution_count": 28,
   "id": "2595116e",
   "metadata": {},
   "outputs": [],
   "source": [
    "# Create a text preprocessing function\n",
    "def preprocess_text(tokens):\n",
    "    # Ensure input is a list of tokens and return empty string if not\n",
    "    if not isinstance(tokens, list):\n",
    "        return \"\"\n",
    "    \n",
    "    # Remove stopwords from token list\n",
    "    tokens_stopped = [i for i in tokens if i not in stopwords_list]\n",
    "    \n",
    "    # Apply stemming to remaining tokens\n",
    "    stems = [stemmer.stem(i) for i in tokens_stopped]\n",
    "    \n",
    "    # Return stemmed tokens joined back into a single string\n",
    "    return ' '.join(stems)"
   ]
  },
  {
   "cell_type": "code",
   "execution_count": 29,
   "id": "5dd46cf1",
   "metadata": {},
   "outputs": [],
   "source": [
    "# Apply the preprocessing function to the 'tokens' column\n",
    "df['preprocessed_text'] = df['tokens'].apply(preprocess_text)"
   ]
  },
  {
   "cell_type": "markdown",
   "id": "c573cebc",
   "metadata": {},
   "source": [
    "**TF-IDF Vectorization with N-grams**  \n",
    "In this step, we convert the preprocessed tweet text into numerical features using `TfidfVectorizer`\n",
    "\n",
    "This vectorization will include unigrams and bigrams"
   ]
  },
  {
   "cell_type": "code",
   "execution_count": 30,
   "id": "545af917",
   "metadata": {},
   "outputs": [
    {
     "data": {
      "text/html": [
       "<div>\n",
       "<style scoped>\n",
       "    .dataframe tbody tr th:only-of-type {\n",
       "        vertical-align: middle;\n",
       "    }\n",
       "\n",
       "    .dataframe tbody tr th {\n",
       "        vertical-align: top;\n",
       "    }\n",
       "\n",
       "    .dataframe thead th {\n",
       "        text-align: right;\n",
       "    }\n",
       "</style>\n",
       "<table border=\"1\" class=\"dataframe\">\n",
       "  <thead>\n",
       "    <tr style=\"text-align: right;\">\n",
       "      <th></th>\n",
       "      <th>text</th>\n",
       "      <th>target</th>\n",
       "      <th>sentiment</th>\n",
       "      <th>clean_text</th>\n",
       "      <th>word_count</th>\n",
       "      <th>emotion_binary</th>\n",
       "      <th>brand</th>\n",
       "      <th>tweet_length</th>\n",
       "      <th>tokens</th>\n",
       "      <th>preprocessed_text</th>\n",
       "    </tr>\n",
       "  </thead>\n",
       "  <tbody>\n",
       "    <tr>\n",
       "      <th>0</th>\n",
       "      <td>RT @mention Will overload of info delivered by...</td>\n",
       "      <td>NaN</td>\n",
       "      <td>Negative emotion</td>\n",
       "      <td>rt @mention will overload of info delivered by...</td>\n",
       "      <td>23</td>\n",
       "      <td>0</td>\n",
       "      <td>NaN</td>\n",
       "      <td>149</td>\n",
       "      <td>[rt, @mention, will, overload, of, info, deliv...</td>\n",
       "      <td>rt @mention overload info deliv googl kill dis...</td>\n",
       "    </tr>\n",
       "    <tr>\n",
       "      <th>1</th>\n",
       "      <td>#sxsw At #smileyparty and really want to win s...</td>\n",
       "      <td>iPad</td>\n",
       "      <td>Positive emotion</td>\n",
       "      <td>#sxsw at #smileyparty and really want to win s...</td>\n",
       "      <td>10</td>\n",
       "      <td>1</td>\n",
       "      <td>Apple</td>\n",
       "      <td>57</td>\n",
       "      <td>[#sxsw, at, #smileyparty, and, really, want, t...</td>\n",
       "      <td>#sxsw #smileyparti realli want win sn ipad!!!!!</td>\n",
       "    </tr>\n",
       "    <tr>\n",
       "      <th>2</th>\n",
       "      <td>Clearly Apple has another daylight savings tim...</td>\n",
       "      <td>iPhone</td>\n",
       "      <td>Negative emotion</td>\n",
       "      <td>clearly apple has another daylight savings tim...</td>\n",
       "      <td>24</td>\n",
       "      <td>0</td>\n",
       "      <td>Apple</td>\n",
       "      <td>137</td>\n",
       "      <td>[clearly, apple, has, another, daylight, savin...</td>\n",
       "      <td>clearli appl anoth daylight save time bug ipho...</td>\n",
       "    </tr>\n",
       "    <tr>\n",
       "      <th>3</th>\n",
       "      <td>LOL 2 true RT @mention It's official: people u...</td>\n",
       "      <td>iPad</td>\n",
       "      <td>Negative emotion</td>\n",
       "      <td>lol 2 true rt @mention it's official: people u...</td>\n",
       "      <td>19</td>\n",
       "      <td>0</td>\n",
       "      <td>Apple</td>\n",
       "      <td>99</td>\n",
       "      <td>[lol, 2, true, rt, @mention, it's, official:, ...</td>\n",
       "      <td>lol 2 true rt @mention official: peopl use ipa...</td>\n",
       "    </tr>\n",
       "    <tr>\n",
       "      <th>4</th>\n",
       "      <td>Free on the #iTunes store, 22 tracks from #SXS...</td>\n",
       "      <td>Apple</td>\n",
       "      <td>Positive emotion</td>\n",
       "      <td>free on the #itunes store, 22 tracks from #sxs...</td>\n",
       "      <td>20</td>\n",
       "      <td>1</td>\n",
       "      <td>Apple</td>\n",
       "      <td>115</td>\n",
       "      <td>[free, on, the, #itunes, store,, 22, tracks, f...</td>\n",
       "      <td>free #itun store, 22 track #sxsw featur artist...</td>\n",
       "    </tr>\n",
       "    <tr>\n",
       "      <th>...</th>\n",
       "      <td>...</td>\n",
       "      <td>...</td>\n",
       "      <td>...</td>\n",
       "      <td>...</td>\n",
       "      <td>...</td>\n",
       "      <td>...</td>\n",
       "      <td>...</td>\n",
       "      <td>...</td>\n",
       "      <td>...</td>\n",
       "      <td>...</td>\n",
       "    </tr>\n",
       "    <tr>\n",
       "      <th>5951</th>\n",
       "      <td>I just noticed DST is coming this weekend. How...</td>\n",
       "      <td>iPhone</td>\n",
       "      <td>Negative emotion</td>\n",
       "      <td>i just noticed dst is coming this weekend. how...</td>\n",
       "      <td>24</td>\n",
       "      <td>0</td>\n",
       "      <td>Apple</td>\n",
       "      <td>128</td>\n",
       "      <td>[i, just, noticed, dst, is, coming, this, week...</td>\n",
       "      <td>notic dst come weekend. mani iphon user hour l...</td>\n",
       "    </tr>\n",
       "    <tr>\n",
       "      <th>5952</th>\n",
       "      <td>@mention Best thing I've heard at #SXSW &amp;quot;...</td>\n",
       "      <td>iPad</td>\n",
       "      <td>Negative emotion</td>\n",
       "      <td>@mention best thing i've heard at #sxsw &amp;quot;...</td>\n",
       "      <td>24</td>\n",
       "      <td>0</td>\n",
       "      <td>Apple</td>\n",
       "      <td>138</td>\n",
       "      <td>[@mention, best, thing, i've, heard, at, #sxsw...</td>\n",
       "      <td>@mention best thing heard #sxsw &amp;quot;i gave i...</td>\n",
       "    </tr>\n",
       "    <tr>\n",
       "      <th>5953</th>\n",
       "      <td>#google to expensive mobile data plans are kil...</td>\n",
       "      <td>Google</td>\n",
       "      <td>Negative emotion</td>\n",
       "      <td>#google to expensive mobile data plans are kil...</td>\n",
       "      <td>16</td>\n",
       "      <td>0</td>\n",
       "      <td>Google</td>\n",
       "      <td>104</td>\n",
       "      <td>[#google, to, expensive, mobile, data, plans, ...</td>\n",
       "      <td>#googl expens mobil data plan kill flavor cont...</td>\n",
       "    </tr>\n",
       "    <tr>\n",
       "      <th>5954</th>\n",
       "      <td>@mention Instagram, but it's iPhone only at th...</td>\n",
       "      <td>iPhone</td>\n",
       "      <td>Negative emotion</td>\n",
       "      <td>@mention instagram, but it's iphone only at th...</td>\n",
       "      <td>23</td>\n",
       "      <td>0</td>\n",
       "      <td>Apple</td>\n",
       "      <td>135</td>\n",
       "      <td>[@mention, instagram,, but, it's, iphone, only...</td>\n",
       "      <td>@mention instagram, iphon moment mister &amp;quot;...</td>\n",
       "    </tr>\n",
       "    <tr>\n",
       "      <th>5955</th>\n",
       "      <td>Download Daily Grape  - a new app from @mentio...</td>\n",
       "      <td>iPad or iPhone App</td>\n",
       "      <td>Positive emotion</td>\n",
       "      <td>download daily grape  - a new app from @mentio...</td>\n",
       "      <td>23</td>\n",
       "      <td>1</td>\n",
       "      <td>Apple</td>\n",
       "      <td>114</td>\n",
       "      <td>[download, daily, grape, -, a, new, app, from,...</td>\n",
       "      <td>download daili grape - new app @mention iphone...</td>\n",
       "    </tr>\n",
       "  </tbody>\n",
       "</table>\n",
       "<p>5956 rows × 10 columns</p>\n",
       "</div>"
      ],
      "text/plain": [
       "                                                   text              target  \\\n",
       "0     RT @mention Will overload of info delivered by...                 NaN   \n",
       "1     #sxsw At #smileyparty and really want to win s...                iPad   \n",
       "2     Clearly Apple has another daylight savings tim...              iPhone   \n",
       "3     LOL 2 true RT @mention It's official: people u...                iPad   \n",
       "4     Free on the #iTunes store, 22 tracks from #SXS...               Apple   \n",
       "...                                                 ...                 ...   \n",
       "5951  I just noticed DST is coming this weekend. How...              iPhone   \n",
       "5952  @mention Best thing I've heard at #SXSW &quot;...                iPad   \n",
       "5953  #google to expensive mobile data plans are kil...              Google   \n",
       "5954  @mention Instagram, but it's iPhone only at th...              iPhone   \n",
       "5955  Download Daily Grape  - a new app from @mentio...  iPad or iPhone App   \n",
       "\n",
       "             sentiment                                         clean_text  \\\n",
       "0     Negative emotion  rt @mention will overload of info delivered by...   \n",
       "1     Positive emotion  #sxsw at #smileyparty and really want to win s...   \n",
       "2     Negative emotion  clearly apple has another daylight savings tim...   \n",
       "3     Negative emotion  lol 2 true rt @mention it's official: people u...   \n",
       "4     Positive emotion  free on the #itunes store, 22 tracks from #sxs...   \n",
       "...                ...                                                ...   \n",
       "5951  Negative emotion  i just noticed dst is coming this weekend. how...   \n",
       "5952  Negative emotion  @mention best thing i've heard at #sxsw &quot;...   \n",
       "5953  Negative emotion  #google to expensive mobile data plans are kil...   \n",
       "5954  Negative emotion  @mention instagram, but it's iphone only at th...   \n",
       "5955  Positive emotion  download daily grape  - a new app from @mentio...   \n",
       "\n",
       "      word_count  emotion_binary   brand  tweet_length  \\\n",
       "0             23               0     NaN           149   \n",
       "1             10               1   Apple            57   \n",
       "2             24               0   Apple           137   \n",
       "3             19               0   Apple            99   \n",
       "4             20               1   Apple           115   \n",
       "...          ...             ...     ...           ...   \n",
       "5951          24               0   Apple           128   \n",
       "5952          24               0   Apple           138   \n",
       "5953          16               0  Google           104   \n",
       "5954          23               0   Apple           135   \n",
       "5955          23               1   Apple           114   \n",
       "\n",
       "                                                 tokens  \\\n",
       "0     [rt, @mention, will, overload, of, info, deliv...   \n",
       "1     [#sxsw, at, #smileyparty, and, really, want, t...   \n",
       "2     [clearly, apple, has, another, daylight, savin...   \n",
       "3     [lol, 2, true, rt, @mention, it's, official:, ...   \n",
       "4     [free, on, the, #itunes, store,, 22, tracks, f...   \n",
       "...                                                 ...   \n",
       "5951  [i, just, noticed, dst, is, coming, this, week...   \n",
       "5952  [@mention, best, thing, i've, heard, at, #sxsw...   \n",
       "5953  [#google, to, expensive, mobile, data, plans, ...   \n",
       "5954  [@mention, instagram,, but, it's, iphone, only...   \n",
       "5955  [download, daily, grape, -, a, new, app, from,...   \n",
       "\n",
       "                                      preprocessed_text  \n",
       "0     rt @mention overload info deliv googl kill dis...  \n",
       "1       #sxsw #smileyparti realli want win sn ipad!!!!!  \n",
       "2     clearli appl anoth daylight save time bug ipho...  \n",
       "3     lol 2 true rt @mention official: peopl use ipa...  \n",
       "4     free #itun store, 22 track #sxsw featur artist...  \n",
       "...                                                 ...  \n",
       "5951  notic dst come weekend. mani iphon user hour l...  \n",
       "5952  @mention best thing heard #sxsw &quot;i gave i...  \n",
       "5953  #googl expens mobil data plan kill flavor cont...  \n",
       "5954  @mention instagram, iphon moment mister &quot;...  \n",
       "5955  download daili grape - new app @mention iphone...  \n",
       "\n",
       "[5956 rows x 10 columns]"
      ]
     },
     "execution_count": 30,
     "metadata": {},
     "output_type": "execute_result"
    }
   ],
   "source": [
    "df"
   ]
  },
  {
   "cell_type": "code",
   "execution_count": 31,
   "id": "ac5dd09f",
   "metadata": {},
   "outputs": [],
   "source": [
    "# Import relevant library\n",
    "from sklearn.feature_extraction.text import TfidfVectorizer\n",
    "\n",
    "# Initialize a TF-IDF vectorizer to extract unigrams and bigrams\n",
    "# Limit the vocabulary to the 10,000 most frequent terms\n",
    "vectorizer = TfidfVectorizer(ngram_range=(1, 2), max_features=10000)\n",
    "\n",
    "# Fit the vectorizer to the preprocessed text and transform the text into a sparse matrix\n",
    "X = vectorizer.fit_transform(df['preprocessed_text'])"
   ]
  },
  {
   "cell_type": "code",
   "execution_count": 32,
   "id": "6f7df1eb",
   "metadata": {},
   "outputs": [],
   "source": [
    "# Extract the target variable (sentiment labels) from the DataFrame\n",
    "y = df['sentiment']"
   ]
  },
  {
   "cell_type": "markdown",
   "id": "dc943dfa",
   "metadata": {},
   "source": [
    "**Feature Selection Using Mutual Information**  \n",
    "We use `mutual_info_classif` to calculate the mutual information between each n-gram feature in `X` and the target sentiment label `y`.  \n",
    "\n",
    "Mutual information measures how much knowing a feature reduces uncertainty about the target."
   ]
  },
  {
   "cell_type": "code",
   "execution_count": 33,
   "id": "0bfd40fa-332e-42b9-b083-277c3d9de5ba",
   "metadata": {},
   "outputs": [],
   "source": [
    "import warnings\n",
    "warnings.filterwarnings(\"ignore\")"
   ]
  },
  {
   "cell_type": "code",
   "execution_count": 34,
   "id": "64ebe00e",
   "metadata": {},
   "outputs": [],
   "source": [
    "# Import relevant library\n",
    "from sklearn.feature_selection import mutual_info_classif\n",
    "\n",
    "# Calculate Mutual Information scores between each feature (column in X) and the target variable y\n",
    "mi_scores = mutual_info_classif(X, y, discrete_features=True)"
   ]
  },
  {
   "cell_type": "code",
   "execution_count": 36,
   "id": "b67b5f82",
   "metadata": {},
   "outputs": [
    {
     "name": "stdout",
     "output_type": "stream",
     "text": [
      "      feature  mi_score\n",
      "8304     sxsw  0.693147\n",
      "5486  mention  0.333245\n",
      "4116     ipad  0.222578\n",
      "4945     link  0.211787\n",
      "7315       rt  0.175219\n"
     ]
    }
   ],
   "source": [
    "# Get the list of feature (n-gram) names from the vectorizer\n",
    "# Get feature (n-gram) names\n",
    "feature_names = vectorizer.get_feature_names_out()\n",
    "\n",
    "# Create DataFrame with mutual information scores\n",
    "mi_df = pd.DataFrame({\n",
    "    'feature': feature_names,\n",
    "    'mi_score': mi_scores\n",
    "}).sort_values(by='mi_score', ascending=False)\n",
    "\n",
    "# Show top features\n",
    "print(mi_df.head())"
   ]
  },
  {
   "cell_type": "code",
   "execution_count": 37,
   "id": "ba90b555",
   "metadata": {},
   "outputs": [
    {
     "data": {
      "image/png": "[encoded data removed]",
      "text/plain": [
       "<Figure size 720x864 with 1 Axes>"
      ]
     },
     "metadata": {
      "needs_background": "light"
     },
     "output_type": "display_data"
    }
   ],
   "source": [
    "# Plot the frequency of these n-gram features\n",
    "# Import relevant library\n",
    "import matplotlib.pyplot as plt\n",
    "\n",
    "# Select the top 50 features with the highest mutual information scores\n",
    "top_n = 50\n",
    "top_mi = mi_df.head(top_n)\n",
    "\n",
    "plt.figure(figsize=(10, 12))\n",
    "plt.barh(top_mi['feature'][::-1], top_mi['mi_score'][::-1]) # Reverse order to show highest at the top\n",
    "plt.title('Top 50 Features by Mutual Information Score')\n",
    "plt.xlabel('MI Score')\n",
    "plt.tight_layout()\n",
    "plt.show()"
   ]
  },
  {
   "cell_type": "markdown",
   "id": "1fc07b0f",
   "metadata": {},
   "source": [
    "**Reverting to Unigrams Only**  \n",
    "After reviewing the top 50 features ranked by mutual information, it’s clear that most of the informative terms are unigrams. The included bigrams either overlap with these single words or do not appear to add significant value in capturing sentiment.\n",
    "\n",
    "For simplicity and interpretability, we will revert to using unigrams only."
   ]
  },
  {
   "cell_type": "code",
   "execution_count": 38,
   "id": "d1169b69",
   "metadata": {},
   "outputs": [],
   "source": [
    "# Initialize a TF-IDF vectorizer to extract unigrams\n",
    "# Limit the vocabulary to the 10,000 most frequent terms\n",
    "vectorizer_unigram = TfidfVectorizer(ngram_range=(1, 1), max_features=10000)\n",
    "\n",
    "\n",
    "X = vectorizer_unigram.fit_transform(df['preprocessed_text'])"
   ]
  },
  {
   "cell_type": "markdown",
   "id": "36fb85ad",
   "metadata": {},
   "source": [
    "## Feature Engineering Pipeline\n",
    "In this section, we encapsulate the feature engineering steps into a reusable pipeline using `scikit-learn`'s `Pipeline` and `FunctionTransformer`. This will allow these processing steps to be applied to training and test data for the model without risking data leakage."
   ]
  },
  {
   "cell_type": "code",
   "execution_count": 39,
   "id": "4983b279",
   "metadata": {},
   "outputs": [],
   "source": [
    "# Import relevant library\n",
    "from sklearn.preprocessing import FunctionTransformer\n",
    "\n",
    "# Create a custom transformer using FunctionTransformer to apply the text preprocessing function\n",
    "# The lambda takes a list of token lists and applies 'preprocess_text' function to each\n",
    "text_cleaner = FunctionTransformer(\n",
    "    lambda texts: [preprocess_text(tokens) for tokens in texts],\n",
    "    validate=False\n",
    ")"
   ]
  },
  {
   "cell_type": "code",
   "execution_count": 40,
   "id": "1ab40271",
   "metadata": {},
   "outputs": [],
   "source": [
    "# Import relevant library\n",
    "from sklearn.pipeline import Pipeline\n",
    "\n",
    "# Create a feature engineering pipeline that applies text cleaning followed by TF-IDF vectorization\n",
    "fe_pipeline = Pipeline([\n",
    "    ('cleaner', text_cleaner),  # stopword removal + stemming\n",
    "    ('tfidf', TfidfVectorizer(ngram_range=(1, 1), max_features=10000)) # Unigram TF-IDF vectorization\n",
    "])"
   ]
  },
  {
   "cell_type": "markdown",
   "id": "2bec1f38-6a62-4055-b264-e236252be477",
   "metadata": {},
   "source": [
    "# **6.MODELING**"
   ]
  },
  {
   "cell_type": "markdown",
   "id": "31091476-fad0-4e43-83e5-b33f2c5e8ae3",
   "metadata": {},
   "source": [
    "### Prepare Dataset for Binary Classification using Baseline Models."
   ]
  },
  {
   "cell_type": "markdown",
   "id": "a3d00bc4-3bcd-452f-abb1-c673471b5ec5",
   "metadata": {},
   "source": [
    "We will:\n",
    "\n",
    "- Filter the dataset to include only positive and negative sentiment tweets.\n",
    "\n",
    "- Map them to binary labels:\n",
    "\n",
    "   \"Positive emotion\" → 1\n",
    "\n",
    "   \"Negative emotion\" → 0"
   ]
  },
  {
   "cell_type": "code",
   "execution_count": 41,
   "id": "e41a985f-35ca-4ca6-81e7-a1a822c3ae7d",
   "metadata": {},
   "outputs": [
    {
     "name": "stdout",
     "output_type": "stream",
     "text": [
      "1    2978\n",
      "0    2978\n",
      "Name: label, dtype: int64\n"
     ]
    },
    {
     "data": {
      "text/html": [
       "<div>\n",
       "<style scoped>\n",
       "    .dataframe tbody tr th:only-of-type {\n",
       "        vertical-align: middle;\n",
       "    }\n",
       "\n",
       "    .dataframe tbody tr th {\n",
       "        vertical-align: top;\n",
       "    }\n",
       "\n",
       "    .dataframe thead th {\n",
       "        text-align: right;\n",
       "    }\n",
       "</style>\n",
       "<table border=\"1\" class=\"dataframe\">\n",
       "  <thead>\n",
       "    <tr style=\"text-align: right;\">\n",
       "      <th></th>\n",
       "      <th>preprocessed_text</th>\n",
       "      <th>sentiment</th>\n",
       "      <th>label</th>\n",
       "    </tr>\n",
       "  </thead>\n",
       "  <tbody>\n",
       "    <tr>\n",
       "      <th>0</th>\n",
       "      <td>rt @mention overload info deliv googl kill dis...</td>\n",
       "      <td>Negative emotion</td>\n",
       "      <td>0</td>\n",
       "    </tr>\n",
       "    <tr>\n",
       "      <th>1</th>\n",
       "      <td>#sxsw #smileyparti realli want win sn ipad!!!!!</td>\n",
       "      <td>Positive emotion</td>\n",
       "      <td>1</td>\n",
       "    </tr>\n",
       "    <tr>\n",
       "      <th>2</th>\n",
       "      <td>clearli appl anoth daylight save time bug ipho...</td>\n",
       "      <td>Negative emotion</td>\n",
       "      <td>0</td>\n",
       "    </tr>\n",
       "    <tr>\n",
       "      <th>3</th>\n",
       "      <td>lol 2 true rt @mention official: peopl use ipa...</td>\n",
       "      <td>Negative emotion</td>\n",
       "      <td>0</td>\n",
       "    </tr>\n",
       "    <tr>\n",
       "      <th>4</th>\n",
       "      <td>free #itun store, 22 track #sxsw featur artist...</td>\n",
       "      <td>Positive emotion</td>\n",
       "      <td>1</td>\n",
       "    </tr>\n",
       "  </tbody>\n",
       "</table>\n",
       "</div>"
      ],
      "text/plain": [
       "                                   preprocessed_text         sentiment  label\n",
       "0  rt @mention overload info deliv googl kill dis...  Negative emotion      0\n",
       "1    #sxsw #smileyparti realli want win sn ipad!!!!!  Positive emotion      1\n",
       "2  clearli appl anoth daylight save time bug ipho...  Negative emotion      0\n",
       "3  lol 2 true rt @mention official: peopl use ipa...  Negative emotion      0\n",
       "4  free #itun store, 22 track #sxsw featur artist...  Positive emotion      1"
      ]
     },
     "execution_count": 41,
     "metadata": {},
     "output_type": "execute_result"
    }
   ],
   "source": [
    "# Filter for positive and negative sentiment only\n",
    "df_binary = df[df['sentiment'].isin(['Positive emotion', 'Negative emotion'])].copy()\n",
    "\n",
    "# Map sentiments to binary labels: Positive = 1, Negative = 0\n",
    "df_binary['label'] = df_binary['sentiment'].map({\n",
    "    'Positive emotion': 1,\n",
    "    'Negative emotion': 0\n",
    "})\n",
    "\n",
    "# Confirm class distribution\n",
    "print(df_binary['label'].value_counts())\n",
    "\n",
    "# Optional: check head\n",
    "df_binary[['preprocessed_text', 'sentiment', 'label']].head()\n"
   ]
  },
  {
   "cell_type": "markdown",
   "id": "18c3dd86-ca03-4267-b4ee-6a134a23e2f6",
   "metadata": {},
   "source": [
    "### Train/test split and baseline model training (Naive Bayes + Logistic Regression)"
   ]
  },
  {
   "cell_type": "markdown",
   "id": "84e73370-3101-4047-9217-3ad695f0531e",
   "metadata": {},
   "source": [
    "We’ll split df_binary into training and testing sets for model evaluation."
   ]
  },
  {
   "cell_type": "code",
   "execution_count": 57,
   "id": "30f23ddb-f552-4a71-860d-8e6eb4f184ce",
   "metadata": {},
   "outputs": [
    {
     "name": "stdout",
     "output_type": "stream",
     "text": [
      "Train size: 4764\n",
      "Test size: 1192\n"
     ]
    }
   ],
   "source": [
    "from sklearn.model_selection import train_test_split\n",
    "\n",
    "# Input features (preprocessed tweet text) and labels\n",
    "X = df_binary['preprocessed_text']\n",
    "y = df_binary['label']\n",
    "\n",
    "# Split into training (80%) and test (20%) sets\n",
    "X_train, X_test, y_train, y_test = train_test_split(\n",
    "    X, y, test_size=0.2, random_state=42, stratify=y\n",
    ")\n",
    "\n",
    "# Confirm shape\n",
    "print(\"Train size:\", X_train.shape[0])\n",
    "print(\"Test size:\", X_test.shape[0])"
   ]
  },
  {
   "cell_type": "markdown",
   "id": "6667f051-4ccb-4952-91c4-8c3145f7e842",
   "metadata": {},
   "source": [
    "### TF-IDF Vectorization\n",
    "\n",
    "We use the same unigram TF-IDF vectorizer from before to transform the text data."
   ]
  },
  {
   "cell_type": "code",
   "execution_count": 43,
   "id": "1e039590-145f-423f-aeab-4eca1afb1cae",
   "metadata": {},
   "outputs": [],
   "source": [
    "from sklearn.feature_extraction.text import TfidfVectorizer\n",
    "\n",
    "# Initialize vectorizer\n",
    "vectorizer = TfidfVectorizer(ngram_range=(1,1), max_features=10000)\n",
    "\n",
    "# Fit on training and transform both sets\n",
    "X_train_vec = vectorizer.fit_transform(X_train)\n",
    "X_test_vec = vectorizer.transform(X_test)"
   ]
  },
  {
   "cell_type": "markdown",
   "id": "fa36f437-9e0c-4cdb-a506-51a8106b1c58",
   "metadata": {},
   "source": [
    "### Training Baseline Models\n",
    "\n",
    "We’ll start with:\n",
    "\n",
    "   - Multinomial Naive Bayes\n",
    "\n",
    "   - Logistic Regression"
   ]
  },
  {
   "cell_type": "code",
   "execution_count": 61,
   "id": "b2e8b49a-fdbf-4d24-9193-540a0f9e7b7a",
   "metadata": {},
   "outputs": [
    {
     "name": "stdout",
     "output_type": "stream",
     "text": [
      "Naive Bayes – training complete.\n",
      "Logistic Regression – training complete.\n"
     ]
    }
   ],
   "source": [
    "\n",
    "from sklearn.naive_bayes import MultinomialNB\n",
    "from sklearn.linear_model import LogisticRegression\n",
    "\n",
    "# Define the models\n",
    "models = {\n",
    "    \"Naive Bayes\": MultinomialNB(),\n",
    "    \"Logistic Regression\": LogisticRegression(max_iter=1000, random_state=42)\n",
    "}\n",
    "\n",
    "# Fit each model on the training data\n",
    "for name, model in models.items():\n",
    "    model.fit(X_train_vec, y_train)\n",
    "    print(f\"{name} – training complete.\")\n"
   ]
  },
  {
   "cell_type": "markdown",
   "id": "79ad443d-eee8-42d2-a2bb-d15a5b38d6ed",
   "metadata": {},
   "source": [
    "### Evaluating the Models.\n",
    "\n",
    "We will use classification report and confusion matrix."
   ]
  },
  {
   "cell_type": "code",
   "execution_count": 62,
   "id": "5151950e-a40c-4599-9912-a8000350d801",
   "metadata": {},
   "outputs": [
    {
     "name": "stdout",
     "output_type": "stream",
     "text": [
      "\n",
      "## Naive Bayes Evaluation\n",
      "**Accuracy:** 0.9128\n",
      "\n",
      "**Classification Report:**\n",
      "              precision    recall  f1-score   support\n",
      "\n",
      "    Negative       0.88      0.95      0.92       596\n",
      "    Positive       0.95      0.87      0.91       596\n",
      "\n",
      "    accuracy                           0.91      1192\n",
      "   macro avg       0.92      0.91      0.91      1192\n",
      "weighted avg       0.92      0.91      0.91      1192\n",
      "\n"
     ]
    },
    {
     "data": {
      "image/png": "[encoded data removed]",
      "text/plain": [
       "<Figure size 432x288 with 2 Axes>"
      ]
     },
     "metadata": {
      "needs_background": "light"
     },
     "output_type": "display_data"
    },
    {
     "name": "stdout",
     "output_type": "stream",
     "text": [
      "\n",
      "## Logistic Regression Evaluation\n",
      "**Accuracy:** 0.9128\n",
      "\n",
      "**Classification Report:**\n",
      "              precision    recall  f1-score   support\n",
      "\n",
      "    Negative       0.89      0.94      0.92       596\n",
      "    Positive       0.94      0.89      0.91       596\n",
      "\n",
      "    accuracy                           0.91      1192\n",
      "   macro avg       0.91      0.91      0.91      1192\n",
      "weighted avg       0.91      0.91      0.91      1192\n",
      "\n"
     ]
    },
    {
     "data": {
      "image/png": "[encoded data removed]",
      "text/plain": [
       "<Figure size 432x288 with 2 Axes>"
      ]
     },
     "metadata": {
      "needs_background": "light"
     },
     "output_type": "display_data"
    }
   ],
   "source": [
    "from sklearn.metrics import classification_report, accuracy_score, ConfusionMatrixDisplay\n",
    "import matplotlib.pyplot as plt\n",
    "\n",
    "for name, model in models.items():\n",
    "    # Predict\n",
    "    y_pred = model.predict(X_test_vec)\n",
    "\n",
    "    # Accuracy\n",
    "    acc = accuracy_score(y_test, y_pred)\n",
    "\n",
    "    # Output results\n",
    "    print(f\"\\n## {name} Evaluation\")\n",
    "    print(f\"**Accuracy:** {acc:.4f}\")\n",
    "    print(\"\\n**Classification Report:**\")\n",
    "    print(classification_report(y_test, y_pred, target_names=['Negative', 'Positive']))\n",
    "\n",
    "    # Confusion Matrix\n",
    "    ConfusionMatrixDisplay.from_predictions(y_test, y_pred, display_labels=['Negative', 'Positive'])\n",
    "    plt.title(f\"{name} – Confusion Matrix\")\n",
    "    plt.show()\n"
   ]
  },
  {
   "cell_type": "markdown",
   "id": "f7df9852-1a89-4a07-bb75-dd7b83883b83",
   "metadata": {},
   "source": [
    "* Both models predict positive almost all the time.\n",
    "\n",
    "* Perform poorly on negative tweets, which is critical in brand monitoring.\n",
    "\n"
   ]
  },
  {
   "cell_type": "markdown",
   "id": "0d72e4cd-dfe3-45a6-976b-8e874241f963",
   "metadata": {},
   "source": [
    "### Retrain Logistic Regression with class_weight='balanced'"
   ]
  },
  {
   "cell_type": "code",
   "execution_count": 63,
   "id": "75f2c052-06ae-4899-8f2a-e08167ff2fba",
   "metadata": {},
   "outputs": [
    {
     "name": "stdout",
     "output_type": "stream",
     "text": [
      "## Logistic Regression (Balanced) Performance\n",
      "\n",
      "              precision    recall  f1-score   support\n",
      "\n",
      "    Negative       0.89      0.94      0.92       596\n",
      "    Positive       0.94      0.89      0.91       596\n",
      "\n",
      "    accuracy                           0.91      1192\n",
      "   macro avg       0.91      0.91      0.91      1192\n",
      "weighted avg       0.91      0.91      0.91      1192\n",
      "\n"
     ]
    },
    {
     "data": {
      "image/png": "[encoded data removed]",
      "text/plain": [
       "<Figure size 432x288 with 2 Axes>"
      ]
     },
     "metadata": {
      "needs_background": "light"
     },
     "output_type": "display_data"
    }
   ],
   "source": [
    "from sklearn.linear_model import LogisticRegression\n",
    "from sklearn.metrics import classification_report, ConfusionMatrixDisplay\n",
    "import matplotlib.pyplot as plt\n",
    "\n",
    "# Retrain Logistic Regression with class_weight='balanced'\n",
    "lr_model_balanced = LogisticRegression(\n",
    "    max_iter=1000, \n",
    "    random_state=42, \n",
    "    class_weight='balanced'\n",
    ")\n",
    "\n",
    "# Fit model\n",
    "lr_model_balanced.fit(X_train_vec, y_train)\n",
    "\n",
    "# Predict on test set\n",
    "lr_bal_preds = lr_model_balanced.predict(X_test_vec)\n",
    "\n",
    "# Evaluate performance\n",
    "print(\"## Logistic Regression (Balanced) Performance\\n\")\n",
    "print(classification_report(y_test, lr_bal_preds, target_names=['Negative', 'Positive']))\n",
    "\n",
    "# Display confusion matrix\n",
    "ConfusionMatrixDisplay.from_predictions(\n",
    "    y_test, lr_bal_preds, display_labels=['Negative', 'Positive']\n",
    ")\n",
    "plt.title(\"Logistic Regression (Balanced) Confusion Matrix\")\n",
    "plt.show()\n"
   ]
  },
  {
   "cell_type": "markdown",
   "id": "4218d1b7-ba01-4ef8-b1fc-4a6cc068cc65",
   "metadata": {},
   "source": [
    "This balanced model better captures negative tweets (recall to 94%), which is essential for identifying customer dissatisfaction.\n",
    "\n",
    "It performs very well overall, with both classes now treated more equally.\n",
    "\n",
    "The small trade-off in positive recall is acceptable considering the improvement in detecting negatives."
   ]
  },
  {
   "cell_type": "markdown",
   "id": "02e3df39-9a15-4e88-a641-e5c9198d1927",
   "metadata": {},
   "source": [
    "## Advanced Models.\n",
    "\n",
    "### Random Forest Classifier\n",
    "\n",
    "####  Train & Evaluate Random Forest"
   ]
  },
  {
   "cell_type": "code",
   "execution_count": 66,
   "id": "9f19b06d-f690-4a04-ac5d-f41cd2a811d9",
   "metadata": {},
   "outputs": [
    {
     "name": "stdout",
     "output_type": "stream",
     "text": [
      "Random Forest Performance:\n",
      "\n",
      "              precision    recall  f1-score   support\n",
      "\n",
      "    Negative       0.96      0.99      0.98       596\n",
      "    Positive       0.99      0.96      0.98       596\n",
      "\n",
      "    accuracy                           0.98      1192\n",
      "   macro avg       0.98      0.98      0.98      1192\n",
      "weighted avg       0.98      0.98      0.98      1192\n",
      "\n"
     ]
    },
    {
     "data": {
      "image/png": "[encoded data removed]",
      "text/plain": [
       "<Figure size 432x288 with 2 Axes>"
      ]
     },
     "metadata": {
      "needs_background": "light"
     },
     "output_type": "display_data"
    }
   ],
   "source": [
    "from sklearn.ensemble import RandomForestClassifier\n",
    "from sklearn.metrics import classification_report, ConfusionMatrixDisplay\n",
    "import matplotlib.pyplot as plt\n",
    "\n",
    "# Initialize Random Forest with balanced class weights\n",
    "rf_model = RandomForestClassifier(\n",
    "    random_state=42, \n",
    "    class_weight='balanced', \n",
    "    n_estimators=100\n",
    ")\n",
    "\n",
    "# Train the model\n",
    "rf_model.fit(X_train_vec, y_train)\n",
    "\n",
    "# Predict\n",
    "rf_preds = rf_model.predict(X_test_vec)\n",
    "\n",
    "# Evaluate\n",
    "print(\"Random Forest Performance:\\n\")\n",
    "print(classification_report(y_test, rf_preds, target_names=['Negative', 'Positive']))\n",
    "\n",
    "# Confusion Matrix\n",
    "ConfusionMatrixDisplay.from_predictions(y_test, rf_preds, display_labels=['Negative', 'Positive'])\n",
    "plt.title(\"Random Forest Confusion Matrix\")\n",
    "plt.show()\n",
    "\n"
   ]
  },
  {
   "cell_type": "markdown",
   "id": "9f88cabc-ea4d-40b4-abc9-b9183e7ac8e7",
   "metadata": {},
   "source": [
    "Random Forest\n",
    "\n",
    "Accuracy: 98%\n",
    "\n",
    "Negative Recall: 0.99\n",
    "\n",
    "Positive Recall: 0.96\n",
    "\n",
    "* Very strong performance, nearly perfect classification of both classes. Slight bias toward detecting negatives a bit better.\n"
   ]
  },
  {
   "cell_type": "markdown",
   "id": "f437870b-ae10-4f5a-a4f0-81ac364d2323",
   "metadata": {},
   "source": [
    "### Support Vector Machine (SVM)\n",
    "\n",
    "#### Train & Evaluate SVM"
   ]
  },
  {
   "cell_type": "code",
   "execution_count": 65,
   "id": "e9b0adfe-b2f9-42e2-a4a3-937198421114",
   "metadata": {
    "scrolled": true
   },
   "outputs": [
    {
     "name": "stdout",
     "output_type": "stream",
     "text": [
      "SVM (Linear) Performance:\n",
      "\n",
      "              precision    recall  f1-score   support\n",
      "\n",
      "    Negative       0.93      0.99      0.96       596\n",
      "    Positive       0.99      0.92      0.95       596\n",
      "\n",
      "    accuracy                           0.96      1192\n",
      "   macro avg       0.96      0.96      0.96      1192\n",
      "weighted avg       0.96      0.96      0.96      1192\n",
      "\n"
     ]
    },
    {
     "data": {
      "image/png": "[encoded data removed]",
      "text/plain": [
       "<Figure size 432x288 with 2 Axes>"
      ]
     },
     "metadata": {
      "needs_background": "light"
     },
     "output_type": "display_data"
    }
   ],
   "source": [
    "from sklearn.svm import LinearSVC\n",
    "\n",
    "# Initialize SVM with balanced class weights\n",
    "svm_model = LinearSVC(\n",
    "    class_weight='balanced',\n",
    "    max_iter=10000,\n",
    "    random_state=42\n",
    ")\n",
    "\n",
    "# Train\n",
    "svm_model.fit(X_train_vec, y_train)\n",
    "\n",
    "# Predict\n",
    "svm_preds = svm_model.predict(X_test_vec)\n",
    "\n",
    "# Evaluate\n",
    "print(\"SVM (Linear) Performance:\\n\")\n",
    "print(classification_report(y_test, svm_preds, target_names=['Negative', 'Positive']))\n",
    "\n",
    "# Confusion Matrix\n",
    "ConfusionMatrixDisplay.from_predictions(y_test, svm_preds, display_labels=['Negative', 'Positive'])\n",
    "plt.title(\"SVM Confusion Matrix\")\n",
    "plt.show()\n"
   ]
  },
  {
   "cell_type": "markdown",
   "id": "55187dc4-d758-4c4e-8527-ac8042aa09a6",
   "metadata": {},
   "source": [
    "Accuracy: 96%\n",
    "\n",
    "Negative Recall: 0.99\n",
    "\n",
    "Positive Recall: 0.92\n",
    "\n",
    "Very competitive. Slightly favors the negative class. Slightly lower recall on positive tweets compared to Random Forest.\n",
    "\n",
    "\n"
   ]
  },
  {
   "cell_type": "markdown",
   "id": "7e49150b-9fe1-4a0c-8d21-2864cac75d19",
   "metadata": {},
   "source": [
    "Now that we've identified SVM and Logistic Regression as the top contenders, we’ll move to the final modeling step."
   ]
  },
  {
   "cell_type": "markdown",
   "id": "c9f6759e-7e79-47ce-9186-77b55f8342fb",
   "metadata": {},
   "source": [
    "## Hyperparameter Tuning (GridSearchCV)\n",
    "\n",
    "Goal:\n",
    "\n",
    "-Improve performance by finding the best hyperparameters.\n",
    "\n",
    "-Avoid overfitting and enhance generalization."
   ]
  },
  {
   "cell_type": "markdown",
   "id": "7b801f9a-ec57-4c6c-b9d8-64d1f30df86b",
   "metadata": {},
   "source": [
    "### Grid Search for Logistic Regression"
   ]
  },
  {
   "cell_type": "code",
   "execution_count": 68,
   "id": "06d17b16-540e-4f72-a5da-28727b738a21",
   "metadata": {},
   "outputs": [
    {
     "name": "stdout",
     "output_type": "stream",
     "text": [
      "Fitting 5 folds for each of 8 candidates, totalling 40 fits\n",
      "Best Logistic Regression Params: {'C': 10, 'solver': 'lbfgs'}\n",
      "Best Macro F1 Score (CV): 0.9480983397972027\n"
     ]
    }
   ],
   "source": [
    "from sklearn.linear_model import LogisticRegression\n",
    "from sklearn.model_selection import GridSearchCV\n",
    "\n",
    "# Define the model with class_weight\n",
    "lr = LogisticRegression(class_weight='balanced', max_iter=1000)\n",
    "\n",
    "# Define hyperparameter grid\n",
    "lr_param_grid = {\n",
    "    'C': [0.01, 0.1, 1, 10],              # Regularization strength\n",
    "    'solver': ['liblinear', 'lbfgs']      # Solvers to try\n",
    "}\n",
    "\n",
    "# Set up GridSearchCV\n",
    "lr_grid = GridSearchCV(\n",
    "    lr,\n",
    "    lr_param_grid,\n",
    "    cv=5,\n",
    "    scoring='f1_macro',\n",
    "    n_jobs=-1,\n",
    "    verbose=1\n",
    ")\n",
    "\n",
    "# Fit to training data\n",
    "lr_grid.fit(X_train_vec, y_train)\n",
    "\n",
    "# Show best parameters and performance\n",
    "print(\"Best Logistic Regression Params:\", lr_grid.best_params_)\n",
    "print(\"Best Macro F1 Score (CV):\", lr_grid.best_score_)\n"
   ]
  },
  {
   "cell_type": "markdown",
   "id": "4efd0319-2d53-4cf6-8d70-db91134579c7",
   "metadata": {},
   "source": [
    "### Grid Search for SVM"
   ]
  },
  {
   "cell_type": "code",
   "execution_count": 69,
   "id": "3f195363-2b07-4c21-955f-99337224f9eb",
   "metadata": {},
   "outputs": [
    {
     "name": "stdout",
     "output_type": "stream",
     "text": [
      "Fitting 5 folds for each of 4 candidates, totalling 20 fits\n",
      "Best SVM Params: {'C': 10}\n",
      "Best Macro F1 Score (CV): 0.9518705677455536\n"
     ]
    }
   ],
   "source": [
    "from sklearn.svm import LinearSVC\n",
    "\n",
    "# Define model\n",
    "svm = LinearSVC(class_weight='balanced', max_iter=10000)\n",
    "\n",
    "# Define hyperparameter grid\n",
    "svm_param_grid = {\n",
    "    'C': [0.01, 0.1, 1, 10]  # Regularization strength\n",
    "}\n",
    "\n",
    "# Set up GridSearchCV\n",
    "svm_grid = GridSearchCV(\n",
    "    svm,\n",
    "    svm_param_grid,\n",
    "    cv=5,\n",
    "    scoring='f1_macro',\n",
    "    n_jobs=-1,\n",
    "    verbose=1\n",
    ")\n",
    "\n",
    "# Fit to training data\n",
    "svm_grid.fit(X_train_vec, y_train)\n",
    "\n",
    "# Show best parameters and performance\n",
    "print(\"Best SVM Params:\", svm_grid.best_params_)\n",
    "print(\"Best Macro F1 Score (CV):\", svm_grid.best_score_)\n",
    "\n"
   ]
  },
  {
   "cell_type": "markdown",
   "id": "0ed27a80-d2e6-4a1b-9e33-f18c21cb2c9f",
   "metadata": {},
   "source": [
    "* SVM slightly outperforms Logistic Regression in macro-averaged F1 score across cross-validation folds.\n",
    "\n",
    "* Both models are excellent, but SVM is more robust in this case for overall generalization across classes."
   ]
  },
  {
   "cell_type": "markdown",
   "id": "71055d79-10b9-43f9-9a08-a86ab44ae454",
   "metadata": {},
   "source": [
    "### Retrain Best Models on Full Training Set"
   ]
  },
  {
   "cell_type": "markdown",
   "id": "f29ff8a0-0866-45b5-a57d-ba74cc89e0b5",
   "metadata": {},
   "source": [
    "#### Retrain Logistic Regression (Best Params)"
   ]
  },
  {
   "cell_type": "code",
   "execution_count": 70,
   "id": "3cc85aa7-9467-4990-a2c3-03c74f334105",
   "metadata": {},
   "outputs": [
    {
     "name": "stdout",
     "output_type": "stream",
     "text": [
      "Final Logistic Regression Performance:\n",
      "\n",
      "              precision    recall  f1-score   support\n",
      "\n",
      "    Negative       0.93      0.99      0.96       596\n",
      "    Positive       0.99      0.93      0.96       596\n",
      "\n",
      "    accuracy                           0.96      1192\n",
      "   macro avg       0.96      0.96      0.96      1192\n",
      "weighted avg       0.96      0.96      0.96      1192\n",
      "\n"
     ]
    },
    {
     "data": {
      "image/png": "[encoded data removed]",
      "text/plain": [
       "<Figure size 432x288 with 2 Axes>"
      ]
     },
     "metadata": {
      "needs_background": "light"
     },
     "output_type": "display_data"
    }
   ],
   "source": [
    "# Retrain with best parameters\n",
    "final_lr = LogisticRegression(C=10, solver='lbfgs', class_weight='balanced', max_iter=1000)\n",
    "final_lr.fit(X_train_vec, y_train)\n",
    "\n",
    "# Predict\n",
    "final_lr_preds = final_lr.predict(X_test_vec)\n",
    "\n",
    "# Evaluate\n",
    "print(\"Final Logistic Regression Performance:\\n\")\n",
    "print(classification_report(y_test, final_lr_preds, target_names=['Negative', 'Positive']))\n",
    "\n",
    "ConfusionMatrixDisplay.from_predictions(y_test, final_lr_preds, display_labels=['Negative', 'Positive'])\n",
    "plt.title(\"Final Logistic Regression Confusion Matrix\")\n",
    "plt.show()\n"
   ]
  },
  {
   "cell_type": "markdown",
   "id": "d5f4422f-f927-44f0-a620-059738950e11",
   "metadata": {},
   "source": [
    "#### Retrain Linear SVM (Best Params)"
   ]
  },
  {
   "cell_type": "code",
   "execution_count": 71,
   "id": "39478820-fb1e-4f79-a457-ffaa74268d53",
   "metadata": {},
   "outputs": [
    {
     "name": "stdout",
     "output_type": "stream",
     "text": [
      "Final SVM Performance:\n",
      "\n",
      "              precision    recall  f1-score   support\n",
      "\n",
      "    Negative       0.92      0.99      0.96       596\n",
      "    Positive       0.99      0.92      0.95       596\n",
      "\n",
      "    accuracy                           0.96      1192\n",
      "   macro avg       0.96      0.96      0.96      1192\n",
      "weighted avg       0.96      0.96      0.96      1192\n",
      "\n"
     ]
    },
    {
     "data": {
      "image/png": "[encoded data removed]",
      "text/plain": [
       "<Figure size 432x288 with 2 Axes>"
      ]
     },
     "metadata": {
      "needs_background": "light"
     },
     "output_type": "display_data"
    }
   ],
   "source": [
    "# Retrain with best parameters\n",
    "final_svm = LinearSVC(C=10, class_weight='balanced', max_iter=10000)\n",
    "final_svm.fit(X_train_vec, y_train)\n",
    "\n",
    "# Predict\n",
    "final_svm_preds = final_svm.predict(X_test_vec)\n",
    "\n",
    "# Evaluate\n",
    "print(\"Final SVM Performance:\\n\")\n",
    "print(classification_report(y_test, final_svm_preds, target_names=['Negative', 'Positive']))\n",
    "\n",
    "ConfusionMatrixDisplay.from_predictions(y_test, final_svm_preds, display_labels=['Negative', 'Positive'])\n",
    "plt.title(\"Final SVM Confusion Matrix\")\n",
    "plt.show()\n"
   ]
  },
  {
   "cell_type": "code",
   "execution_count": 72,
   "id": "f063c782-6f89-4958-97dd-f14ed4959435",
   "metadata": {},
   "outputs": [
    {
     "name": "stdout",
     "output_type": "stream",
     "text": [
      "1    2978\n",
      "0    2978\n",
      "Name: label, dtype: int64\n"
     ]
    }
   ],
   "source": [
    "print(df_binary['label'].value_counts())\n"
   ]
  },
  {
   "cell_type": "markdown",
   "id": "46b7ebc7-df50-42c8-a1d7-cadc6ab504fa",
   "metadata": {},
   "source": [
    "### Reduce Overfitting Using Feature Selection"
   ]
  },
  {
   "cell_type": "markdown",
   "id": "3ef70766-4fc0-48de-aa95-ba9bb9276c54",
   "metadata": {},
   "source": [
    "#### Limit TF-IDF Features Using SelectKBest\n",
    "\n",
    "This helps reduce noise and generalize better."
   ]
  },
  {
   "cell_type": "code",
   "execution_count": 73,
   "id": "5c606fbf-149b-422b-b49f-336c3452faa5",
   "metadata": {},
   "outputs": [],
   "source": [
    "from sklearn.feature_selection import SelectKBest, chi2\n",
    "from sklearn.linear_model import LogisticRegression\n",
    "from sklearn.svm import SVC\n",
    "from sklearn.metrics import classification_report, ConfusionMatrixDisplay\n",
    "from sklearn.model_selection import cross_val_score\n",
    "import matplotlib.pyplot as plt\n",
    "\n",
    "# Select top 1000 features using chi-squared test\n",
    "selector = SelectKBest(score_func=chi2, k=1000)\n",
    "X_train_sel = selector.fit_transform(X_train_vec, y_train)\n",
    "X_test_sel = selector.transform(X_test_vec)\n"
   ]
  },
  {
   "cell_type": "code",
   "execution_count": 75,
   "id": "b97e77e0-8337-4b7e-ac3f-58e2f7c36354",
   "metadata": {},
   "outputs": [
    {
     "name": "stdout",
     "output_type": "stream",
     "text": [
      "Logistic Regression (Reduced Features):\n",
      "\n",
      "              precision    recall  f1-score   support\n",
      "\n",
      "    Negative       0.91      0.90      0.91       596\n",
      "    Positive       0.90      0.91      0.91       596\n",
      "\n",
      "    accuracy                           0.91      1192\n",
      "   macro avg       0.91      0.91      0.91      1192\n",
      "weighted avg       0.91      0.91      0.91      1192\n",
      "\n"
     ]
    },
    {
     "data": {
      "image/png": "[encoded data removed]",
      "text/plain": [
       "<Figure size 432x288 with 2 Axes>"
      ]
     },
     "metadata": {
      "needs_background": "light"
     },
     "output_type": "display_data"
    }
   ],
   "source": [
    "# Retrain with reduced features\n",
    "lr_best = LogisticRegression(C=10, solver='lbfgs', max_iter=1000, random_state=42)\n",
    "lr_best.fit(X_train_sel, y_train)\n",
    "\n",
    "# Evaluate\n",
    "lr_preds = lr_best.predict(X_test_sel)\n",
    "print(\"Logistic Regression (Reduced Features):\\n\")\n",
    "print(classification_report(y_test, lr_preds, target_names=['Negative', 'Positive']))\n",
    "\n",
    "ConfusionMatrixDisplay.from_predictions(y_test, lr_preds, display_labels=['Negative', 'Positive'])\n",
    "plt.title(\"Logistic Regression Confusion Matrix (Reduced Features)\")\n",
    "plt.show()\n"
   ]
  },
  {
   "cell_type": "code",
   "execution_count": 76,
   "id": "1c6a9e3f-71e8-4632-888d-b5bb1540ea34",
   "metadata": {},
   "outputs": [
    {
     "name": "stdout",
     "output_type": "stream",
     "text": [
      "SVM (Reduced Features):\n",
      "\n",
      "              precision    recall  f1-score   support\n",
      "\n",
      "    Negative       0.91      0.90      0.91       596\n",
      "    Positive       0.90      0.91      0.91       596\n",
      "\n",
      "    accuracy                           0.91      1192\n",
      "   macro avg       0.91      0.91      0.91      1192\n",
      "weighted avg       0.91      0.91      0.91      1192\n",
      "\n"
     ]
    },
    {
     "data": {
      "image/png": "[encoded data removed]",
      "text/plain": [
       "<Figure size 432x288 with 2 Axes>"
      ]
     },
     "metadata": {
      "needs_background": "light"
     },
     "output_type": "display_data"
    }
   ],
   "source": [
    "# Retrain with reduced features\n",
    "svm_best = SVC(C=10, kernel='linear', random_state=42)\n",
    "svm_best.fit(X_train_sel, y_train)\n",
    "\n",
    "# Evaluate\n",
    "svm_preds = svm_best.predict(X_test_sel)\n",
    "print(\"SVM (Reduced Features):\\n\")\n",
    "print(classification_report(y_test, svm_preds, target_names=['Negative', 'Positive']))\n",
    "\n",
    "ConfusionMatrixDisplay.from_predictions(y_test, svm_preds, display_labels=['Negative', 'Positive'])\n",
    "plt.title(\"SVM Confusion Matrix (Reduced Features)\")\n",
    "plt.show()\n"
   ]
  },
  {
   "cell_type": "code",
   "execution_count": 78,
   "id": "a5305252-3647-4d72-977e-4d915c1f08e8",
   "metadata": {
    "scrolled": true
   },
   "outputs": [
    {
     "name": "stdout",
     "output_type": "stream",
     "text": [
      "Logistic Regression CV Macro F1: 0.9263\n",
      "SVM CV Macro F1: 0.9316\n"
     ]
    }
   ],
   "source": [
    "\n",
    "cv_lr = cross_val_score(lr_best, X_train_sel, y_train, cv=5, scoring='f1_macro')\n",
    "cv_svm = cross_val_score(svm_best, X_train_sel, y_train, cv=5, scoring='f1_macro')\n",
    "\n",
    "print(f\"Logistic Regression CV Macro F1: {cv_lr.mean():.4f}\")\n",
    "print(f\"SVM CV Macro F1: {cv_svm.mean():.4f}\")\n"
   ]
  },
  {
   "cell_type": "markdown",
   "id": "017ed679-ffcb-439f-97dd-a7c55cf2e88f",
   "metadata": {},
   "source": [
    "* Both models now generalize well across classes.\n",
    "\n",
    "* The gap between training and cross-validation performance is much narrower, indicating that overfitting has been reduced.\n",
    "\n",
    "* SVM still slightly outperforms Logistic Regression."
   ]
  },
  {
   "cell_type": "markdown",
   "id": "e9d19d7b-04dd-4528-87f4-e7776219aa15",
   "metadata": {},
   "source": [
    "### XGBoost Classifier"
   ]
  },
  {
   "cell_type": "code",
   "execution_count": 79,
   "id": "b2caf6a8-16a1-410c-9146-9c98e877d4df",
   "metadata": {},
   "outputs": [
    {
     "name": "stdout",
     "output_type": "stream",
     "text": [
      "XGBoost Performance:\n",
      "\n",
      "              precision    recall  f1-score   support\n",
      "\n",
      "    Negative       0.86      0.95      0.90       596\n",
      "    Positive       0.94      0.85      0.89       596\n",
      "\n",
      "    accuracy                           0.90      1192\n",
      "   macro avg       0.90      0.90      0.90      1192\n",
      "weighted avg       0.90      0.90      0.90      1192\n",
      "\n"
     ]
    },
    {
     "data": {
      "image/png": "[encoded data removed]",
      "text/plain": [
       "<Figure size 432x288 with 2 Axes>"
      ]
     },
     "metadata": {
      "needs_background": "light"
     },
     "output_type": "display_data"
    }
   ],
   "source": [
    "from xgboost import XGBClassifier\n",
    "from sklearn.metrics import classification_report, ConfusionMatrixDisplay\n",
    "\n",
    "# Initialize model with class balancing\n",
    "xgb_model = XGBClassifier(use_label_encoder=False, eval_metric='logloss', scale_pos_weight=1, random_state=42)\n",
    "\n",
    "# Fit model\n",
    "xgb_model.fit(X_train_vec, y_train)\n",
    "\n",
    "# Predict\n",
    "xgb_preds = xgb_model.predict(X_test_vec)\n",
    "\n",
    "# Evaluate\n",
    "print(\"XGBoost Performance:\\n\")\n",
    "print(classification_report(y_test, xgb_preds, target_names=['Negative', 'Positive']))\n",
    "\n",
    "ConfusionMatrixDisplay.from_predictions(y_test, xgb_preds, display_labels=['Negative', 'Positive'])\n",
    "plt.title(\"XGBoost Confusion Matrix\")\n",
    "plt.show()\n"
   ]
  },
  {
   "cell_type": "markdown",
   "id": "63b0b9c5-aa3f-458b-8d8f-51b598504e6e",
   "metadata": {},
   "source": [
    "Accuracy: 90%\n",
    "\n",
    "Negative Recall: 0.95\n",
    "\n",
    "Positive Recall: 0.85\n",
    "\n",
    "* The model is very good at identifying negative tweets, but slightly less so for positive ones, indicating a slight bias toward the negative class."
   ]
  },
  {
   "cell_type": "markdown",
   "id": "ff07c464-ee1d-43cf-a7f3-c8620daa64e4",
   "metadata": {},
   "source": [
    "## Neural Network for Sentiment Classification (with Epochs)\n",
    "### Binary Classification Modelling\n",
    "We'll use Keras (from TensorFlow) to define and train the model."
   ]
  },
  {
   "cell_type": "code",
   "execution_count": 80,
   "id": "d7aaeb71-59e5-4bc3-a348-6524bf2ba4c4",
   "metadata": {},
   "outputs": [
    {
     "name": "stdout",
     "output_type": "stream",
     "text": [
      "Epoch 1/20\n",
      "149/149 [==============================] - 1s 5ms/step - loss: 0.4751 - accuracy: 0.7792 - val_loss: 0.1711 - val_accuracy: 0.9446\n",
      "Epoch 2/20\n",
      "149/149 [==============================] - 1s 4ms/step - loss: 0.0900 - accuracy: 0.9710 - val_loss: 0.0997 - val_accuracy: 0.9664\n",
      "Epoch 3/20\n",
      "149/149 [==============================] - 1s 5ms/step - loss: 0.0324 - accuracy: 0.9916 - val_loss: 0.0736 - val_accuracy: 0.9740\n",
      "Epoch 4/20\n",
      "149/149 [==============================] - 1s 4ms/step - loss: 0.0136 - accuracy: 0.9977 - val_loss: 0.0726 - val_accuracy: 0.9757\n",
      "Epoch 5/20\n",
      "149/149 [==============================] - 1s 4ms/step - loss: 0.0122 - accuracy: 0.9971 - val_loss: 0.0834 - val_accuracy: 0.9732\n",
      "Epoch 6/20\n",
      "149/149 [==============================] - 1s 4ms/step - loss: 0.0105 - accuracy: 0.9977 - val_loss: 0.0770 - val_accuracy: 0.9740\n",
      "Epoch 7/20\n",
      "149/149 [==============================] - 1s 4ms/step - loss: 0.0090 - accuracy: 0.9971 - val_loss: 0.1091 - val_accuracy: 0.9690\n"
     ]
    }
   ],
   "source": [
    "from tensorflow.keras.models import Sequential\n",
    "from tensorflow.keras.layers import Dense, Dropout\n",
    "from tensorflow.keras.callbacks import EarlyStopping\n",
    "from tensorflow.keras.utils import to_categorical\n",
    "\n",
    "# One-hot encode labels\n",
    "y_train_cat = to_categorical(y_train)\n",
    "y_test_cat = to_categorical(y_test)\n",
    "\n",
    "# Define model\n",
    "model = Sequential()\n",
    "model.add(Dense(128, activation='relu', input_shape=(X_train_vec.shape[1],)))\n",
    "model.add(Dropout(0.3))\n",
    "model.add(Dense(64, activation='relu'))\n",
    "model.add(Dropout(0.3))\n",
    "model.add(Dense(2, activation='softmax'))\n",
    "\n",
    "# Compile\n",
    "model.compile(optimizer='adam', loss='categorical_crossentropy', metrics=['accuracy'])\n",
    "\n",
    "# Early stopping\n",
    "early_stop = EarlyStopping(monitor='val_loss', patience=3, restore_best_weights=True)\n",
    "\n",
    "# Fit model\n",
    "history = model.fit(\n",
    "    X_train_vec.toarray(), y_train_cat,\n",
    "    validation_data=(X_test_vec.toarray(), y_test_cat),\n",
    "    epochs=20,\n",
    "    batch_size=32,\n",
    "    callbacks=[early_stop],\n",
    "    verbose=1\n",
    ")\n"
   ]
  },
  {
   "cell_type": "markdown",
   "id": "3f974315-a592-4d31-bcd5-eb7cf4ff9690",
   "metadata": {},
   "source": [
    "Initial Accuracy (Epoch 1): 77.9%\n",
    "\n",
    "Final Accuracy (Epoch 7): ~99.7% on training data\n",
    "\n",
    "Validation Accuracy Plateau: Peaked at 97.57% (Epoch 4)\n",
    "\n",
    "Early Overfitting Detected:\n",
    "\n",
    "Validation loss increased slightly after Epoch 4\n",
    "\n",
    "Accuracy remained stable but signs of generalization gap"
   ]
  },
  {
   "cell_type": "markdown",
   "id": "16a62090-884a-45f3-84c3-5231e5c17e21",
   "metadata": {},
   "source": [
    "### Visualize Accuracy & Loss Over EpochsVisualize Accuracy & Loss Over Epochs"
   ]
  },
  {
   "cell_type": "code",
   "execution_count": 81,
   "id": "aa97c641-9d8d-4bbb-a8f1-92379f446291",
   "metadata": {},
   "outputs": [
    {
     "data": {
      "image/png": "[encoded data removed]",
      "text/plain": [
       "<Figure size 864x360 with 2 Axes>"
      ]
     },
     "metadata": {
      "needs_background": "light"
     },
     "output_type": "display_data"
    }
   ],
   "source": [
    "import matplotlib.pyplot as plt\n",
    "\n",
    "# Plot training & validation accuracy and loss over epochs\n",
    "plt.figure(figsize=(12, 5))\n",
    "\n",
    "# Accuracy\n",
    "plt.subplot(1, 2, 1)\n",
    "plt.plot(history.history['accuracy'], label='Train Accuracy', marker='o')\n",
    "plt.plot(history.history['val_accuracy'], label='Validation Accuracy', marker='o')\n",
    "plt.title('Model Accuracy over Epochs')\n",
    "plt.xlabel('Epoch')\n",
    "plt.ylabel('Accuracy')\n",
    "plt.legend()\n",
    "plt.grid(True)\n",
    "\n",
    "# Loss\n",
    "plt.subplot(1, 2, 2)\n",
    "plt.plot(history.history['loss'], label='Train Loss', marker='o')\n",
    "plt.plot(history.history['val_loss'], label='Validation Loss', marker='o')\n",
    "plt.title('Model Loss over Epochs')\n",
    "plt.xlabel('Epoch')\n",
    "plt.ylabel('Loss')\n",
    "plt.legend()\n",
    "plt.grid(True)\n",
    "\n",
    "plt.tight_layout()\n",
    "plt.show()\n"
   ]
  },
  {
   "cell_type": "markdown",
   "id": "1c71457b-6fa6-4977-9c8c-000bb1a643eb",
   "metadata": {},
   "source": [
    "### Left Plot – Accuracy over Epochs\n",
    "\n",
    "Shows how accurately the model is predicting during training and validation.\n",
    "\n",
    "Upward lines mean the model is learning.\n",
    "\n",
    "If training accuracy is high but validation accuracy is low → overfitting."
   ]
  },
  {
   "cell_type": "markdown",
   "id": "2af0675a-595a-41ab-b7ac-eb8e3aa10cfa",
   "metadata": {},
   "source": [
    "### Right Plot – Loss over Epochs\n",
    "\n",
    "Shows how much error the model is making.\n",
    "\n",
    "Downward lines mean the model is improving.\n",
    "\n",
    "If training loss drops but validation loss rises → overfitting.\n",
    "\n",
    "If both stay high → underfitting."
   ]
  },
  {
   "cell_type": "code",
   "execution_count": 82,
   "id": "9a86d6e9-74b6-483d-87bc-315eeb371c93",
   "metadata": {},
   "outputs": [
    {
     "name": "stdout",
     "output_type": "stream",
     "text": [
      "Neural Network Performance on Test Set:\n",
      "\n",
      "              precision    recall  f1-score   support\n",
      "\n",
      "    Negative       0.96      0.99      0.98       596\n",
      "    Positive       0.99      0.96      0.98       596\n",
      "\n",
      "    accuracy                           0.98      1192\n",
      "   macro avg       0.98      0.98      0.98      1192\n",
      "weighted avg       0.98      0.98      0.98      1192\n",
      "\n"
     ]
    },
    {
     "data": {
      "image/png": "[encoded data removed]",
      "text/plain": [
       "<Figure size 432x288 with 2 Axes>"
      ]
     },
     "metadata": {
      "needs_background": "light"
     },
     "output_type": "display_data"
    }
   ],
   "source": [
    "from sklearn.metrics import classification_report, ConfusionMatrixDisplay\n",
    "import numpy as np\n",
    "\n",
    "# Predict on test set\n",
    "nn_preds = model.predict(X_test_vec.toarray())\n",
    "nn_labels = np.argmax(nn_preds, axis=1)\n",
    "\n",
    "# Evaluation report\n",
    "print(\"Neural Network Performance on Test Set:\\n\")\n",
    "print(classification_report(y_test, nn_labels, target_names=['Negative', 'Positive']))\n",
    "\n",
    "# Confusion matrix\n",
    "ConfusionMatrixDisplay.from_predictions(y_test, nn_labels, display_labels=['Negative', 'Positive'])\n",
    "plt.title(\"Neural Network Confusion Matrix\")\n",
    "plt.show()\n"
   ]
  },
  {
   "cell_type": "markdown",
   "id": "8e841177-59ab-405c-9b30-30e831357315",
   "metadata": {},
   "source": [
    "### Strategies to Reduce Overfitting\n",
    "#### Dropout Regularization\n",
    "\n",
    "Already using 0.5 dropout but we’ll reinforce it and optionally try more layers with lower units."
   ]
  },
  {
   "cell_type": "code",
   "execution_count": 106,
   "id": "51f22f62-65c0-4851-a69a-cfcb61010813",
   "metadata": {},
   "outputs": [
    {
     "name": "stdout",
     "output_type": "stream",
     "text": [
      "Model: \"sequential_6\"\n",
      "_________________________________________________________________\n",
      "Layer (type)                 Output Shape              Param #   \n",
      "=================================================================\n",
      "dense_20 (Dense)             (None, 128)               644352    \n",
      "_________________________________________________________________\n",
      "dropout_14 (Dropout)         (None, 128)               0         \n",
      "_________________________________________________________________\n",
      "dense_21 (Dense)             (None, 64)                8256      \n",
      "_________________________________________________________________\n",
      "dropout_15 (Dropout)         (None, 64)                0         \n",
      "_________________________________________________________________\n",
      "dense_22 (Dense)             (None, 32)                2080      \n",
      "_________________________________________________________________\n",
      "dropout_16 (Dropout)         (None, 32)                0         \n",
      "_________________________________________________________________\n",
      "dense_23 (Dense)             (None, 2)                 66        \n",
      "=================================================================\n",
      "Total params: 654,754\n",
      "Trainable params: 654,754\n",
      "Non-trainable params: 0\n",
      "_________________________________________________________________\n"
     ]
    }
   ],
   "source": [
    "from tensorflow.keras.models import Sequential\n",
    "from tensorflow.keras.layers import Dense, Dropout\n",
    "from tensorflow.keras.optimizers import Adam\n",
    "\n",
    "input_dim = X_train_vec.shape[1]\n",
    "\n",
    "# Updated model with stronger regularization\n",
    "binary_model = Sequential([\n",
    "    Dense(128, activation='relu', input_shape=(input_dim,)),\n",
    "    Dropout(0.6),  # Increased dropout\n",
    "    Dense(64, activation='relu'),\n",
    "    Dropout(0.5),\n",
    "    Dense(32, activation='relu'),\n",
    "    Dropout(0.4),\n",
    "    Dense(2, activation='softmax')\n",
    "])\n",
    "\n",
    "binary_model.compile(optimizer=Adam(learning_rate=0.001),\n",
    "                     loss='categorical_crossentropy',\n",
    "                     metrics=['accuracy'])\n",
    "\n",
    "binary_model.summary()\n"
   ]
  },
  {
   "cell_type": "markdown",
   "id": "47bdca6c-b134-488b-9785-96976243766c",
   "metadata": {},
   "source": [
    "#### Early Stopping\n",
    "We're already using this we’ll keep it:"
   ]
  },
  {
   "cell_type": "code",
   "execution_count": 107,
   "id": "5a780325-f6c2-4821-bef4-7f3700f82578",
   "metadata": {},
   "outputs": [],
   "source": [
    "from tensorflow.keras.callbacks import EarlyStopping\n",
    "\n",
    "early_stop = EarlyStopping(monitor='val_loss', patience=3, restore_best_weights=True)\n"
   ]
  },
  {
   "cell_type": "markdown",
   "id": "b1d08fc7-67f4-46a4-b878-2ea85b109c1d",
   "metadata": {},
   "source": [
    "#### L2 Regularization\n",
    "Add to dense layers to penalize large weights:"
   ]
  },
  {
   "cell_type": "code",
   "execution_count": 108,
   "id": "b51567af-5137-4ed2-b22c-087245d80563",
   "metadata": {},
   "outputs": [],
   "source": [
    "from tensorflow.keras import regularizers\n",
    "\n",
    "binary_model = Sequential([\n",
    "    Dense(128, activation='relu', input_shape=(input_dim,),\n",
    "          kernel_regularizer=regularizers.l2(0.01)),\n",
    "    Dropout(0.6),\n",
    "    Dense(64, activation='relu',\n",
    "          kernel_regularizer=regularizers.l2(0.01)),\n",
    "    Dropout(0.5),\n",
    "    Dense(32, activation='relu',\n",
    "          kernel_regularizer=regularizers.l2(0.01)),\n",
    "    Dropout(0.4),\n",
    "    Dense(2, activation='softmax')\n",
    "])\n"
   ]
  },
  {
   "cell_type": "code",
   "execution_count": 91,
   "id": "bb501ba4-9f2a-429e-ada3-114c3be837d0",
   "metadata": {},
   "outputs": [],
   "source": [
    "from tensorflow.keras.models import Sequential\n",
    "from tensorflow.keras.layers import Dense, Dropout\n",
    "from tensorflow.keras.callbacks import EarlyStopping\n",
    "from tensorflow.keras import regularizers\n",
    "\n",
    "# Build model with reduced regularization\n",
    "binary_model = Sequential([\n",
    "    Dense(64, activation='relu', input_shape=(X_train_vec.shape[1],),\n",
    "          kernel_regularizer=regularizers.l2(1e-5)),\n",
    "    Dropout(0.3),\n",
    "    Dense(64, activation='relu', kernel_regularizer=regularizers.l2(1e-5)),\n",
    "    Dropout(0.3),\n",
    "    Dense(2, activation='softmax')  # Binary classifier with softmax\n",
    "])\n",
    "\n",
    "# Compile model\n",
    "binary_model.compile(optimizer='adam',\n",
    "                     loss='categorical_crossentropy',\n",
    "                     metrics=['accuracy'])\n"
   ]
  },
  {
   "cell_type": "code",
   "execution_count": 92,
   "id": "81e12799-9ce2-4aec-9893-87f278e56dbd",
   "metadata": {},
   "outputs": [
    {
     "name": "stdout",
     "output_type": "stream",
     "text": [
      "Epoch 1/20\n",
      "149/149 [==============================] - 1s 5ms/step - loss: 0.5256 - accuracy: 0.7687 - val_loss: 0.2156 - val_accuracy: 0.9262\n",
      "Epoch 2/20\n",
      "149/149 [==============================] - 1s 5ms/step - loss: 0.1158 - accuracy: 0.9622 - val_loss: 0.0971 - val_accuracy: 0.9664\n",
      "Epoch 3/20\n",
      "149/149 [==============================] - 1s 4ms/step - loss: 0.0393 - accuracy: 0.9899 - val_loss: 0.0938 - val_accuracy: 0.9698\n",
      "Epoch 4/20\n",
      "149/149 [==============================] - 1s 3ms/step - loss: 0.0213 - accuracy: 0.9956 - val_loss: 0.1026 - val_accuracy: 0.9664\n",
      "Epoch 5/20\n",
      "149/149 [==============================] - 1s 3ms/step - loss: 0.0162 - accuracy: 0.9960 - val_loss: 0.1017 - val_accuracy: 0.9664\n",
      "Epoch 6/20\n",
      "149/149 [==============================] - 1s 4ms/step - loss: 0.0146 - accuracy: 0.9969 - val_loss: 0.1036 - val_accuracy: 0.9664\n",
      "Epoch 7/20\n",
      "149/149 [==============================] - 1s 3ms/step - loss: 0.0119 - accuracy: 0.9977 - val_loss: 0.1138 - val_accuracy: 0.9664\n",
      "Epoch 8/20\n",
      "149/149 [==============================] - 1s 4ms/step - loss: 0.0118 - accuracy: 0.9966 - val_loss: 0.1096 - val_accuracy: 0.9639\n"
     ]
    }
   ],
   "source": [
    "early_stop = EarlyStopping(patience=5, restore_best_weights=True)\n",
    "\n",
    "history_binary = binary_model.fit(\n",
    "    X_train_vec.toarray(), y_train_cat,\n",
    "    validation_data=(X_test_vec.toarray(), y_test_cat),\n",
    "    epochs=20,\n",
    "    batch_size=32,\n",
    "    callbacks=[early_stop],\n",
    "    verbose=1\n",
    ")\n"
   ]
  },
  {
   "cell_type": "code",
   "execution_count": 93,
   "id": "f73aee83-29f7-4d93-a39f-365e316c3696",
   "metadata": {},
   "outputs": [
    {
     "data": {
      "image/png": "[encoded data removed]",
      "text/plain": [
       "<Figure size 864x360 with 2 Axes>"
      ]
     },
     "metadata": {
      "needs_background": "light"
     },
     "output_type": "display_data"
    }
   ],
   "source": [
    "import matplotlib.pyplot as plt\n",
    "\n",
    "plt.figure(figsize=(12, 5))\n",
    "\n",
    "# Accuracy plot\n",
    "plt.subplot(1, 2, 1)\n",
    "plt.plot(history_binary.history['accuracy'], label='Train Accuracy')\n",
    "plt.plot(history_binary.history['val_accuracy'], label='Val Accuracy')\n",
    "plt.title('Model Accuracy over Epochs')\n",
    "plt.xlabel('Epoch')\n",
    "plt.ylabel('Accuracy')\n",
    "plt.legend()\n",
    "\n",
    "# Loss plot\n",
    "plt.subplot(1, 2, 2)\n",
    "plt.plot(history_binary.history['loss'], label='Train Loss')\n",
    "plt.plot(history_binary.history['val_loss'], label='Val Loss')\n",
    "plt.title('Model Loss over Epochs')\n",
    "plt.xlabel('Epoch')\n",
    "plt.ylabel('Loss')\n",
    "plt.legend()\n",
    "\n",
    "plt.tight_layout()\n",
    "plt.show()\n"
   ]
  },
  {
   "cell_type": "code",
   "execution_count": 94,
   "id": "143bd2b9-c77d-4319-8f49-9f60b51a46be",
   "metadata": {},
   "outputs": [
    {
     "name": "stdout",
     "output_type": "stream",
     "text": [
      "Classification Report:\n",
      "\n",
      "              precision    recall  f1-score   support\n",
      "\n",
      "    Negative       0.95      0.99      0.97       596\n",
      "    Positive       0.99      0.95      0.97       596\n",
      "\n",
      "    accuracy                           0.97      1192\n",
      "   macro avg       0.97      0.97      0.97      1192\n",
      "weighted avg       0.97      0.97      0.97      1192\n",
      "\n"
     ]
    }
   ],
   "source": [
    "from sklearn.metrics import classification_report\n",
    "\n",
    "y_pred_binary = binary_model.predict(X_test_vec.toarray())\n",
    "y_pred_classes = y_pred_binary.argmax(axis=1)\n",
    "y_true = y_test_cat.argmax(axis=1)\n",
    "\n",
    "print(\"Classification Report:\\n\")\n",
    "print(classification_report(y_true, y_pred_classes, target_names=['Negative', 'Positive']))\n"
   ]
  },
  {
   "cell_type": "markdown",
   "id": "58b0599b-cae2-444b-90d4-2597853fa7ab",
   "metadata": {},
   "source": [
    "### MODEL SELECTION."
   ]
  },
  {
   "cell_type": "code",
   "execution_count": 120,
   "id": "8c374fbc-5016-466a-9785-3cdb8e1be18e",
   "metadata": {},
   "outputs": [
    {
     "name": "stdout",
     "output_type": "stream",
     "text": [
      "              precision    recall  f1-score   support\n",
      "\n",
      "           0       0.86      0.95      0.90       596\n",
      "           1       0.94      0.85      0.89       596\n",
      "\n",
      "    accuracy                           0.90      1192\n",
      "   macro avg       0.90      0.90      0.90      1192\n",
      "weighted avg       0.90      0.90      0.90      1192\n",
      "\n"
     ]
    }
   ],
   "source": [
    "from xgboost import XGBClassifier\n",
    "\n",
    "# Initialize base model \n",
    "xgb_model = XGBClassifier(\n",
    "    use_label_encoder=False,\n",
    "    eval_metric='logloss',\n",
    "    random_state=42\n",
    ")\n",
    "\n",
    "# Fit the model\n",
    "xgb_model.fit(X_train_vec, y_train)\n",
    "\n",
    "# Predict and evaluate\n",
    "y_pred = xgb_model.predict(X_test_vec)\n",
    "\n",
    "from sklearn.metrics import classification_report\n",
    "print(classification_report(y_test, y_pred))\n"
   ]
  },
  {
   "cell_type": "code",
   "execution_count": 121,
   "id": "93b9502b-a210-4ee7-9a74-521cc7267b15",
   "metadata": {},
   "outputs": [
    {
     "name": "stdout",
     "output_type": "stream",
     "text": [
      "Fitting 5 folds for each of 72 candidates, totalling 360 fits\n",
      "Best XGBoost Performance:\n",
      "\n",
      "              precision    recall  f1-score   support\n",
      "\n",
      "           0       0.88      0.97      0.92       596\n",
      "           1       0.97      0.87      0.92       596\n",
      "\n",
      "    accuracy                           0.92      1192\n",
      "   macro avg       0.92      0.92      0.92      1192\n",
      "weighted avg       0.92      0.92      0.92      1192\n",
      "\n"
     ]
    }
   ],
   "source": [
    "from sklearn.model_selection import GridSearchCV\n",
    "\n",
    "param_grid = {\n",
    "    'n_estimators': [100, 200],\n",
    "    'max_depth': [3, 5, 7],\n",
    "    'learning_rate': [0.05, 0.1, 0.2],\n",
    "    'subsample': [0.8, 1],\n",
    "    'colsample_bytree': [0.8, 1]\n",
    "}\n",
    "\n",
    "grid_search = GridSearchCV(\n",
    "    estimator=XGBClassifier(use_label_encoder=False, eval_metric='logloss', random_state=42),\n",
    "    param_grid=param_grid,\n",
    "    scoring='f1',  # Or use 'accuracy' or 'roc_auc'\n",
    "    cv=5,\n",
    "    verbose=1,\n",
    "    n_jobs=-1\n",
    ")\n",
    "\n",
    "grid_search.fit(X_train_vec, y_train)\n",
    "\n",
    "# Best estimator\n",
    "best_xgb = grid_search.best_estimator_\n",
    "\n",
    "# Evaluate on test set\n",
    "y_pred_best = best_xgb.predict(X_test_vec)\n",
    "print(\"Best XGBoost Performance:\\n\")\n",
    "print(classification_report(y_test, y_pred_best))\n"
   ]
  },
  {
   "cell_type": "markdown",
   "id": "8e3154cd-c77d-4787-9aaf-aaa1ab9cf1f9",
   "metadata": {},
   "source": [
    "Accuracy: 92%\n",
    "\n",
    "Macro F1: 0.92 — balanced performance across classes\n",
    "\n",
    "Support: Equal (596 each) → balanced evaluation\n",
    "\n",
    "What This Means:\n",
    "\n",
    "* The model is not biased toward either class (very important in sentiment tasks).\n",
    "\n",
    "* High recall for negative (class 0) means it's catching almost all negative tweets.\n",
    "\n",
    "* High precision for positive (class 1) means it rarely mislabels something as positive unless it’s really positive.\n",
    "\n",
    "-This F1 balance is ideal when both false positives and false negatives matter — e.g., in brand reputation tracking.\n",
    "\n",
    "Conclusion:\n",
    "\n",
    "based on this performance:\n",
    "\n",
    "XGBoost is the best model for binary sentiment classification."
   ]
  },
  {
   "cell_type": "code",
   "execution_count": 122,
   "id": "2096af92-7c1a-4fd0-a5d6-7b60074fc446",
   "metadata": {},
   "outputs": [
    {
     "data": {
      "image/png": "[encoded data removed]",
      "text/plain": [
       "<Figure size 432x288 with 1 Axes>"
      ]
     },
     "metadata": {
      "needs_background": "light"
     },
     "output_type": "display_data"
    }
   ],
   "source": [
    "import matplotlib.pyplot as plt\n",
    "import xgboost as xgb\n",
    "\n",
    "xgb.plot_importance(best_xgb, max_num_features=15, height=0.5)\n",
    "plt.title(\"Top 15 Important Features\")\n",
    "plt.show()\n"
   ]
  },
  {
   "cell_type": "markdown",
   "id": "8c7d7529-0995-4bcf-b052-fa16a83b7645",
   "metadata": {},
   "source": [
    "We chose the XGBoost model for sentiment classification due to its strong and balanced performance across both classes. After performing a comprehensive hyperparameter tuning using GridSearchCV with 5-fold cross-validation over 72 parameter combinations, the model achieved an overall accuracy of 92% on the test set.\n",
    "\n",
    "More importantly, the f1-scores for both classes were high and balanced:\n",
    "\n",
    "* Class 0 (Negative): f1-score = 0.92\n",
    "\n",
    "* Class 1 (Positive): f1-score = 0.92\n",
    "\n",
    "* Macro Avg f1-score: 0.92\n",
    "\n",
    "This indicates that the model is neither biased toward a single class nor overfitting, and handles class distinctions well. These results demonstrate that XGBoost is both accurate and reliable, making it a strong choice for this sentiment classification task."
   ]
  },
  {
   "cell_type": "markdown",
   "id": "fa6d4232-ff64-4ad9-9720-ec9e8c8a6832",
   "metadata": {},
   "source": [
    "### Saving the best model\n"
   ]
  },
  {
   "cell_type": "code",
   "execution_count": 123,
   "id": "1fd5537c-8864-4210-97b0-efe5afdd0912",
   "metadata": {},
   "outputs": [
    {
     "name": "stdout",
     "output_type": "stream",
     "text": [
      "Model saved as 'xgb_sentiment_model.pkl'\n"
     ]
    }
   ],
   "source": [
    "import joblib\n",
    "\n",
    "# Save your tuned XGBoost model\n",
    "joblib.dump(best_xgb, 'xgb_sentiment_model.pkl')\n",
    "\n",
    "print(\"Model saved as 'xgb_sentiment_model.pkl'\")\n"
   ]
  },
  {
   "cell_type": "markdown",
   "id": "fb41781f-7a1a-4deb-a33b-e91a1d9b0ac6",
   "metadata": {},
   "source": [
    "## CONCLUSION\n",
    "\n",
    "In this project, we successfully built a sentiment classification pipeline for tweets related to products and brands using Natural Language Processing (NLP) techniques. Starting from raw, noisy social media data, we performed comprehensive data cleaning, exploratory data analysis (EDA), class balancing, and text preprocessing, including stopword removal and stemming.\n",
    "\n",
    "\n",
    "The best-performing model will be selected for saving and future deployment, where it can be used to automatically analyze incoming tweets in real time. This solution enables businesses to monitor customer sentiment about their products on social media platforms, offering actionable insights for marketing, product development, and customer service strategies.\n",
    "\n",
    "Overall, the project demonstrates the practical power of NLP and machine learning in solving real-world problems related to brand percept."
   ]
  },
  {
   "cell_type": "markdown",
   "id": "8e84f435-0c0a-41dd-b7fd-5e699926244e",
   "metadata": {},
   "source": [
    "Future Work\n",
    "Model Deployment (Planned)\n",
    "Package the best-performing model and deploy it as an API using FastAPI, allowing real-time tweet sentiment predictions.\n",
    "\n",
    "Use Deep Learning Models\n",
    "Explore advanced models like LSTM or transformers (e.g., BERT) to potentially improve classification performance, especially on complex or nuanced tweets.\n",
    "\n",
    "Expand the Dataset\n",
    "Collect or integrate more labeled tweets to improve generalization and robustness, especially for underrepresented sentiment classes.\n",
    "Aspect-Based Sentiment Analysis\n",
    "Move beyond overall sentiment and analyze which specific product or brand feature the sentiment is directed toward."
   ]
  }
 ],
 "metadata": {
  "kernelspec": {
   "display_name": "Python (learn-env)",
   "language": "python",
   "name": "learn-env"
  },
  "language_info": {
   "codemirror_mode": {
    "name": "ipython",
    "version": 3
   },
   "file_extension": ".py",
   "mimetype": "text/x-python",
   "name": "python",
   "nbconvert_exporter": "python",
   "pygments_lexer": "ipython3",
   "version": "3.8.5"
  }
 },
 "nbformat": 4,
 "nbformat_minor": 5
}
