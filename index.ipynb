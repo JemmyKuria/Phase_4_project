{
 "cells": [
  {
   "cell_type": "markdown",
   "id": "065fd89e",
   "metadata": {},
   "source": [
    "# **PROJECT TITLE: Sentiment Classification of Product-Related Tweets Using NLP**"
   ]
  },
  {
   "cell_type": "markdown",
   "id": "90e85f93",
   "metadata": {},
   "source": [
    "![Twitter](Images/Twitter.png)"
   ]
  },
  {
   "cell_type": "markdown",
   "id": "6619b6c0",
   "metadata": {},
   "source": [
    "# **BUSINESS UNDERSTANDING** "
   ]
  },
  {
   "cell_type": "markdown",
   "id": "98ff5b16",
   "metadata": {},
   "source": [
    "## **PROJECT OVERVIEW**\n",
    "This project uses a labeled dataset of tweets (df_Tweet) to build a sentiment classification model. Each tweet contains free-form text and metadata such as the target of the emotion and whether an emotion is directed at a product or brand.\n",
    "\n",
    "The project follows these main stages:\n",
    "\n",
    "Text preprocessing (cleaning, tokenization)\n",
    "\n",
    "Exploratory Data Analysis (EDA)\n",
    "\n",
    "Addressing class imbalance\n",
    "\n",
    "Feature engineering\n",
    "\n",
    "Building and evaluating classification models\n",
    "\n",
    "The final model will classify whether a tweet contains emotion directed at a product or brand, enabling automated monitoring of customer sentiment on social media."
   ]
  },
  {
   "cell_type": "markdown",
   "id": "c6024634",
   "metadata": {},
   "source": [
    "## **PROBLEM STATEMENT**\n",
    "Given a dataset of tweets, the goal is to automatically detect whether a tweet contains emotion directed at a product or brand. This is formulated as a binary classification problem where the label is \"Yes\" or \"No\"."
   ]
  },
  {
   "cell_type": "markdown",
   "id": "97358d3d",
   "metadata": {},
   "source": [
    "## **OBJECTIVES**\n",
    "1. To build a machine learning model that can classify whether a tweet contains an emotion directed at a brand or product, using only the tweet text.\n",
    "\n",
    "2. To clean and preprocess tweet data by converting text to lowercase, removing punctuation, URLs, and mentions, and tokenizing for feature extraction.\n",
    "\n",
    "3. To explore and analyze the dataset through visualizations that reveal key patterns such as tweet length, emotional targets, and class imbalance.\n",
    "\n",
    "\n",
    "4. To address class imbalance in the dataset and improve model performance using resampling techniques or appropriate evaluation metrics.\n"
   ]
  },
  {
   "cell_type": "markdown",
   "id": "11092724",
   "metadata": {},
   "source": [
    "# **1. DATA LOADING & EXPLORATION**\n",
    "Before diving into analysis or modeling, it’s essential to load the dataset properly and explore its structure to understand what kind of data you're working with.\n",
    "\n",
    "🔹 a) . Data Loading\n",
    "We start by importing the necessary libraries and reading the dataset using pandas. Due to encoding issues that may arise when reading text data, we use the 'ISO-8859-1' encoding instead of the default 'utf-8'."
   ]
  },
  {
   "cell_type": "code",
   "execution_count": 88,
   "id": "70e8b193",
   "metadata": {},
   "outputs": [],
   "source": [
    "# Importing Libraries\n",
    "import pandas as pd\n",
    "import numpy as np\n",
    "import matplotlib.pyplot as plt\n",
    "import seaborn as sns\n",
    "import os \n",
    "import re\n",
    "import string\n",
    "from collections import Counter\n",
    "from sklearn.utils import resample"
   ]
  },
  {
   "cell_type": "code",
   "execution_count": 30,
   "id": "dc59e2ff",
   "metadata": {},
   "outputs": [
    {
     "data": {
      "text/html": [
       "<div>\n",
       "<style scoped>\n",
       "    .dataframe tbody tr th:only-of-type {\n",
       "        vertical-align: middle;\n",
       "    }\n",
       "\n",
       "    .dataframe tbody tr th {\n",
       "        vertical-align: top;\n",
       "    }\n",
       "\n",
       "    .dataframe thead th {\n",
       "        text-align: right;\n",
       "    }\n",
       "</style>\n",
       "<table border=\"1\" class=\"dataframe\">\n",
       "  <thead>\n",
       "    <tr style=\"text-align: right;\">\n",
       "      <th></th>\n",
       "      <th>tweet_text</th>\n",
       "      <th>emotion_in_tweet_is_directed_at</th>\n",
       "      <th>is_there_an_emotion_directed_at_a_brand_or_product</th>\n",
       "    </tr>\n",
       "  </thead>\n",
       "  <tbody>\n",
       "    <tr>\n",
       "      <th>0</th>\n",
       "      <td>.@wesley83 I have a 3G iPhone. After 3 hrs twe...</td>\n",
       "      <td>iPhone</td>\n",
       "      <td>Negative emotion</td>\n",
       "    </tr>\n",
       "    <tr>\n",
       "      <th>1</th>\n",
       "      <td>@jessedee Know about @fludapp ? Awesome iPad/i...</td>\n",
       "      <td>iPad or iPhone App</td>\n",
       "      <td>Positive emotion</td>\n",
       "    </tr>\n",
       "    <tr>\n",
       "      <th>2</th>\n",
       "      <td>@swonderlin Can not wait for #iPad 2 also. The...</td>\n",
       "      <td>iPad</td>\n",
       "      <td>Positive emotion</td>\n",
       "    </tr>\n",
       "    <tr>\n",
       "      <th>3</th>\n",
       "      <td>@sxsw I hope this year's festival isn't as cra...</td>\n",
       "      <td>iPad or iPhone App</td>\n",
       "      <td>Negative emotion</td>\n",
       "    </tr>\n",
       "    <tr>\n",
       "      <th>4</th>\n",
       "      <td>@sxtxstate great stuff on Fri #SXSW: Marissa M...</td>\n",
       "      <td>Google</td>\n",
       "      <td>Positive emotion</td>\n",
       "    </tr>\n",
       "  </tbody>\n",
       "</table>\n",
       "</div>"
      ],
      "text/plain": [
       "                                          tweet_text  \\\n",
       "0  .@wesley83 I have a 3G iPhone. After 3 hrs twe...   \n",
       "1  @jessedee Know about @fludapp ? Awesome iPad/i...   \n",
       "2  @swonderlin Can not wait for #iPad 2 also. The...   \n",
       "3  @sxsw I hope this year's festival isn't as cra...   \n",
       "4  @sxtxstate great stuff on Fri #SXSW: Marissa M...   \n",
       "\n",
       "  emotion_in_tweet_is_directed_at  \\\n",
       "0                          iPhone   \n",
       "1              iPad or iPhone App   \n",
       "2                            iPad   \n",
       "3              iPad or iPhone App   \n",
       "4                          Google   \n",
       "\n",
       "  is_there_an_emotion_directed_at_a_brand_or_product  \n",
       "0                                   Negative emotion  \n",
       "1                                   Positive emotion  \n",
       "2                                   Positive emotion  \n",
       "3                                   Negative emotion  \n",
       "4                                   Positive emotion  "
      ]
     },
     "execution_count": 30,
     "metadata": {},
     "output_type": "execute_result"
    }
   ],
   "source": [
    "# Loading the dataset\n",
    "df_Tweet = pd.read_csv('Data/tweet_product_company.csv', encoding='ISO-8859-1')\n",
    "\n",
    "# Preview the first 5 rows\n",
    "df_Tweet.head()"
   ]
  },
  {
   "cell_type": "markdown",
   "id": "4f19343e",
   "metadata": {},
   "source": [
    "🔹 b) . Basic Dataset Information\n",
    "Understanding the size and structure of the dataset helps inform how we’ll process it."
   ]
  },
  {
   "cell_type": "code",
   "execution_count": 31,
   "id": "6af08434",
   "metadata": {},
   "outputs": [
    {
     "data": {
      "text/plain": [
       "(9093, 3)"
      ]
     },
     "execution_count": 31,
     "metadata": {},
     "output_type": "execute_result"
    }
   ],
   "source": [
    "# Check number of rows and columns\n",
    "df_Tweet.shape\n"
   ]
  },
  {
   "cell_type": "code",
   "execution_count": 32,
   "id": "5818285d",
   "metadata": {},
   "outputs": [
    {
     "data": {
      "text/plain": [
       "Index(['tweet_text', 'emotion_in_tweet_is_directed_at',\n",
       "       'is_there_an_emotion_directed_at_a_brand_or_product'],\n",
       "      dtype='object')"
      ]
     },
     "execution_count": 32,
     "metadata": {},
     "output_type": "execute_result"
    }
   ],
   "source": [
    "# Display column names\n",
    "df_Tweet.columns\n"
   ]
  },
  {
   "cell_type": "code",
   "execution_count": 33,
   "id": "28aa57de",
   "metadata": {},
   "outputs": [
    {
     "name": "stdout",
     "output_type": "stream",
     "text": [
      "<class 'pandas.core.frame.DataFrame'>\n",
      "RangeIndex: 9093 entries, 0 to 9092\n",
      "Data columns (total 3 columns):\n",
      " #   Column                                              Non-Null Count  Dtype \n",
      "---  ------                                              --------------  ----- \n",
      " 0   tweet_text                                          9092 non-null   object\n",
      " 1   emotion_in_tweet_is_directed_at                     3291 non-null   object\n",
      " 2   is_there_an_emotion_directed_at_a_brand_or_product  9093 non-null   object\n",
      "dtypes: object(3)\n",
      "memory usage: 213.2+ KB\n"
     ]
    }
   ],
   "source": [
    "# Get basic information about data types and missing values\n",
    "df_Tweet.info()\n"
   ]
  },
  {
   "cell_type": "markdown",
   "id": "39275bcd",
   "metadata": {},
   "source": [
    "🔹 c). Statistical Summary\n",
    "We can describe the numerical columns (if any) to see general trends like average values, min/max, and standard deviations.\n"
   ]
  },
  {
   "cell_type": "code",
   "execution_count": null,
   "id": "b05326c4",
   "metadata": {},
   "outputs": [
    {
     "data": {
      "text/html": [
       "<div>\n",
       "<style scoped>\n",
       "    .dataframe tbody tr th:only-of-type {\n",
       "        vertical-align: middle;\n",
       "    }\n",
       "\n",
       "    .dataframe tbody tr th {\n",
       "        vertical-align: top;\n",
       "    }\n",
       "\n",
       "    .dataframe thead th {\n",
       "        text-align: right;\n",
       "    }\n",
       "</style>\n",
       "<table border=\"1\" class=\"dataframe\">\n",
       "  <thead>\n",
       "    <tr style=\"text-align: right;\">\n",
       "      <th></th>\n",
       "      <th>tweet_text</th>\n",
       "      <th>emotion_in_tweet_is_directed_at</th>\n",
       "      <th>is_there_an_emotion_directed_at_a_brand_or_product</th>\n",
       "    </tr>\n",
       "  </thead>\n",
       "  <tbody>\n",
       "    <tr>\n",
       "      <th>count</th>\n",
       "      <td>9092</td>\n",
       "      <td>3291</td>\n",
       "      <td>9093</td>\n",
       "    </tr>\n",
       "    <tr>\n",
       "      <th>unique</th>\n",
       "      <td>9065</td>\n",
       "      <td>9</td>\n",
       "      <td>4</td>\n",
       "    </tr>\n",
       "    <tr>\n",
       "      <th>top</th>\n",
       "      <td>RT @mention Marissa Mayer: Google Will Connect...</td>\n",
       "      <td>iPad</td>\n",
       "      <td>No emotion toward brand or product</td>\n",
       "    </tr>\n",
       "    <tr>\n",
       "      <th>freq</th>\n",
       "      <td>5</td>\n",
       "      <td>946</td>\n",
       "      <td>5389</td>\n",
       "    </tr>\n",
       "  </tbody>\n",
       "</table>\n",
       "</div>"
      ],
      "text/plain": [
       "                                               tweet_text  \\\n",
       "count                                                9092   \n",
       "unique                                               9065   \n",
       "top     RT @mention Marissa Mayer: Google Will Connect...   \n",
       "freq                                                    5   \n",
       "\n",
       "       emotion_in_tweet_is_directed_at  \\\n",
       "count                             3291   \n",
       "unique                               9   \n",
       "top                               iPad   \n",
       "freq                               946   \n",
       "\n",
       "       is_there_an_emotion_directed_at_a_brand_or_product  \n",
       "count                                                9093  \n",
       "unique                                                  4  \n",
       "top                    No emotion toward brand or product  \n",
       "freq                                                 5389  "
      ]
     },
     "execution_count": 34,
     "metadata": {},
     "output_type": "execute_result"
    }
   ],
   "source": [
    "# Summary statistics of the dataset\n",
    "df_Tweet.describe()"
   ]
  },
  {
   "cell_type": "code",
   "execution_count": 35,
   "id": "c1c1b934",
   "metadata": {},
   "outputs": [
    {
     "data": {
      "text/html": [
       "<div>\n",
       "<style scoped>\n",
       "    .dataframe tbody tr th:only-of-type {\n",
       "        vertical-align: middle;\n",
       "    }\n",
       "\n",
       "    .dataframe tbody tr th {\n",
       "        vertical-align: top;\n",
       "    }\n",
       "\n",
       "    .dataframe thead th {\n",
       "        text-align: right;\n",
       "    }\n",
       "</style>\n",
       "<table border=\"1\" class=\"dataframe\">\n",
       "  <thead>\n",
       "    <tr style=\"text-align: right;\">\n",
       "      <th></th>\n",
       "      <th>tweet_text</th>\n",
       "      <th>emotion_in_tweet_is_directed_at</th>\n",
       "      <th>is_there_an_emotion_directed_at_a_brand_or_product</th>\n",
       "    </tr>\n",
       "  </thead>\n",
       "  <tbody>\n",
       "    <tr>\n",
       "      <th>count</th>\n",
       "      <td>9092</td>\n",
       "      <td>3291</td>\n",
       "      <td>9093</td>\n",
       "    </tr>\n",
       "    <tr>\n",
       "      <th>unique</th>\n",
       "      <td>9065</td>\n",
       "      <td>9</td>\n",
       "      <td>4</td>\n",
       "    </tr>\n",
       "    <tr>\n",
       "      <th>top</th>\n",
       "      <td>RT @mention Marissa Mayer: Google Will Connect...</td>\n",
       "      <td>iPad</td>\n",
       "      <td>No emotion toward brand or product</td>\n",
       "    </tr>\n",
       "    <tr>\n",
       "      <th>freq</th>\n",
       "      <td>5</td>\n",
       "      <td>946</td>\n",
       "      <td>5389</td>\n",
       "    </tr>\n",
       "  </tbody>\n",
       "</table>\n",
       "</div>"
      ],
      "text/plain": [
       "                                               tweet_text  \\\n",
       "count                                                9092   \n",
       "unique                                               9065   \n",
       "top     RT @mention Marissa Mayer: Google Will Connect...   \n",
       "freq                                                    5   \n",
       "\n",
       "       emotion_in_tweet_is_directed_at  \\\n",
       "count                             3291   \n",
       "unique                               9   \n",
       "top                               iPad   \n",
       "freq                               946   \n",
       "\n",
       "       is_there_an_emotion_directed_at_a_brand_or_product  \n",
       "count                                                9093  \n",
       "unique                                                  4  \n",
       "top                    No emotion toward brand or product  \n",
       "freq                                                 5389  "
      ]
     },
     "execution_count": 35,
     "metadata": {},
     "output_type": "execute_result"
    }
   ],
   "source": [
    "# For categorical or text columns\n",
    "df_Tweet.describe(include=['object'])\n"
   ]
  },
  {
   "cell_type": "markdown",
   "id": "08f7feba",
   "metadata": {},
   "source": [
    "🔹 d). Checking for Missing Values"
   ]
  },
  {
   "cell_type": "code",
   "execution_count": null,
   "id": "7008a9c5",
   "metadata": {},
   "outputs": [
    {
     "data": {
      "text/plain": [
       "tweet_text                                               1\n",
       "emotion_in_tweet_is_directed_at                       5802\n",
       "is_there_an_emotion_directed_at_a_brand_or_product       0\n",
       "dtype: int64"
      ]
     },
     "execution_count": 36,
     "metadata": {},
     "output_type": "execute_result"
    }
   ],
   "source": [
    "# Check for missing values in the dataset\n",
    "df_Tweet.isnull().sum()"
   ]
  },
  {
   "cell_type": "markdown",
   "id": "de941b4f",
   "metadata": {},
   "source": [
    "🔹 5. Duplicate Check"
   ]
  },
  {
   "cell_type": "code",
   "execution_count": null,
   "id": "3abcf2e5",
   "metadata": {},
   "outputs": [
    {
     "data": {
      "text/plain": [
       "22"
      ]
     },
     "execution_count": 37,
     "metadata": {},
     "output_type": "execute_result"
    }
   ],
   "source": [
    "# Check for duplicate rows\n",
    "df_Tweet.duplicated().sum()"
   ]
  },
  {
   "cell_type": "markdown",
   "id": "0d904909",
   "metadata": {},
   "source": [
    "# **2.DATA CLEANING**\n",
    "Data cleaning means fixing these issues so the data is reliable and accurate for analysis."
   ]
  },
  {
   "cell_type": "markdown",
   "id": "d2e8e5f1",
   "metadata": {},
   "source": [
    " 1. tweet_text — Missing: 1 row\n",
    "This is the most critical feature because your model relies on the content of the tweet to predict sentiment."
   ]
  },
  {
   "cell_type": "code",
   "execution_count": null,
   "id": "db2d33e9",
   "metadata": {},
   "outputs": [],
   "source": [
    "# Drop rows with missing values in 'tweet_text'\n",
    "df_Tweet.dropna(subset=['tweet_text'], inplace=True)"
   ]
  },
  {
   "cell_type": "markdown",
   "id": "70b082bf",
   "metadata": {},
   "source": [
    "2. emotion_in_tweet_is_directed_at — Missing: 5802 rows\n",
    "This column indicates whether the emotion is directed at a brand/product. It may be useful as a feature, but it's not essential for basic sentiment classification based on text."
   ]
  },
  {
   "cell_type": "code",
   "execution_count": null,
   "id": "5f5a408f",
   "metadata": {},
   "outputs": [],
   "source": [
    "# Fill missing values in 'emotion_in_tweet_is_directed_at' with 'None'\n",
    "df_Tweet['emotion_in_tweet_is_directed_at'].fillna('None', inplace=True)"
   ]
  },
  {
   "cell_type": "markdown",
   "id": "bc96237c",
   "metadata": {},
   "source": [
    "## Drop the Duplicates"
   ]
  },
  {
   "cell_type": "code",
   "execution_count": null,
   "id": "010d327e",
   "metadata": {},
   "outputs": [],
   "source": [
    "# Droping duplicates\n",
    "\n",
    "df_Tweet.drop_duplicates(inplace=True)\n",
    "\n",
    "df_Tweet.drop_duplicates(subset='tweet_text', inplace=True)\n"
   ]
  },
  {
   "cell_type": "code",
   "execution_count": 52,
   "id": "ed7eed02",
   "metadata": {},
   "outputs": [
    {
     "data": {
      "text/plain": [
       "0"
      ]
     },
     "execution_count": 52,
     "metadata": {},
     "output_type": "execute_result"
    }
   ],
   "source": [
    "# Check is duplicates were removed\n",
    "df_Tweet.duplicated(subset='tweet_text').sum()"
   ]
  },
  {
   "cell_type": "markdown",
   "id": "158f7bc3",
   "metadata": {},
   "source": [
    "## **3.EDA (DATA ANALYSIS) & DATA VISUALIZATION**\n",
    "EDA is like getting to know my data — it’s the first step where i carefully examined the dataset to understand its main characteristics.\n",
    "\n",
    "Data Visualization is the process of creating charts, graphs, and maps that turn numbers and data into pictures."
   ]
  },
  {
   "cell_type": "markdown",
   "id": "3cd34f64",
   "metadata": {},
   "source": [
    "### **1. UNIVARIATE ANALYSIS**\n",
    "#### Checking for distribution of the data and visualizing it.\n",
    "\n",
    "#### Univariate analysis is the simplest form of data analysis — it examines just one variable at a time.\n",
    "\n",
    "#### Examples include: Bar Graphs, Histogram, Box Plot, Pie Chart"
   ]
  },
  {
   "cell_type": "markdown",
   "id": "7b4c69e6",
   "metadata": {},
   "source": [
    "Class imbalance may exist, which is important to handle before training a model (through resampling or class weighting)."
   ]
  },
  {
   "cell_type": "markdown",
   "id": "2ca20778",
   "metadata": {},
   "source": [
    "🔹 a) Tweet Length Distribution "
   ]
  },
  {
   "cell_type": "code",
   "execution_count": null,
   "id": "a24f393b",
   "metadata": {},
   "outputs": [
    {
     "data": {
      "image/png": "[encoded data removed]",
      "text/plain": [
       "<Figure size 576x360 with 1 Axes>"
      ]
     },
     "metadata": {
      "needs_background": "light"
     },
     "output_type": "display_data"
    }
   ],
   "source": [
    "# Check distribution of Tweet lengths\n",
    "df_Tweet['tweet_length'] = df_Tweet['tweet_text'].apply(len)\n",
    "\n",
    "plt.figure(figsize=(8,5))\n",
    "sns.histplot(df_Tweet['tweet_length'], bins=30, kde=True, color='blue')\n",
    "plt.title('Distribution of Tweet Lengths')\n",
    "plt.xlabel('Tweet Length (characters)')\n",
    "plt.ylabel('Frequency')\n",
    "plt.show()"
   ]
  },
  {
   "cell_type": "markdown",
   "id": "beb266f0",
   "metadata": {},
   "source": [
    "Most tweets are between 50–150 characters, suggesting tweets are short-form."
   ]
  },
  {
   "cell_type": "markdown",
   "id": "cd6ef15e",
   "metadata": {},
   "source": [
    "🔹 b) Word Count Distribution"
   ]
  },
  {
   "cell_type": "code",
   "execution_count": null,
   "id": "27cdae68",
   "metadata": {},
   "outputs": [
    {
     "data": {
      "image/png": "[encoded data removed]",
      "text/plain": [
       "<Figure size 576x360 with 1 Axes>"
      ]
     },
     "metadata": {
      "needs_background": "light"
     },
     "output_type": "display_data"
    }
   ],
   "source": [
    "# Check the distribution of word counts in tweets\n",
    "df_Tweet['word_count'] = df_Tweet['tweet_text'].apply(lambda x: len(x.split()))\n",
    "\n",
    "plt.figure(figsize=(8,5))\n",
    "sns.histplot(df_Tweet['word_count'], bins=30, kde=True, color='coral')\n",
    "plt.title('Distribution of Word Counts in Tweets')\n",
    "plt.xlabel('Word Count')\n",
    "plt.ylabel('Frequency')\n",
    "plt.show()\n"
   ]
  },
  {
   "cell_type": "markdown",
   "id": "337b69b9",
   "metadata": {},
   "source": [
    "Tweets have 5 to 20 words on average.\n",
    "\n",
    "Confirms that token-level feature engineering is manageable.\n"
   ]
  },
  {
   "cell_type": "markdown",
   "id": "1b72d822",
   "metadata": {},
   "source": [
    "### **2. BIVARIATE ANALYSIS**\n",
    "#### Checking for correlations; multiple Xs and Y\n",
    "\n",
    "#### Bivariate analysis explores the relationship between two variables.\n",
    "\n",
    "#### Purpose: To identify whether and how the variables are related — for example, does one increase when the other does?\n",
    "\n",
    "#### Examples include: Heatmaps, Line Graphs,Bar Plot, Scatter Plot ."
   ]
  },
  {
   "cell_type": "markdown",
   "id": "b77a0c51",
   "metadata": {},
   "source": [
    "🔹 a) Tweet Length vs Sentiment (Target)"
   ]
  },
  {
   "cell_type": "code",
   "execution_count": null,
   "id": "3b39c80d",
   "metadata": {},
   "outputs": [
    {
     "data": {
      "image/png": "[encoded data removed]",
      "text/plain": [
       "<Figure size 720x864 with 1 Axes>"
      ]
     },
     "metadata": {
      "needs_background": "light"
     },
     "output_type": "display_data"
    }
   ],
   "source": [
    "# Boxplot of Word Count by Sentiment\n",
    "plt.figure(figsize=(10,12))\n",
    "sns.boxplot(data=df_Tweet, \n",
    "            x='is_there_an_emotion_directed_at_a_brand_or_product', \n",
    "            y='tweet_length', \n",
    "            palette='Set3')\n",
    "plt.title('Tweet Length by Sentiment')\n",
    "plt.xlabel('Sentiment (Emotion Directed at Product)')\n",
    "plt.ylabel('Tweet Length')\n",
    "plt.show()\n"
   ]
  },
  {
   "cell_type": "markdown",
   "id": "1cb0a9f3",
   "metadata": {},
   "source": [
    "Tweets marked with emotion (Yes) are generally longer.\n",
    "\n",
    "Therefore the tweet length may be predictive of emotional content and can be included as a feature in modeling."
   ]
  },
  {
   "cell_type": "markdown",
   "id": "4918f3fb",
   "metadata": {},
   "source": [
    "🔹 b) Word Count vs Sentiment"
   ]
  },
  {
   "cell_type": "code",
   "execution_count": null,
   "id": "e50642cc",
   "metadata": {},
   "outputs": [
    {
     "data": {
      "image/png": "[encoded data removed]",
      "text/plain": [
       "<Figure size 720x864 with 1 Axes>"
      ]
     },
     "metadata": {
      "needs_background": "light"
     },
     "output_type": "display_data"
    }
   ],
   "source": [
    "# Boxplot of Word Count by Sentiment\n",
    "plt.figure(figsize=(10,12))\n",
    "sns.boxplot(data=df_Tweet, \n",
    "            x='is_there_an_emotion_directed_at_a_brand_or_product', \n",
    "            y='word_count', \n",
    "            palette='Set2')\n",
    "plt.title('Word Count by Sentiment')\n",
    "plt.xlabel('Sentiment (Emotion Directed at Product)')\n",
    "plt.ylabel('Word Count')\n",
    "plt.show()\n"
   ]
  },
  {
   "cell_type": "markdown",
   "id": "cefe8893",
   "metadata": {},
   "source": [
    "Emotional tweets tend to have more words, suggesting wordiness correlates with sentiment."
   ]
  },
  {
   "cell_type": "markdown",
   "id": "2fbfa262",
   "metadata": {},
   "source": [
    "### **3. MULTIVARIATE ANALYSIS**\n",
    "\n",
    "#### way of exploring how three or more variables (characteristics) relate to each other at the same time.\n",
    "\n",
    "#### Purpose: To understand complex relationships and interactions among multiple variables.\n",
    "\n",
    "#### Examples include: Heatmaps, Scatterplots, Pairplots, 3D Scatter Plot, Parallel Coordinates Plot\n"
   ]
  },
  {
   "cell_type": "markdown",
   "id": "629a1098",
   "metadata": {},
   "source": [
    "🔹 a) Emotion Target vs Sentiment"
   ]
  },
  {
   "cell_type": "code",
   "execution_count": null,
   "id": "acc16e03",
   "metadata": {},
   "outputs": [
    {
     "data": {
      "image/png": "[encoded data removed]",
      "text/plain": [
       "<Figure size 864x432 with 1 Axes>"
      ]
     },
     "metadata": {
      "needs_background": "light"
     },
     "output_type": "display_data"
    }
   ],
   "source": [
    "# Countplot of Sentiment (Emotion Present) by Emotion Target\n",
    "plt.figure(figsize=(12,6))\n",
    "sns.countplot(\n",
    "    data=df_Tweet, \n",
    "    x='emotion_in_tweet_is_directed_at', \n",
    "    hue='is_there_an_emotion_directed_at_a_brand_or_product', \n",
    "    palette='pastel'\n",
    ")\n",
    "plt.xticks(rotation=45)\n",
    "plt.title('Sentiment (Emotion Present) by Emotion Target')\n",
    "plt.xlabel('Entity the Emotion is Directed At')\n",
    "plt.ylabel('Tweet Count')\n",
    "plt.legend(title='Emotion Present')\n",
    "plt.show()\n"
   ]
  },
  {
   "cell_type": "markdown",
   "id": "3f1ac91b",
   "metadata": {},
   "source": [
    "Some entities like 'Apple', 'iPad', and 'Google' receive a significantly higher number of emotionally-labeled tweets compared to others.\n",
    "\n",
    "This suggests that the entity being mentioned influences the presence of sentiment.\n",
    "\n",
    "**You can engineer a categorical feature from emotion_in_tweet_is_directed_at using target encoding or one-hot encoding.**"
   ]
  },
  {
   "cell_type": "markdown",
   "id": "06afd86d",
   "metadata": {},
   "source": [
    "🔹 b) Tweet Length by Sentiment and Emotion Target"
   ]
  },
  {
   "cell_type": "code",
   "execution_count": null,
   "id": "e934e5e6",
   "metadata": {},
   "outputs": [
    {
     "data": {
      "image/png": "[encoded data removed]",
      "text/plain": [
       "<Figure size 1008x432 with 1 Axes>"
      ]
     },
     "metadata": {
      "needs_background": "light"
     },
     "output_type": "display_data"
    }
   ],
   "source": [
    "# Boxplot of Tweet Length by Emotion Target and Sentiment\n",
    "plt.figure(figsize=(14,6))\n",
    "sns.boxplot(\n",
    "    data=df_Tweet, \n",
    "    x='emotion_in_tweet_is_directed_at', \n",
    "    y='tweet_length', \n",
    "    hue='is_there_an_emotion_directed_at_a_brand_or_product', \n",
    "    palette='Set1'\n",
    ")\n",
    "plt.xticks(rotation=45)\n",
    "plt.title('Tweet Length by Emotion Target and Sentiment')\n",
    "plt.xlabel('Emotion Directed At')\n",
    "plt.ylabel('Tweet Length')\n",
    "plt.legend(title='Emotion Present')\n",
    "plt.show()\n"
   ]
  },
  {
   "cell_type": "markdown",
   "id": "51953c91",
   "metadata": {},
   "source": [
    "Longer emotional tweets may be more prevalent for certain brands.\n",
    "\n",
    "Suggests an interaction effect between target entity and sentiment that could improve model performance.\n",
    "\n",
    "Use interaction terms or allow tree-based models to capture this."
   ]
  },
  {
   "cell_type": "markdown",
   "id": "c039b8ee",
   "metadata": {},
   "source": [
    "🔹 c) Correlation Between Length and Word Count (Numerical Features)"
   ]
  },
  {
   "cell_type": "code",
   "execution_count": null,
   "id": "b63d991d",
   "metadata": {},
   "outputs": [
    {
     "data": {
      "image/png": "[encoded data removed]",
      "text/plain": [
       "<Figure size 432x288 with 2 Axes>"
      ]
     },
     "metadata": {
      "needs_background": "light"
     },
     "output_type": "display_data"
    }
   ],
   "source": [
    "# Correlation Heatmap\n",
    "corr = df_Tweet[['tweet_length', 'word_count']].corr()\n",
    "sns.heatmap(corr, annot=True, cmap='Blues')\n",
    "plt.title('Correlation Between Tweet Length and Word Count')\n",
    "plt.show()"
   ]
  },
  {
   "cell_type": "markdown",
   "id": "178144b1",
   "metadata": {},
   "source": [
    "Expect very high correlation (~0.9).\n",
    "\n",
    "Keep only one of these features (preferably word_count if using token-based models) to avoid redundancy."
   ]
  },
  {
   "cell_type": "markdown",
   "id": "0ce6e07d",
   "metadata": {},
   "source": [
    "# **4. DATA PREPROCESSING**\n",
    "This is where raw data is transformed, cleaned, and prepared for analysis or modeling."
   ]
  },
  {
   "cell_type": "markdown",
   "id": "431755fa",
   "metadata": {},
   "source": [
    "1. Lowercasing, Remove Punctuation, URLs, Mentions"
   ]
  },
  {
   "cell_type": "code",
   "execution_count": null,
   "id": "ce15d3f9",
   "metadata": {},
   "outputs": [],
   "source": [
    "# Data Preprocessing\n",
    "def clean_text(text):\n",
    "     # Lowercase\n",
    "    text = text.lower()  \n",
    "     # Remove URLs\n",
    "    text = re.sub(r\"http\\S+|www\\S+|https\\S+\", '', text, flags=re.MULTILINE)\n",
    "    # Remove @mentions \n",
    "    text = re.sub(r'@\\w+', '', text)  \n",
    "     # Remove punctuation\n",
    "    text = re.sub(f\"[{re.escape(string.punctuation)}]\", '', text)  \n",
    "    # Remove extra whitespace\n",
    "    text = re.sub(r'\\s+', ' ', text).strip()  \n",
    "    return text\n",
    "\n",
    "df_Tweet['clean_text'] = df_Tweet['tweet_text'].apply(clean_text)\n"
   ]
  },
  {
   "cell_type": "markdown",
   "id": "1a75b7ef",
   "metadata": {},
   "source": [
    "2. Word Tokenization"
   ]
  },
  {
   "cell_type": "code",
   "execution_count": null,
   "id": "ba0bb4ce",
   "metadata": {},
   "outputs": [],
   "source": [
    "# Word Tokenization\n",
    "df_Tweet['tokens'] = df_Tweet['clean_text'].apply(lambda x: x.split())"
   ]
  },
  {
   "cell_type": "markdown",
   "id": "6313a5b8",
   "metadata": {},
   "source": [
    "3. Class Imbalance Check\n"
   ]
  },
  {
   "cell_type": "code",
   "execution_count": null,
   "id": "2b61286e",
   "metadata": {},
   "outputs": [
    {
     "data": {
      "text/plain": [
       "No emotion toward brand or product    5372\n",
       "Positive emotion                      2968\n",
       "Negative emotion                       569\n",
       "I can't tell                           156\n",
       "Name: is_there_an_emotion_directed_at_a_brand_or_product, dtype: int64"
      ]
     },
     "execution_count": 92,
     "metadata": {},
     "output_type": "execute_result"
    }
   ],
   "source": [
    "# Check class imbalance in the target variable\n",
    "df_Tweet['is_there_an_emotion_directed_at_a_brand_or_product'].value_counts()"
   ]
  },
  {
   "cell_type": "code",
   "execution_count": 93,
   "id": "375ea7da",
   "metadata": {},
   "outputs": [],
   "source": [
    "# Handling Class Imbalance\n",
    "# Rename for clarity\n",
    "df_Tweet.rename(columns={'is_there_an_emotion_directed_at_a_brand_or_product': 'sentiment'}, inplace=True)\n",
    "\n",
    "# Separate majority and minority classes\n",
    "majority = df_Tweet[df_Tweet['sentiment'] == 'No']\n",
    "minority = df_Tweet[df_Tweet['sentiment'] == 'Yes']\n",
    "\n",
    "# Upsample minority\n",
    "minority_upsampled = resample(minority, \n",
    "                              replace=True, \n",
    "                              n_samples=len(majority), \n",
    "                              random_state=42)\n",
    "\n",
    "# Combine and shuffle\n",
    "df_Tweet_balanced = pd.concat([majority, minority_upsampled]).sample(frac=1, random_state=42).reset_index(drop=True)\n"
   ]
  },
  {
   "cell_type": "code",
   "execution_count": 94,
   "id": "72ba8a5b",
   "metadata": {},
   "outputs": [
    {
     "data": {
      "text/html": [
       "<div>\n",
       "<style scoped>\n",
       "    .dataframe tbody tr th:only-of-type {\n",
       "        vertical-align: middle;\n",
       "    }\n",
       "\n",
       "    .dataframe tbody tr th {\n",
       "        vertical-align: top;\n",
       "    }\n",
       "\n",
       "    .dataframe thead th {\n",
       "        text-align: right;\n",
       "    }\n",
       "</style>\n",
       "<table border=\"1\" class=\"dataframe\">\n",
       "  <thead>\n",
       "    <tr style=\"text-align: right;\">\n",
       "      <th></th>\n",
       "      <th>tweet_text</th>\n",
       "      <th>clean_text</th>\n",
       "      <th>tokens</th>\n",
       "      <th>sentiment</th>\n",
       "    </tr>\n",
       "  </thead>\n",
       "  <tbody>\n",
       "  </tbody>\n",
       "</table>\n",
       "</div>"
      ],
      "text/plain": [
       "Empty DataFrame\n",
       "Columns: [tweet_text, clean_text, tokens, sentiment]\n",
       "Index: []"
      ]
     },
     "execution_count": 94,
     "metadata": {},
     "output_type": "execute_result"
    }
   ],
   "source": [
    "df_Tweet_balanced[['tweet_text', 'clean_text', 'tokens', 'sentiment']].head()\n"
   ]
  },
  {
   "cell_type": "code",
   "execution_count": 97,
   "id": "4e021fc8",
   "metadata": {},
   "outputs": [],
   "source": [
    "# Save the Cleaned Dataset to CSV\n",
    "df_Tweet_balanced.to_csv('Data/Cleaned_Tweet.csv', index=False)\n"
   ]
  }
 ],
 "metadata": {
  "kernelspec": {
   "display_name": "learn-env",
   "language": "python",
   "name": "python3"
  },
  "language_info": {
   "codemirror_mode": {
    "name": "ipython",
    "version": 3
   },
   "file_extension": ".py",
   "mimetype": "text/x-python",
   "name": "python",
   "nbconvert_exporter": "python",
   "pygments_lexer": "ipython3",
   "version": "3.8.5"
  }
 },
 "nbformat": 4,
 "nbformat_minor": 5
}
