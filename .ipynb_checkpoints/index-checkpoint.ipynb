{
 "cells": [
  {
   "cell_type": "markdown",
   "id": "9ff24899",
   "metadata": {},
   "source": [
    "# **PROJECT TITLE: Sentiment Classification of Product-Related Tweets Using NLP**"
   ]
  },
  {
   "cell_type": "markdown",
   "id": "3fe2be1a",
   "metadata": {},
   "source": [
    "![Twitter](Images/Twitter.png)"
   ]
  },
  {
   "cell_type": "markdown",
   "id": "20e485c4",
   "metadata": {},
   "source": [
    "# **BUSINESS UNDERSTANDING** "
   ]
  },
  {
   "cell_type": "markdown",
   "id": "b43a20a4",
   "metadata": {},
   "source": [
    "## **PROJECT OVERVIEW**\n",
    "This project uses a labeled dataset of tweets (df_Tweet) to build a sentiment classification model. Each tweet contains free-form text and metadata such as the target of the emotion and whether an emotion is directed at a product or brand.\n",
    "\n",
    "The project follows these main stages:\n",
    "\n",
    "Text preprocessing (cleaning, tokenization)\n",
    "\n",
    "Exploratory Data Analysis (EDA)\n",
    "\n",
    "Addressing class imbalance\n",
    "\n",
    "Feature engineering\n",
    "\n",
    "Building and evaluating classification models\n",
    "\n",
    "The final model will classify whether a tweet contains emotion directed at a product or brand, enabling automated monitoring of customer sentiment on social media."
   ]
  },
  {
   "cell_type": "markdown",
   "id": "81d7a791",
   "metadata": {},
   "source": [
    "## **PROBLEM STATEMENT**\n",
    "Given a dataset of tweets, the goal is to automatically detect whether a tweet contains emotion directed at a product or brand. This is formulated as a binary classification problem where the label is \"Yes\" or \"No\"."
   ]
  },
  {
   "cell_type": "markdown",
   "id": "7e1e04be",
   "metadata": {},
   "source": [
    "## **OBJECTIVES**\n",
    "1. To build a machine learning model that can classify whether a tweet contains an emotion directed at a brand or product, using only the tweet text.\n",
    "\n",
    "2. To clean and preprocess tweet data by converting text to lowercase, removing punctuation, URLs, and mentions, and tokenizing for feature extraction.\n",
    "\n",
    "3. To explore and analyze the dataset through visualizations that reveal key patterns such as tweet length, emotional targets, and class imbalance.\n",
    "\n",
    "\n",
    "4. To address class imbalance in the dataset and improve model performance using resampling techniques or appropriate evaluation metrics.\n"
   ]
  },
  {
   "cell_type": "markdown",
   "id": "cae9f6e2",
   "metadata": {},
   "source": [
    "# **1. DATA LOADING & EXPLORATION**\n",
    "Before diving into analysis or modeling, it’s essential to load the dataset properly and explore its structure to understand what kind of data you're working with.\n",
    "\n",
    "🔹 a) . Data Loading\n",
    "We start by importing the necessary libraries and reading the dataset using pandas. Due to encoding issues that may arise when reading text data, we use the 'ISO-8859-1' encoding instead of the default 'utf-8'."
   ]
  },
  {
   "cell_type": "code",
   "execution_count": 1,
   "id": "337dd9c3",
   "metadata": {},
   "outputs": [],
   "source": [
    "# Importing Libraries\n",
    "import pandas as pd\n",
    "import numpy as np\n",
    "import matplotlib.pyplot as plt\n",
    "import seaborn as sns\n",
    "import os \n",
    "import re\n",
    "import string\n",
    "from collections import Counter\n",
    "from sklearn.utils import resample"
   ]
  },
  {
   "cell_type": "code",
   "execution_count": 2,
   "id": "c2f9e16f",
   "metadata": {},
   "outputs": [
    {
     "data": {
      "text/html": [
       "<div>\n",
       "<style scoped>\n",
       "    .dataframe tbody tr th:only-of-type {\n",
       "        vertical-align: middle;\n",
       "    }\n",
       "\n",
       "    .dataframe tbody tr th {\n",
       "        vertical-align: top;\n",
       "    }\n",
       "\n",
       "    .dataframe thead th {\n",
       "        text-align: right;\n",
       "    }\n",
       "</style>\n",
       "<table border=\"1\" class=\"dataframe\">\n",
       "  <thead>\n",
       "    <tr style=\"text-align: right;\">\n",
       "      <th></th>\n",
       "      <th>tweet_text</th>\n",
       "      <th>emotion_in_tweet_is_directed_at</th>\n",
       "      <th>is_there_an_emotion_directed_at_a_brand_or_product</th>\n",
       "    </tr>\n",
       "  </thead>\n",
       "  <tbody>\n",
       "    <tr>\n",
       "      <th>0</th>\n",
       "      <td>.@wesley83 I have a 3G iPhone. After 3 hrs twe...</td>\n",
       "      <td>iPhone</td>\n",
       "      <td>Negative emotion</td>\n",
       "    </tr>\n",
       "    <tr>\n",
       "      <th>1</th>\n",
       "      <td>@jessedee Know about @fludapp ? Awesome iPad/i...</td>\n",
       "      <td>iPad or iPhone App</td>\n",
       "      <td>Positive emotion</td>\n",
       "    </tr>\n",
       "    <tr>\n",
       "      <th>2</th>\n",
       "      <td>@swonderlin Can not wait for #iPad 2 also. The...</td>\n",
       "      <td>iPad</td>\n",
       "      <td>Positive emotion</td>\n",
       "    </tr>\n",
       "    <tr>\n",
       "      <th>3</th>\n",
       "      <td>@sxsw I hope this year's festival isn't as cra...</td>\n",
       "      <td>iPad or iPhone App</td>\n",
       "      <td>Negative emotion</td>\n",
       "    </tr>\n",
       "    <tr>\n",
       "      <th>4</th>\n",
       "      <td>@sxtxstate great stuff on Fri #SXSW: Marissa M...</td>\n",
       "      <td>Google</td>\n",
       "      <td>Positive emotion</td>\n",
       "    </tr>\n",
       "  </tbody>\n",
       "</table>\n",
       "</div>"
      ],
      "text/plain": [
       "                                          tweet_text  \\\n",
       "0  .@wesley83 I have a 3G iPhone. After 3 hrs twe...   \n",
       "1  @jessedee Know about @fludapp ? Awesome iPad/i...   \n",
       "2  @swonderlin Can not wait for #iPad 2 also. The...   \n",
       "3  @sxsw I hope this year's festival isn't as cra...   \n",
       "4  @sxtxstate great stuff on Fri #SXSW: Marissa M...   \n",
       "\n",
       "  emotion_in_tweet_is_directed_at  \\\n",
       "0                          iPhone   \n",
       "1              iPad or iPhone App   \n",
       "2                            iPad   \n",
       "3              iPad or iPhone App   \n",
       "4                          Google   \n",
       "\n",
       "  is_there_an_emotion_directed_at_a_brand_or_product  \n",
       "0                                   Negative emotion  \n",
       "1                                   Positive emotion  \n",
       "2                                   Positive emotion  \n",
       "3                                   Negative emotion  \n",
       "4                                   Positive emotion  "
      ]
     },
     "execution_count": 2,
     "metadata": {},
     "output_type": "execute_result"
    }
   ],
   "source": [
    "# Loading the dataset\n",
    "df_Tweet = pd.read_csv('Data/tweet_product_company.csv', encoding='ISO-8859-1')\n",
    "\n",
    "# Preview the first 5 rows\n",
    "df_Tweet.head()"
   ]
  },
  {
   "cell_type": "markdown",
   "id": "37bad823",
   "metadata": {},
   "source": [
    "🔹 b) . Basic Dataset Information\n",
    "Understanding the size and structure of the dataset helps inform how we’ll process it."
   ]
  },
  {
   "cell_type": "code",
   "execution_count": 3,
   "id": "07c36cd1",
   "metadata": {},
   "outputs": [
    {
     "data": {
      "text/plain": [
       "(9093, 3)"
      ]
     },
     "execution_count": 3,
     "metadata": {},
     "output_type": "execute_result"
    }
   ],
   "source": [
    "# Check number of rows and columns\n",
    "df_Tweet.shape\n"
   ]
  },
  {
   "cell_type": "code",
   "execution_count": 4,
   "id": "712211a3",
   "metadata": {},
   "outputs": [
    {
     "data": {
      "text/plain": [
       "Index(['tweet_text', 'emotion_in_tweet_is_directed_at',\n",
       "       'is_there_an_emotion_directed_at_a_brand_or_product'],\n",
       "      dtype='object')"
      ]
     },
     "execution_count": 4,
     "metadata": {},
     "output_type": "execute_result"
    }
   ],
   "source": [
    "# Display column names\n",
    "df_Tweet.columns\n"
   ]
  },
  {
   "cell_type": "code",
   "execution_count": 5,
   "id": "65e7d40b",
   "metadata": {},
   "outputs": [
    {
     "name": "stdout",
     "output_type": "stream",
     "text": [
      "<class 'pandas.core.frame.DataFrame'>\n",
      "RangeIndex: 9093 entries, 0 to 9092\n",
      "Data columns (total 3 columns):\n",
      " #   Column                                              Non-Null Count  Dtype \n",
      "---  ------                                              --------------  ----- \n",
      " 0   tweet_text                                          9092 non-null   object\n",
      " 1   emotion_in_tweet_is_directed_at                     3291 non-null   object\n",
      " 2   is_there_an_emotion_directed_at_a_brand_or_product  9093 non-null   object\n",
      "dtypes: object(3)\n",
      "memory usage: 213.2+ KB\n"
     ]
    }
   ],
   "source": [
    "# Get basic information about data types and missing values\n",
    "df_Tweet.info()\n"
   ]
  },
  {
   "cell_type": "markdown",
   "id": "8df5e60d",
   "metadata": {},
   "source": [
    "🔹 c). Statistical Summary\n",
    "We can describe the numerical columns (if any) to see general trends like average values, min/max, and standard deviations.\n"
   ]
  },
  {
   "cell_type": "code",
   "execution_count": 6,
   "id": "70fe4b59",
   "metadata": {},
   "outputs": [
    {
     "data": {
      "text/html": [
       "<div>\n",
       "<style scoped>\n",
       "    .dataframe tbody tr th:only-of-type {\n",
       "        vertical-align: middle;\n",
       "    }\n",
       "\n",
       "    .dataframe tbody tr th {\n",
       "        vertical-align: top;\n",
       "    }\n",
       "\n",
       "    .dataframe thead th {\n",
       "        text-align: right;\n",
       "    }\n",
       "</style>\n",
       "<table border=\"1\" class=\"dataframe\">\n",
       "  <thead>\n",
       "    <tr style=\"text-align: right;\">\n",
       "      <th></th>\n",
       "      <th>tweet_text</th>\n",
       "      <th>emotion_in_tweet_is_directed_at</th>\n",
       "      <th>is_there_an_emotion_directed_at_a_brand_or_product</th>\n",
       "    </tr>\n",
       "  </thead>\n",
       "  <tbody>\n",
       "    <tr>\n",
       "      <th>count</th>\n",
       "      <td>9092</td>\n",
       "      <td>3291</td>\n",
       "      <td>9093</td>\n",
       "    </tr>\n",
       "    <tr>\n",
       "      <th>unique</th>\n",
       "      <td>9065</td>\n",
       "      <td>9</td>\n",
       "      <td>4</td>\n",
       "    </tr>\n",
       "    <tr>\n",
       "      <th>top</th>\n",
       "      <td>RT @mention Marissa Mayer: Google Will Connect...</td>\n",
       "      <td>iPad</td>\n",
       "      <td>No emotion toward brand or product</td>\n",
       "    </tr>\n",
       "    <tr>\n",
       "      <th>freq</th>\n",
       "      <td>5</td>\n",
       "      <td>946</td>\n",
       "      <td>5389</td>\n",
       "    </tr>\n",
       "  </tbody>\n",
       "</table>\n",
       "</div>"
      ],
      "text/plain": [
       "                                               tweet_text  \\\n",
       "count                                                9092   \n",
       "unique                                               9065   \n",
       "top     RT @mention Marissa Mayer: Google Will Connect...   \n",
       "freq                                                    5   \n",
       "\n",
       "       emotion_in_tweet_is_directed_at  \\\n",
       "count                             3291   \n",
       "unique                               9   \n",
       "top                               iPad   \n",
       "freq                               946   \n",
       "\n",
       "       is_there_an_emotion_directed_at_a_brand_or_product  \n",
       "count                                                9093  \n",
       "unique                                                  4  \n",
       "top                    No emotion toward brand or product  \n",
       "freq                                                 5389  "
      ]
     },
     "execution_count": 6,
     "metadata": {},
     "output_type": "execute_result"
    }
   ],
   "source": [
    "# Summary statistics of the dataset\n",
    "df_Tweet.describe()"
   ]
  },
  {
   "cell_type": "code",
   "execution_count": 7,
   "id": "000ca50f",
   "metadata": {},
   "outputs": [
    {
     "data": {
      "text/html": [
       "<div>\n",
       "<style scoped>\n",
       "    .dataframe tbody tr th:only-of-type {\n",
       "        vertical-align: middle;\n",
       "    }\n",
       "\n",
       "    .dataframe tbody tr th {\n",
       "        vertical-align: top;\n",
       "    }\n",
       "\n",
       "    .dataframe thead th {\n",
       "        text-align: right;\n",
       "    }\n",
       "</style>\n",
       "<table border=\"1\" class=\"dataframe\">\n",
       "  <thead>\n",
       "    <tr style=\"text-align: right;\">\n",
       "      <th></th>\n",
       "      <th>tweet_text</th>\n",
       "      <th>emotion_in_tweet_is_directed_at</th>\n",
       "      <th>is_there_an_emotion_directed_at_a_brand_or_product</th>\n",
       "    </tr>\n",
       "  </thead>\n",
       "  <tbody>\n",
       "    <tr>\n",
       "      <th>count</th>\n",
       "      <td>9092</td>\n",
       "      <td>3291</td>\n",
       "      <td>9093</td>\n",
       "    </tr>\n",
       "    <tr>\n",
       "      <th>unique</th>\n",
       "      <td>9065</td>\n",
       "      <td>9</td>\n",
       "      <td>4</td>\n",
       "    </tr>\n",
       "    <tr>\n",
       "      <th>top</th>\n",
       "      <td>RT @mention Marissa Mayer: Google Will Connect...</td>\n",
       "      <td>iPad</td>\n",
       "      <td>No emotion toward brand or product</td>\n",
       "    </tr>\n",
       "    <tr>\n",
       "      <th>freq</th>\n",
       "      <td>5</td>\n",
       "      <td>946</td>\n",
       "      <td>5389</td>\n",
       "    </tr>\n",
       "  </tbody>\n",
       "</table>\n",
       "</div>"
      ],
      "text/plain": [
       "                                               tweet_text  \\\n",
       "count                                                9092   \n",
       "unique                                               9065   \n",
       "top     RT @mention Marissa Mayer: Google Will Connect...   \n",
       "freq                                                    5   \n",
       "\n",
       "       emotion_in_tweet_is_directed_at  \\\n",
       "count                             3291   \n",
       "unique                               9   \n",
       "top                               iPad   \n",
       "freq                               946   \n",
       "\n",
       "       is_there_an_emotion_directed_at_a_brand_or_product  \n",
       "count                                                9093  \n",
       "unique                                                  4  \n",
       "top                    No emotion toward brand or product  \n",
       "freq                                                 5389  "
      ]
     },
     "execution_count": 7,
     "metadata": {},
     "output_type": "execute_result"
    }
   ],
   "source": [
    "# For categorical or text columns\n",
    "df_Tweet.describe(include=['object'])\n"
   ]
  },
  {
   "cell_type": "code",
   "execution_count": 8,
   "id": "3c8050aa",
   "metadata": {},
   "outputs": [
    {
     "data": {
      "text/html": [
       "<div>\n",
       "<style scoped>\n",
       "    .dataframe tbody tr th:only-of-type {\n",
       "        vertical-align: middle;\n",
       "    }\n",
       "\n",
       "    .dataframe tbody tr th {\n",
       "        vertical-align: top;\n",
       "    }\n",
       "\n",
       "    .dataframe thead th {\n",
       "        text-align: right;\n",
       "    }\n",
       "</style>\n",
       "<table border=\"1\" class=\"dataframe\">\n",
       "  <thead>\n",
       "    <tr style=\"text-align: right;\">\n",
       "      <th></th>\n",
       "      <th>text</th>\n",
       "      <th>target</th>\n",
       "      <th>emotion</th>\n",
       "    </tr>\n",
       "  </thead>\n",
       "  <tbody>\n",
       "    <tr>\n",
       "      <th>0</th>\n",
       "      <td>.@wesley83 I have a 3G iPhone. After 3 hrs twe...</td>\n",
       "      <td>iPhone</td>\n",
       "      <td>Negative emotion</td>\n",
       "    </tr>\n",
       "    <tr>\n",
       "      <th>1</th>\n",
       "      <td>@jessedee Know about @fludapp ? Awesome iPad/i...</td>\n",
       "      <td>iPad or iPhone App</td>\n",
       "      <td>Positive emotion</td>\n",
       "    </tr>\n",
       "    <tr>\n",
       "      <th>2</th>\n",
       "      <td>@swonderlin Can not wait for #iPad 2 also. The...</td>\n",
       "      <td>iPad</td>\n",
       "      <td>Positive emotion</td>\n",
       "    </tr>\n",
       "    <tr>\n",
       "      <th>3</th>\n",
       "      <td>@sxsw I hope this year's festival isn't as cra...</td>\n",
       "      <td>iPad or iPhone App</td>\n",
       "      <td>Negative emotion</td>\n",
       "    </tr>\n",
       "    <tr>\n",
       "      <th>4</th>\n",
       "      <td>@sxtxstate great stuff on Fri #SXSW: Marissa M...</td>\n",
       "      <td>Google</td>\n",
       "      <td>Positive emotion</td>\n",
       "    </tr>\n",
       "  </tbody>\n",
       "</table>\n",
       "</div>"
      ],
      "text/plain": [
       "                                                text              target  \\\n",
       "0  .@wesley83 I have a 3G iPhone. After 3 hrs twe...              iPhone   \n",
       "1  @jessedee Know about @fludapp ? Awesome iPad/i...  iPad or iPhone App   \n",
       "2  @swonderlin Can not wait for #iPad 2 also. The...                iPad   \n",
       "3  @sxsw I hope this year's festival isn't as cra...  iPad or iPhone App   \n",
       "4  @sxtxstate great stuff on Fri #SXSW: Marissa M...              Google   \n",
       "\n",
       "            emotion  \n",
       "0  Negative emotion  \n",
       "1  Positive emotion  \n",
       "2  Positive emotion  \n",
       "3  Negative emotion  \n",
       "4  Positive emotion  "
      ]
     },
     "execution_count": 8,
     "metadata": {},
     "output_type": "execute_result"
    }
   ],
   "source": [
    "#Changing the column names\n",
    "df_Tweet.columns = ['text', 'target', 'emotion']\n",
    "df_Tweet.head()"
   ]
  },
  {
   "cell_type": "markdown",
   "id": "f1150281",
   "metadata": {},
   "source": [
    "🔹 d). Checking for Missing Values"
   ]
  },
  {
   "cell_type": "code",
   "execution_count": 9,
   "id": "f1cb19a9",
   "metadata": {},
   "outputs": [
    {
     "data": {
      "text/plain": [
       "text          1\n",
       "target     5802\n",
       "emotion       0\n",
       "dtype: int64"
      ]
     },
     "execution_count": 9,
     "metadata": {},
     "output_type": "execute_result"
    }
   ],
   "source": [
    "# Check for missing values in the dataset\n",
    "df_Tweet.isnull().sum()"
   ]
  },
  {
   "cell_type": "markdown",
   "id": "66c9599b",
   "metadata": {},
   "source": [
    "🔹 5. Duplicate Check"
   ]
  },
  {
   "cell_type": "code",
   "execution_count": 10,
   "id": "47b2e06e",
   "metadata": {},
   "outputs": [
    {
     "data": {
      "text/plain": [
       "22"
      ]
     },
     "execution_count": 10,
     "metadata": {},
     "output_type": "execute_result"
    }
   ],
   "source": [
    "# Check for duplicate rows\n",
    "df_Tweet.duplicated().sum()"
   ]
  },
  {
   "cell_type": "markdown",
   "id": "e3346a44",
   "metadata": {},
   "source": [
    "# **2.DATA CLEANING**\n",
    "Data cleaning means fixing these issues so the data is reliable and accurate for analysis."
   ]
  },
  {
   "cell_type": "markdown",
   "id": "ae9ddf57",
   "metadata": {},
   "source": [
    " 1. tweet_text — Missing: 1 row\n",
    "This is the most critical feature because your model relies on the content of the tweet to predict sentiment."
   ]
  },
  {
   "cell_type": "code",
   "execution_count": 11,
   "id": "ecb32f12",
   "metadata": {},
   "outputs": [],
   "source": [
    "# Drop rows with missing values in 'tweet_text'\n",
    "df_Tweet.dropna(subset=['text'], inplace=True)"
   ]
  },
  {
   "cell_type": "markdown",
   "id": "8f3e40da",
   "metadata": {},
   "source": [
    "2. emotion_in_tweet_is_directed_at — Missing: 5802 rows\n",
    "This column indicates whether the emotion is directed at a brand/product. It may be useful as a feature, but it's not essential for basic sentiment classification based on text."
   ]
  },
  {
   "cell_type": "code",
   "execution_count": 12,
   "id": "1ad06d87",
   "metadata": {},
   "outputs": [],
   "source": [
    "# Fill missing values in 'target' with 'None'\n",
    "df_Tweet['target'].fillna('None', inplace=True)"
   ]
  },
  {
   "cell_type": "markdown",
   "id": "48c8ed05",
   "metadata": {},
   "source": [
    "## Drop the Duplicates"
   ]
  },
  {
   "cell_type": "code",
   "execution_count": 13,
   "id": "62c8953a",
   "metadata": {},
   "outputs": [],
   "source": [
    "# Droping duplicates\n",
    "\n",
    "df_Tweet.drop_duplicates(inplace=True)\n",
    "\n",
    "df_Tweet.drop_duplicates(subset='text', inplace=True)\n"
   ]
  },
  {
   "cell_type": "code",
   "execution_count": 14,
   "id": "d98a1f78",
   "metadata": {},
   "outputs": [
    {
     "data": {
      "text/plain": [
       "0"
      ]
     },
     "execution_count": 14,
     "metadata": {},
     "output_type": "execute_result"
    }
   ],
   "source": [
    "# Check is duplicates were removed\n",
    "df_Tweet.duplicated(subset='text').sum()"
   ]
  },
  {
   "cell_type": "code",
   "execution_count": 15,
   "id": "3550b240",
   "metadata": {},
   "outputs": [
    {
     "name": "stdout",
     "output_type": "stream",
     "text": [
      "Target value count before mapping: None                               5785\n",
      "iPad                                943\n",
      "Apple                               659\n",
      "iPad or iPhone App                  469\n",
      "Google                              428\n",
      "iPhone                              296\n",
      "Other Google product or service     293\n",
      "Android App                          80\n",
      "Android                              77\n",
      "Other Apple product or service       35\n",
      "Name: target, dtype: int64\n"
     ]
    },
    {
     "data": {
      "text/plain": [
       "None      5785\n",
       "Apple     2402\n",
       "Google     878\n",
       "Name: brand, dtype: int64"
      ]
     },
     "execution_count": 15,
     "metadata": {},
     "output_type": "execute_result"
    }
   ],
   "source": [
    "print(\"Target value count before mapping:\",df_Tweet['target'].value_counts())\n",
    "brand_mapping = {\n",
    "    'iPad': 'Apple',\n",
    "    'Apple': 'Apple',\n",
    "    'iPad or iPhone App': 'Apple',\n",
    "    'iPhone': 'Apple',\n",
    "    'Other Apple product or service': 'Apple',\n",
    "    'Google': 'Google',\n",
    "    'Other Google product or service': 'Google',\n",
    "    'Android App': 'Google',\n",
    "    'Android': 'Google',\n",
    "    \"None\": \"None\"\n",
    "}\n",
    "\n",
    "# Apply the mapping to create new brand column\n",
    "df_Tweet['brand'] = df_Tweet['target'].map(brand_mapping)\n",
    "df_Tweet['brand'].value_counts()"
   ]
  },
  {
   "cell_type": "markdown",
   "id": "724f2b58",
   "metadata": {},
   "source": [
    "## **3.EDA (DATA ANALYSIS) & DATA VISUALIZATION**\n",
    "EDA is like getting to know my data — it’s the first step where i carefully examined the dataset to understand its main characteristics.\n",
    "\n",
    "Data Visualization is the process of creating charts, graphs, and maps that turn numbers and data into pictures."
   ]
  },
  {
   "cell_type": "markdown",
   "id": "7dbe4737",
   "metadata": {},
   "source": [
    "### **1. UNIVARIATE ANALYSIS**\n",
    "#### Checking for distribution of the data and visualizing it.\n",
    "\n",
    "#### Univariate analysis is the simplest form of data analysis — it examines just one variable at a time.\n",
    "\n",
    "#### Examples include: Bar Graphs, Histogram, Box Plot, Pie Chart"
   ]
  },
  {
   "cell_type": "markdown",
   "id": "0708ba4d",
   "metadata": {},
   "source": [
    "Class imbalance may exist, which is important to handle before training a model (through resampling or class weighting)."
   ]
  },
  {
   "cell_type": "markdown",
   "id": "4c0ca504",
   "metadata": {},
   "source": [
    "🔹 a) Tweet Length Distribution "
   ]
  },
  {
   "cell_type": "code",
   "execution_count": 16,
   "id": "67776fa4",
   "metadata": {},
   "outputs": [
    {
     "data": {
      "image/png": "[encoded data removed]",
      "text/plain": [
       "<Figure size 576x360 with 1 Axes>"
      ]
     },
     "metadata": {
      "needs_background": "light"
     },
     "output_type": "display_data"
    }
   ],
   "source": [
    "# Check distribution of Tweet lengths\n",
    "df_Tweet['tweet_length'] = df_Tweet['text'].apply(len)\n",
    "\n",
    "plt.figure(figsize=(8,5))\n",
    "sns.histplot(df_Tweet['tweet_length'], bins=30, kde=True, color='blue')\n",
    "plt.title('Distribution of Tweet Lengths')\n",
    "plt.xlabel('Tweet Length (characters)')\n",
    "plt.ylabel('Frequency')\n",
    "plt.show()"
   ]
  },
  {
   "cell_type": "markdown",
   "id": "fbd6d694",
   "metadata": {},
   "source": [
    "Most tweets are between 50–150 characters, suggesting tweets are short-form."
   ]
  },
  {
   "cell_type": "markdown",
   "id": "544f6cfc",
   "metadata": {},
   "source": [
    "🔹 b) Word Count Distribution"
   ]
  },
  {
   "cell_type": "code",
   "execution_count": 17,
   "id": "e63ecb31",
   "metadata": {},
   "outputs": [
    {
     "data": {
      "image/png": "[encoded data removed]",
      "text/plain": [
       "<Figure size 576x360 with 1 Axes>"
      ]
     },
     "metadata": {
      "needs_background": "light"
     },
     "output_type": "display_data"
    }
   ],
   "source": [
    "# Check the distribution of word counts in tweets\n",
    "df_Tweet['word_count'] = df_Tweet['text'].apply(lambda x: len(x.split()))\n",
    "\n",
    "plt.figure(figsize=(8,5))\n",
    "sns.histplot(df_Tweet['word_count'], bins=30, kde=True, color='coral')\n",
    "plt.title('Distribution of Word Counts in Tweets')\n",
    "plt.xlabel('Word Count')\n",
    "plt.ylabel('Frequency')\n",
    "plt.show()\n"
   ]
  },
  {
   "cell_type": "markdown",
   "id": "3571bbb3",
   "metadata": {},
   "source": [
    "Tweets have 5 to 20 words on average.\n",
    "\n",
    "Confirms that token-level feature engineering is manageable.\n"
   ]
  },
  {
   "cell_type": "markdown",
   "id": "eb50acf5",
   "metadata": {},
   "source": [
    "### **2. BIVARIATE ANALYSIS**\n",
    "#### Checking for correlations; multiple Xs and Y\n",
    "\n",
    "#### Bivariate analysis explores the relationship between two variables.\n",
    "\n",
    "#### Purpose: To identify whether and how the variables are related — for example, does one increase when the other does?\n",
    "\n",
    "#### Examples include: Heatmaps, Line Graphs,Bar Plot, Scatter Plot ."
   ]
  },
  {
   "cell_type": "markdown",
   "id": "f7c3b9c6",
   "metadata": {},
   "source": [
    "🔹 a) Tweet Length vs Sentiment (Target)"
   ]
  },
  {
   "cell_type": "code",
   "execution_count": 18,
   "id": "a38dad27",
   "metadata": {},
   "outputs": [
    {
     "data": {
      "image/png": "[encoded data removed]",
      "text/plain": [
       "<Figure size 720x864 with 1 Axes>"
      ]
     },
     "metadata": {
      "needs_background": "light"
     },
     "output_type": "display_data"
    }
   ],
   "source": [
    "# Boxplot of Word Count by Sentiment\n",
    "plt.figure(figsize=(10,12))\n",
    "sns.boxplot(data=df_Tweet, \n",
    "            x='emotion', \n",
    "            y='tweet_length', \n",
    "            palette='Set3')\n",
    "plt.title('Tweet Length by Sentiment')\n",
    "plt.xlabel('Sentiment (Emotion Directed at Product)')\n",
    "plt.ylabel('Tweet Length')\n",
    "plt.show()\n"
   ]
  },
  {
   "cell_type": "markdown",
   "id": "9d90a3c9",
   "metadata": {},
   "source": [
    "Tweets marked with emotion (Yes) are generally longer.\n",
    "\n",
    "Therefore the tweet length may be predictive of emotional content and can be included as a feature in modeling."
   ]
  },
  {
   "cell_type": "markdown",
   "id": "198e2a3a",
   "metadata": {},
   "source": [
    "🔹 b) Word Count vs Sentiment"
   ]
  },
  {
   "cell_type": "code",
   "execution_count": 19,
   "id": "d036186b",
   "metadata": {},
   "outputs": [
    {
     "data": {
      "image/png": "[encoded data removed]",
      "text/plain": [
       "<Figure size 720x864 with 1 Axes>"
      ]
     },
     "metadata": {
      "needs_background": "light"
     },
     "output_type": "display_data"
    }
   ],
   "source": [
    "# Boxplot of Word Count by Sentiment\n",
    "plt.figure(figsize=(10,12))\n",
    "sns.boxplot(data=df_Tweet, \n",
    "            x='emotion', \n",
    "            y='word_count', \n",
    "            palette='Set2')\n",
    "plt.title('Word Count by Sentiment')\n",
    "plt.xlabel('Sentiment (Emotion Directed at Product)')\n",
    "plt.ylabel('Word Count')\n",
    "plt.show()\n"
   ]
  },
  {
   "cell_type": "markdown",
   "id": "c096e0d0",
   "metadata": {},
   "source": [
    "Emotional tweets tend to have more words, suggesting wordiness correlates with sentiment."
   ]
  },
  {
   "cell_type": "markdown",
   "id": "b53ad32d",
   "metadata": {},
   "source": [
    "### **3. MULTIVARIATE ANALYSIS**\n",
    "\n",
    "#### way of exploring how three or more variables (characteristics) relate to each other at the same time.\n",
    "\n",
    "#### Purpose: To understand complex relationships and interactions among multiple variables.\n",
    "\n",
    "#### Examples include: Heatmaps, Scatterplots, Pairplots, 3D Scatter Plot, Parallel Coordinates Plot\n"
   ]
  },
  {
   "cell_type": "markdown",
   "id": "f262ce6c",
   "metadata": {},
   "source": [
    "🔹 a) Emotion Target vs Sentiment"
   ]
  },
  {
   "cell_type": "code",
   "execution_count": 20,
   "id": "69fdeecd",
   "metadata": {},
   "outputs": [
    {
     "data": {
      "image/png": "[encoded data removed]",
      "text/plain": [
       "<Figure size 864x432 with 1 Axes>"
      ]
     },
     "metadata": {
      "needs_background": "light"
     },
     "output_type": "display_data"
    }
   ],
   "source": [
    "# Countplot of Sentiment (Emotion Present) by Emotion Target\n",
    "plt.figure(figsize=(12,6))\n",
    "sns.countplot(\n",
    "    data=df_Tweet, \n",
    "    x='brand', \n",
    "    hue='emotion', \n",
    "    palette='pastel'\n",
    ")\n",
    "plt.xticks(rotation=45)\n",
    "plt.title('Sentiment (Emotion Present) by Emotion Target')\n",
    "plt.xlabel('Entity the Emotion is Directed At')\n",
    "plt.ylabel('Tweet Count')\n",
    "plt.legend(title='Emotion Present')\n",
    "plt.show()\n"
   ]
  },
  {
   "cell_type": "markdown",
   "id": "bccbb817",
   "metadata": {},
   "source": [
    "Some entities like 'Apple', 'iPad', and 'Google' receive a significantly higher number of emotionally-labeled tweets compared to others.\n",
    "\n",
    "This suggests that the entity being mentioned influences the presence of sentiment.\n",
    "\n",
    "**You can engineer a categorical feature from emotion_in_tweet_is_directed_at using target encoding or one-hot encoding.**"
   ]
  },
  {
   "cell_type": "markdown",
   "id": "cd17d67a",
   "metadata": {},
   "source": [
    "🔹 b) Tweet Length by Sentiment and Emotion Target"
   ]
  },
  {
   "cell_type": "code",
   "execution_count": 21,
   "id": "58239a85",
   "metadata": {},
   "outputs": [
    {
     "data": {
      "image/png": "[encoded data removed]",
      "text/plain": [
       "<Figure size 1008x432 with 1 Axes>"
      ]
     },
     "metadata": {
      "needs_background": "light"
     },
     "output_type": "display_data"
    }
   ],
   "source": [
    "# Boxplot of Tweet Length by Emotion Target and Sentiment\n",
    "plt.figure(figsize=(14,6))\n",
    "sns.boxplot(\n",
    "    data=df_Tweet, \n",
    "    x='brand', \n",
    "    y='tweet_length', \n",
    "    hue='emotion', \n",
    "    palette='Set1'\n",
    ")\n",
    "plt.xticks(rotation=45)\n",
    "plt.title('Tweet Length by Emotion Target and Sentiment')\n",
    "plt.xlabel('Emotion Directed At')\n",
    "plt.ylabel('Tweet Length')\n",
    "plt.legend(title='Emotion Present')\n",
    "plt.show()\n"
   ]
  },
  {
   "cell_type": "markdown",
   "id": "df32195a",
   "metadata": {},
   "source": [
    "Longer emotional tweets may be more prevalent for certain brands.\n",
    "\n",
    "Suggests an interaction effect between target entity and sentiment that could improve model performance.\n",
    "\n",
    "Use interaction terms or allow tree-based models to capture this."
   ]
  },
  {
   "cell_type": "markdown",
   "id": "e0b6cb95",
   "metadata": {},
   "source": [
    "🔹 c) Correlation Between Length and Word Count (Numerical Features)"
   ]
  },
  {
   "cell_type": "code",
   "execution_count": 22,
   "id": "b78f2bd2",
   "metadata": {},
   "outputs": [
    {
     "data": {
      "image/png": "[encoded data removed]",
      "text/plain": [
       "<Figure size 432x288 with 2 Axes>"
      ]
     },
     "metadata": {
      "needs_background": "light"
     },
     "output_type": "display_data"
    }
   ],
   "source": [
    "# Correlation Heatmap\n",
    "corr = df_Tweet[['tweet_length', 'word_count']].corr()\n",
    "sns.heatmap(corr, annot=True, cmap='Blues')\n",
    "plt.title('Correlation Between Tweet Length and Word Count')\n",
    "plt.show()"
   ]
  },
  {
   "cell_type": "markdown",
   "id": "7ce81ad2",
   "metadata": {},
   "source": [
    "Expect very high correlation (~0.9).\n",
    "\n",
    "Keep only one of these features (preferably word_count if using token-based models) to avoid redundancy."
   ]
  },
  {
   "cell_type": "markdown",
   "id": "81651178",
   "metadata": {},
   "source": [
    "# **4. DATA PREPROCESSING**\n",
    "This is where raw data is transformed, cleaned, and prepared for analysis or modeling."
   ]
  },
  {
   "cell_type": "markdown",
   "id": "39328a1d",
   "metadata": {},
   "source": [
    "1. Lowercasing, Remove Punctuation, URLs, Mentions"
   ]
  },
  {
   "cell_type": "code",
   "execution_count": 23,
   "id": "c92b9ee2",
   "metadata": {},
   "outputs": [],
   "source": [
    "# Data Preprocessing\n",
    "def clean_text(text):\n",
    "     # Lowercase\n",
    "    text = text.lower()  \n",
    "     # Remove URLs\n",
    "    text = re.sub(r\"http\\S+|www\\S+|https\\S+\", '', text, flags=re.MULTILINE)\n",
    "    # Remove @mentions \n",
    "    text = re.sub(r'@\\w+', '', text)  \n",
    "     # Remove punctuation\n",
    "    text = re.sub(f\"[{re.escape(string.punctuation)}]\", '', text)  \n",
    "    # Remove extra whitespace\n",
    "    text = re.sub(r'\\s+', ' ', text).strip()  \n",
    "    return text\n",
    "\n",
    "df_Tweet['clean_text'] = df_Tweet['text'].apply(clean_text)\n"
   ]
  },
  {
   "cell_type": "markdown",
   "id": "33ce14e2",
   "metadata": {},
   "source": [
    "2. Word Tokenization"
   ]
  },
  {
   "cell_type": "code",
   "execution_count": 24,
   "id": "9e2a6693",
   "metadata": {},
   "outputs": [],
   "source": [
    "# Word Tokenization\n",
    "df_Tweet['tokens'] = df_Tweet['clean_text'].apply(lambda x: x.split())"
   ]
  },
  {
   "cell_type": "markdown",
   "id": "fd7b02ff",
   "metadata": {},
   "source": [
    "3. Class Imbalance Check\n"
   ]
  },
  {
   "cell_type": "code",
   "execution_count": 31,
   "id": "7ca0d794",
   "metadata": {},
   "outputs": [
    {
     "data": {
      "text/plain": [
       "No emotion toward brand or product    5372\n",
       "Positive emotion                      2968\n",
       "Negative emotion                       569\n",
       "I can't tell                           156\n",
       "Name: sentiment, dtype: int64"
      ]
     },
     "execution_count": 31,
     "metadata": {},
     "output_type": "execute_result"
    }
   ],
   "source": [
    "# Check class imbalance in the target variable\n",
    "df_Tweet['sentiment'].value_counts()"
   ]
  },
  {
   "cell_type": "code",
   "execution_count": 34,
   "id": "b90e8a20",
   "metadata": {},
   "outputs": [
    {
     "name": "stdout",
     "output_type": "stream",
     "text": [
      "No emotion toward brand or product    5372\n",
      "Positive emotion                      2968\n",
      "Negative emotion                       569\n",
      "I can't tell                           156\n",
      "Name: sentiment, dtype: int64\n",
      "Positive emotion                      5372\n",
      "No emotion toward brand or product    5372\n",
      "I can't tell                          5372\n",
      "Negative emotion                      5372\n",
      "Name: sentiment, dtype: int64\n"
     ]
    }
   ],
   "source": [
    "# Handling Class Imbalance\n",
    "from sklearn.utils import resample\n",
    "import pandas as pd\n",
    "\n",
    "# Check original class distribution\n",
    "print(df_Tweet['sentiment'].value_counts())\n",
    "\n",
    "# Correct class label names based on your data\n",
    "df_no_emotion = df_Tweet[df_Tweet['sentiment'] == 'No emotion toward brand or product']\n",
    "df_positive   = df_Tweet[df_Tweet['sentiment'] == 'Positive emotion']\n",
    "df_negative   = df_Tweet[df_Tweet['sentiment'] == 'Negative emotion']\n",
    "df_unclear    = df_Tweet[df_Tweet['sentiment'] == \"I can't tell\"]\n",
    "\n",
    "# Get the size of the majority class\n",
    "majority_size = len(df_no_emotion)\n",
    "\n",
    "# Upsample each minority class to match the majority\n",
    "df_positive_upsampled = resample(df_positive, replace=True, n_samples=majority_size, random_state=42)\n",
    "df_negative_upsampled = resample(df_negative, replace=True, n_samples=majority_size, random_state=42)\n",
    "df_unclear_upsampled  = resample(df_unclear,  replace=True, n_samples=majority_size, random_state=42)\n",
    "\n",
    "# Combine all classes into one balanced DataFrame and shuffle\n",
    "df_Tweet_balanced = pd.concat([\n",
    "    df_no_emotion,\n",
    "    df_positive_upsampled,\n",
    "    df_negative_upsampled,\n",
    "    df_unclear_upsampled\n",
    "]).sample(frac=1, random_state=42).reset_index(drop=True)\n",
    "\n",
    "# Check new class distribution\n",
    "print(df_Tweet_balanced['sentiment'].value_counts())\n",
    "\n",
    "\n",
    "\n"
   ]
  },
  {
   "cell_type": "code",
   "execution_count": 35,
   "id": "ee7ad9de",
   "metadata": {},
   "outputs": [
    {
     "data": {
      "text/html": [
       "<div>\n",
       "<style scoped>\n",
       "    .dataframe tbody tr th:only-of-type {\n",
       "        vertical-align: middle;\n",
       "    }\n",
       "\n",
       "    .dataframe tbody tr th {\n",
       "        vertical-align: top;\n",
       "    }\n",
       "\n",
       "    .dataframe thead th {\n",
       "        text-align: right;\n",
       "    }\n",
       "</style>\n",
       "<table border=\"1\" class=\"dataframe\">\n",
       "  <thead>\n",
       "    <tr style=\"text-align: right;\">\n",
       "      <th></th>\n",
       "      <th>text</th>\n",
       "      <th>target</th>\n",
       "      <th>sentiment</th>\n",
       "      <th>brand</th>\n",
       "      <th>tweet_length</th>\n",
       "      <th>word_count</th>\n",
       "      <th>clean_text</th>\n",
       "      <th>tokens</th>\n",
       "    </tr>\n",
       "  </thead>\n",
       "  <tbody>\n",
       "    <tr>\n",
       "      <th>0</th>\n",
       "      <td>.@wesley83 I have a 3G iPhone. After 3 hrs twe...</td>\n",
       "      <td>iPhone</td>\n",
       "      <td>Negative emotion</td>\n",
       "      <td>Apple</td>\n",
       "      <td>127</td>\n",
       "      <td>23</td>\n",
       "      <td>i have a 3g iphone after 3 hrs tweeting at ris...</td>\n",
       "      <td>[i, have, a, 3g, iphone, after, 3, hrs, tweeti...</td>\n",
       "    </tr>\n",
       "    <tr>\n",
       "      <th>1</th>\n",
       "      <td>@jessedee Know about @fludapp ? Awesome iPad/i...</td>\n",
       "      <td>iPad or iPhone App</td>\n",
       "      <td>Positive emotion</td>\n",
       "      <td>Apple</td>\n",
       "      <td>139</td>\n",
       "      <td>22</td>\n",
       "      <td>know about awesome ipadiphone app that youll l...</td>\n",
       "      <td>[know, about, awesome, ipadiphone, app, that, ...</td>\n",
       "    </tr>\n",
       "    <tr>\n",
       "      <th>2</th>\n",
       "      <td>@swonderlin Can not wait for #iPad 2 also. The...</td>\n",
       "      <td>iPad</td>\n",
       "      <td>Positive emotion</td>\n",
       "      <td>Apple</td>\n",
       "      <td>79</td>\n",
       "      <td>15</td>\n",
       "      <td>can not wait for ipad 2 also they should sale ...</td>\n",
       "      <td>[can, not, wait, for, ipad, 2, also, they, sho...</td>\n",
       "    </tr>\n",
       "    <tr>\n",
       "      <th>3</th>\n",
       "      <td>@sxsw I hope this year's festival isn't as cra...</td>\n",
       "      <td>iPad or iPhone App</td>\n",
       "      <td>Negative emotion</td>\n",
       "      <td>Apple</td>\n",
       "      <td>82</td>\n",
       "      <td>15</td>\n",
       "      <td>i hope this years festival isnt as crashy as t...</td>\n",
       "      <td>[i, hope, this, years, festival, isnt, as, cra...</td>\n",
       "    </tr>\n",
       "    <tr>\n",
       "      <th>4</th>\n",
       "      <td>@sxtxstate great stuff on Fri #SXSW: Marissa M...</td>\n",
       "      <td>Google</td>\n",
       "      <td>Positive emotion</td>\n",
       "      <td>Google</td>\n",
       "      <td>131</td>\n",
       "      <td>17</td>\n",
       "      <td>great stuff on fri sxsw marissa mayer google t...</td>\n",
       "      <td>[great, stuff, on, fri, sxsw, marissa, mayer, ...</td>\n",
       "    </tr>\n",
       "  </tbody>\n",
       "</table>\n",
       "</div>"
      ],
      "text/plain": [
       "                                                text              target  \\\n",
       "0  .@wesley83 I have a 3G iPhone. After 3 hrs twe...              iPhone   \n",
       "1  @jessedee Know about @fludapp ? Awesome iPad/i...  iPad or iPhone App   \n",
       "2  @swonderlin Can not wait for #iPad 2 also. The...                iPad   \n",
       "3  @sxsw I hope this year's festival isn't as cra...  iPad or iPhone App   \n",
       "4  @sxtxstate great stuff on Fri #SXSW: Marissa M...              Google   \n",
       "\n",
       "          sentiment   brand  tweet_length  word_count  \\\n",
       "0  Negative emotion   Apple           127          23   \n",
       "1  Positive emotion   Apple           139          22   \n",
       "2  Positive emotion   Apple            79          15   \n",
       "3  Negative emotion   Apple            82          15   \n",
       "4  Positive emotion  Google           131          17   \n",
       "\n",
       "                                          clean_text  \\\n",
       "0  i have a 3g iphone after 3 hrs tweeting at ris...   \n",
       "1  know about awesome ipadiphone app that youll l...   \n",
       "2  can not wait for ipad 2 also they should sale ...   \n",
       "3  i hope this years festival isnt as crashy as t...   \n",
       "4  great stuff on fri sxsw marissa mayer google t...   \n",
       "\n",
       "                                              tokens  \n",
       "0  [i, have, a, 3g, iphone, after, 3, hrs, tweeti...  \n",
       "1  [know, about, awesome, ipadiphone, app, that, ...  \n",
       "2  [can, not, wait, for, ipad, 2, also, they, sho...  \n",
       "3  [i, hope, this, years, festival, isnt, as, cra...  \n",
       "4  [great, stuff, on, fri, sxsw, marissa, mayer, ...  "
      ]
     },
     "execution_count": 35,
     "metadata": {},
     "output_type": "execute_result"
    }
   ],
   "source": [
    "df_Tweet.head()"
   ]
  },
  {
   "cell_type": "code",
   "execution_count": 36,
   "id": "917a6e6d",
   "metadata": {},
   "outputs": [
    {
     "data": {
      "text/html": [
       "<div>\n",
       "<style scoped>\n",
       "    .dataframe tbody tr th:only-of-type {\n",
       "        vertical-align: middle;\n",
       "    }\n",
       "\n",
       "    .dataframe tbody tr th {\n",
       "        vertical-align: top;\n",
       "    }\n",
       "\n",
       "    .dataframe thead th {\n",
       "        text-align: right;\n",
       "    }\n",
       "</style>\n",
       "<table border=\"1\" class=\"dataframe\">\n",
       "  <thead>\n",
       "    <tr style=\"text-align: right;\">\n",
       "      <th></th>\n",
       "      <th>text</th>\n",
       "      <th>clean_text</th>\n",
       "      <th>tokens</th>\n",
       "      <th>sentiment</th>\n",
       "      <th>brand</th>\n",
       "    </tr>\n",
       "  </thead>\n",
       "  <tbody>\n",
       "    <tr>\n",
       "      <th>0</th>\n",
       "      <td>Line for Source Code is even longer than for i...</td>\n",
       "      <td>line for source code is even longer than for i...</td>\n",
       "      <td>[line, for, source, code, is, even, longer, th...</td>\n",
       "      <td>I can't tell</td>\n",
       "      <td>None</td>\n",
       "    </tr>\n",
       "    <tr>\n",
       "      <th>1</th>\n",
       "      <td>At #SXSW, Apple schools the marketing experts ...</td>\n",
       "      <td>at sxsw apple schools the marketing experts li...</td>\n",
       "      <td>[at, sxsw, apple, schools, the, marketing, exp...</td>\n",
       "      <td>Positive emotion</td>\n",
       "      <td>Apple</td>\n",
       "    </tr>\n",
       "    <tr>\n",
       "      <th>2</th>\n",
       "      <td>Hmm... the sxsw.com/interactive/live stream is...</td>\n",
       "      <td>hmm the sxswcominteractivelive stream isnt ipa...</td>\n",
       "      <td>[hmm, the, sxswcominteractivelive, stream, isn...</td>\n",
       "      <td>Negative emotion</td>\n",
       "      <td>Apple</td>\n",
       "    </tr>\n",
       "    <tr>\n",
       "      <th>3</th>\n",
       "      <td>Wow folks, make sure that iPhone ringer is tur...</td>\n",
       "      <td>wow folks make sure that iphone ringer is turn...</td>\n",
       "      <td>[wow, folks, make, sure, that, iphone, ringer,...</td>\n",
       "      <td>I can't tell</td>\n",
       "      <td>None</td>\n",
       "    </tr>\n",
       "    <tr>\n",
       "      <th>4</th>\n",
       "      <td>Ze Frank project: walk down Google streetview ...</td>\n",
       "      <td>ze frank project walk down google streetview d...</td>\n",
       "      <td>[ze, frank, project, walk, down, google, stree...</td>\n",
       "      <td>No emotion toward brand or product</td>\n",
       "      <td>None</td>\n",
       "    </tr>\n",
       "  </tbody>\n",
       "</table>\n",
       "</div>"
      ],
      "text/plain": [
       "                                                text  \\\n",
       "0  Line for Source Code is even longer than for i...   \n",
       "1  At #SXSW, Apple schools the marketing experts ...   \n",
       "2  Hmm... the sxsw.com/interactive/live stream is...   \n",
       "3  Wow folks, make sure that iPhone ringer is tur...   \n",
       "4  Ze Frank project: walk down Google streetview ...   \n",
       "\n",
       "                                          clean_text  \\\n",
       "0  line for source code is even longer than for i...   \n",
       "1  at sxsw apple schools the marketing experts li...   \n",
       "2  hmm the sxswcominteractivelive stream isnt ipa...   \n",
       "3  wow folks make sure that iphone ringer is turn...   \n",
       "4  ze frank project walk down google streetview d...   \n",
       "\n",
       "                                              tokens  \\\n",
       "0  [line, for, source, code, is, even, longer, th...   \n",
       "1  [at, sxsw, apple, schools, the, marketing, exp...   \n",
       "2  [hmm, the, sxswcominteractivelive, stream, isn...   \n",
       "3  [wow, folks, make, sure, that, iphone, ringer,...   \n",
       "4  [ze, frank, project, walk, down, google, stree...   \n",
       "\n",
       "                            sentiment  brand  \n",
       "0                        I can't tell   None  \n",
       "1                    Positive emotion  Apple  \n",
       "2                    Negative emotion  Apple  \n",
       "3                        I can't tell   None  \n",
       "4  No emotion toward brand or product   None  "
      ]
     },
     "execution_count": 36,
     "metadata": {},
     "output_type": "execute_result"
    }
   ],
   "source": [
    "df_Tweet_balanced[['text', 'clean_text', 'tokens', 'sentiment',\"brand\"]].head()\n"
   ]
  },
  {
   "cell_type": "code",
   "execution_count": 37,
   "id": "bc186dc0",
   "metadata": {},
   "outputs": [],
   "source": [
    "# Save the Cleaned Dataset to CSV\n",
    "df_Tweet_balanced.to_csv('Data/Cleaned_Tweet.csv', index=False)\n"
   ]
  },
  {
   "cell_type": "markdown",
   "id": "aabc685e",
   "metadata": {},
   "source": [
    "# 5. Feature Engineering\n",
    "In this section, we will be transforming the raw data into more meaningful inputs to improve the machine learning model's (in this case Natural Language Processing) performance."
   ]
  },
  {
   "cell_type": "code",
   "execution_count": 38,
   "id": "a19cd252",
   "metadata": {},
   "outputs": [
    {
     "name": "stdout",
     "output_type": "stream",
     "text": [
      "<class 'pandas.core.frame.DataFrame'>\n",
      "Int64Index: 9065 entries, 0 to 9092\n",
      "Data columns (total 8 columns):\n",
      " #   Column        Non-Null Count  Dtype \n",
      "---  ------        --------------  ----- \n",
      " 0   text          9065 non-null   object\n",
      " 1   target        9065 non-null   object\n",
      " 2   sentiment     9065 non-null   object\n",
      " 3   brand         9065 non-null   object\n",
      " 4   tweet_length  9065 non-null   int64 \n",
      " 5   word_count    9065 non-null   int64 \n",
      " 6   clean_text    9065 non-null   object\n",
      " 7   tokens        9065 non-null   object\n",
      "dtypes: int64(2), object(6)\n",
      "memory usage: 957.4+ KB\n"
     ]
    }
   ],
   "source": [
    "# First overview the cleaned dataset\n",
    "df_Tweet.info()"
   ]
  },
  {
   "cell_type": "markdown",
   "id": "2d37f0f6",
   "metadata": {},
   "source": [
    "Since we will be classifying the tweets by sentiment, we must analyse that column"
   ]
  },
  {
   "cell_type": "code",
   "execution_count": 39,
   "id": "694952cf",
   "metadata": {},
   "outputs": [
    {
     "data": {
      "text/plain": [
       "No emotion toward brand or product    5372\n",
       "Positive emotion                      2968\n",
       "Negative emotion                       569\n",
       "I can't tell                           156\n",
       "Name: sentiment, dtype: int64"
      ]
     },
     "execution_count": 39,
     "metadata": {},
     "output_type": "execute_result"
    }
   ],
   "source": [
    "# Look at the distribution of different sentiments\n",
    "df_Tweet['sentiment'].value_counts()"
   ]
  },
  {
   "cell_type": "code",
   "execution_count": 40,
   "id": "032feba5",
   "metadata": {},
   "outputs": [],
   "source": [
    "# Filter out the inconclusive sentiments for modelling purposes\n",
    "df = df_Tweet[df_Tweet['sentiment'] != \"I can't tell\"]"
   ]
  },
  {
   "cell_type": "markdown",
   "id": "fbb91499",
   "metadata": {},
   "source": [
    "**Stop words and stemming**\n",
    "\n",
    "Next, we remove stop words like “a,” “and,” “but,” that carry little meaningful information and can introduce noise into our model.  \n",
    "We also apply stemming, which reduces words to their root form (e.g., “running” → “run”). This helps group together words with similar meanings and reduces the vocabulary size, improving model generalisation."
   ]
  },
  {
   "cell_type": "code",
   "execution_count": 41,
   "id": "7863a65a",
   "metadata": {},
   "outputs": [
    {
     "name": "stderr",
     "output_type": "stream",
     "text": [
      "[nltk_data] Downloading package stopwords to\n",
      "[nltk_data]     C:\\Users\\admin\\AppData\\Roaming\\nltk_data...\n",
      "[nltk_data]   Package stopwords is already up-to-date!\n"
     ]
    }
   ],
   "source": [
    "# Import the relevant libraries\n",
    "import nltk\n",
    "nltk.download('stopwords')\n",
    "from nltk.corpus import stopwords\n",
    "from nltk.stem import PorterStemmer\n",
    "\n",
    "# Create a list of stopwords in English\n",
    "stopwords_list = stopwords.words('english')\n",
    "\n",
    "# Create an instance of nltk's PorterStemmer\n",
    "stemmer = PorterStemmer()"
   ]
  },
  {
   "cell_type": "code",
   "execution_count": 42,
   "id": "2595116e",
   "metadata": {},
   "outputs": [],
   "source": [
    "# Create a text preprocessing function\n",
    "def preprocess_text(tokens):\n",
    "    # Ensure input is a list of tokens and return empty string if not\n",
    "    if not isinstance(tokens, list):\n",
    "        return \"\"\n",
    "    \n",
    "    # Remove stopwords from token list\n",
    "    tokens_stopped = [i for i in tokens if i not in stopwords_list]\n",
    "    \n",
    "    # Apply stemming to remaining tokens\n",
    "    stems = [stemmer.stem(i) for i in tokens_stopped]\n",
    "    \n",
    "    # Return stemmed tokens joined back into a single string\n",
    "    return ' '.join(stems)"
   ]
  },
  {
   "cell_type": "code",
   "execution_count": 43,
   "id": "5dd46cf1",
   "metadata": {},
   "outputs": [
    {
     "name": "stderr",
     "output_type": "stream",
     "text": [
      "<ipython-input-43-b7fff53ee7a8>:2: SettingWithCopyWarning: \n",
      "A value is trying to be set on a copy of a slice from a DataFrame.\n",
      "Try using .loc[row_indexer,col_indexer] = value instead\n",
      "\n",
      "See the caveats in the documentation: https://pandas.pydata.org/pandas-docs/stable/user_guide/indexing.html#returning-a-view-versus-a-copy\n",
      "  df['preprocessed_text'] = df['tokens'].apply(preprocess_text)\n"
     ]
    }
   ],
   "source": [
    "# Apply the preprocessing function to the 'tokens' column\n",
    "df['preprocessed_text'] = df['tokens'].apply(preprocess_text)"
   ]
  },
  {
   "cell_type": "markdown",
   "id": "c573cebc",
   "metadata": {},
   "source": [
    "**TF-IDF Vectorization with N-grams**  \n",
    "In this step, we convert the preprocessed tweet text into numerical features using `TfidfVectorizer`\n",
    "\n",
    "This vectorization will include unigrams and bigrams"
   ]
  },
  {
   "cell_type": "code",
   "execution_count": 44,
   "id": "545af917",
   "metadata": {},
   "outputs": [
    {
     "data": {
      "text/html": [
       "<div>\n",
       "<style scoped>\n",
       "    .dataframe tbody tr th:only-of-type {\n",
       "        vertical-align: middle;\n",
       "    }\n",
       "\n",
       "    .dataframe tbody tr th {\n",
       "        vertical-align: top;\n",
       "    }\n",
       "\n",
       "    .dataframe thead th {\n",
       "        text-align: right;\n",
       "    }\n",
       "</style>\n",
       "<table border=\"1\" class=\"dataframe\">\n",
       "  <thead>\n",
       "    <tr style=\"text-align: right;\">\n",
       "      <th></th>\n",
       "      <th>text</th>\n",
       "      <th>target</th>\n",
       "      <th>sentiment</th>\n",
       "      <th>brand</th>\n",
       "      <th>tweet_length</th>\n",
       "      <th>word_count</th>\n",
       "      <th>clean_text</th>\n",
       "      <th>tokens</th>\n",
       "      <th>preprocessed_text</th>\n",
       "    </tr>\n",
       "  </thead>\n",
       "  <tbody>\n",
       "    <tr>\n",
       "      <th>0</th>\n",
       "      <td>.@wesley83 I have a 3G iPhone. After 3 hrs twe...</td>\n",
       "      <td>iPhone</td>\n",
       "      <td>Negative emotion</td>\n",
       "      <td>Apple</td>\n",
       "      <td>127</td>\n",
       "      <td>23</td>\n",
       "      <td>i have a 3g iphone after 3 hrs tweeting at ris...</td>\n",
       "      <td>[i, have, a, 3g, iphone, after, 3, hrs, tweeti...</td>\n",
       "      <td>3g iphon 3 hr tweet riseaustin dead need upgra...</td>\n",
       "    </tr>\n",
       "    <tr>\n",
       "      <th>1</th>\n",
       "      <td>@jessedee Know about @fludapp ? Awesome iPad/i...</td>\n",
       "      <td>iPad or iPhone App</td>\n",
       "      <td>Positive emotion</td>\n",
       "      <td>Apple</td>\n",
       "      <td>139</td>\n",
       "      <td>22</td>\n",
       "      <td>know about awesome ipadiphone app that youll l...</td>\n",
       "      <td>[know, about, awesome, ipadiphone, app, that, ...</td>\n",
       "      <td>know awesom ipadiphon app youll like appreci d...</td>\n",
       "    </tr>\n",
       "    <tr>\n",
       "      <th>2</th>\n",
       "      <td>@swonderlin Can not wait for #iPad 2 also. The...</td>\n",
       "      <td>iPad</td>\n",
       "      <td>Positive emotion</td>\n",
       "      <td>Apple</td>\n",
       "      <td>79</td>\n",
       "      <td>15</td>\n",
       "      <td>can not wait for ipad 2 also they should sale ...</td>\n",
       "      <td>[can, not, wait, for, ipad, 2, also, they, sho...</td>\n",
       "      <td>wait ipad 2 also sale sxsw</td>\n",
       "    </tr>\n",
       "    <tr>\n",
       "      <th>3</th>\n",
       "      <td>@sxsw I hope this year's festival isn't as cra...</td>\n",
       "      <td>iPad or iPhone App</td>\n",
       "      <td>Negative emotion</td>\n",
       "      <td>Apple</td>\n",
       "      <td>82</td>\n",
       "      <td>15</td>\n",
       "      <td>i hope this years festival isnt as crashy as t...</td>\n",
       "      <td>[i, hope, this, years, festival, isnt, as, cra...</td>\n",
       "      <td>hope year festiv isnt crashi year iphon app sxsw</td>\n",
       "    </tr>\n",
       "    <tr>\n",
       "      <th>4</th>\n",
       "      <td>@sxtxstate great stuff on Fri #SXSW: Marissa M...</td>\n",
       "      <td>Google</td>\n",
       "      <td>Positive emotion</td>\n",
       "      <td>Google</td>\n",
       "      <td>131</td>\n",
       "      <td>17</td>\n",
       "      <td>great stuff on fri sxsw marissa mayer google t...</td>\n",
       "      <td>[great, stuff, on, fri, sxsw, marissa, mayer, ...</td>\n",
       "      <td>great stuff fri sxsw marissa mayer googl tim o...</td>\n",
       "    </tr>\n",
       "    <tr>\n",
       "      <th>...</th>\n",
       "      <td>...</td>\n",
       "      <td>...</td>\n",
       "      <td>...</td>\n",
       "      <td>...</td>\n",
       "      <td>...</td>\n",
       "      <td>...</td>\n",
       "      <td>...</td>\n",
       "      <td>...</td>\n",
       "      <td>...</td>\n",
       "    </tr>\n",
       "    <tr>\n",
       "      <th>9088</th>\n",
       "      <td>Ipad everywhere. #SXSW {link}</td>\n",
       "      <td>iPad</td>\n",
       "      <td>Positive emotion</td>\n",
       "      <td>Apple</td>\n",
       "      <td>29</td>\n",
       "      <td>4</td>\n",
       "      <td>ipad everywhere sxsw link</td>\n",
       "      <td>[ipad, everywhere, sxsw, link]</td>\n",
       "      <td>ipad everywher sxsw link</td>\n",
       "    </tr>\n",
       "    <tr>\n",
       "      <th>9089</th>\n",
       "      <td>Wave, buzz... RT @mention We interrupt your re...</td>\n",
       "      <td>None</td>\n",
       "      <td>No emotion toward brand or product</td>\n",
       "      <td>None</td>\n",
       "      <td>125</td>\n",
       "      <td>18</td>\n",
       "      <td>wave buzz rt we interrupt your regularly sched...</td>\n",
       "      <td>[wave, buzz, rt, we, interrupt, your, regularl...</td>\n",
       "      <td>wave buzz rt interrupt regularli schedul sxsw ...</td>\n",
       "    </tr>\n",
       "    <tr>\n",
       "      <th>9090</th>\n",
       "      <td>Google's Zeiger, a physician never reported po...</td>\n",
       "      <td>None</td>\n",
       "      <td>No emotion toward brand or product</td>\n",
       "      <td>None</td>\n",
       "      <td>145</td>\n",
       "      <td>19</td>\n",
       "      <td>googles zeiger a physician never reported pote...</td>\n",
       "      <td>[googles, zeiger, a, physician, never, reporte...</td>\n",
       "      <td>googl zeiger physician never report potenti ae...</td>\n",
       "    </tr>\n",
       "    <tr>\n",
       "      <th>9091</th>\n",
       "      <td>Some Verizon iPhone customers complained their...</td>\n",
       "      <td>None</td>\n",
       "      <td>No emotion toward brand or product</td>\n",
       "      <td>None</td>\n",
       "      <td>140</td>\n",
       "      <td>23</td>\n",
       "      <td>some verizon iphone customers complained their...</td>\n",
       "      <td>[some, verizon, iphone, customers, complained,...</td>\n",
       "      <td>verizon iphon custom complain time fell back h...</td>\n",
       "    </tr>\n",
       "    <tr>\n",
       "      <th>9092</th>\n",
       "      <td>Ï¡Ïàü_ÊÎÒ£Áââ_£â_ÛâRT @...</td>\n",
       "      <td>None</td>\n",
       "      <td>No emotion toward brand or product</td>\n",
       "      <td>None</td>\n",
       "      <td>104</td>\n",
       "      <td>9</td>\n",
       "      <td>ï¡ïàüêîò£áââ£âûârt goog...</td>\n",
       "      <td>[ï¡ïàüêîò£áââ£âûârt, go...</td>\n",
       "      <td>ï¡ïàüêîò£áââ£âûârt goog...</td>\n",
       "    </tr>\n",
       "  </tbody>\n",
       "</table>\n",
       "<p>8909 rows × 9 columns</p>\n",
       "</div>"
      ],
      "text/plain": [
       "                                                   text              target  \\\n",
       "0     .@wesley83 I have a 3G iPhone. After 3 hrs twe...              iPhone   \n",
       "1     @jessedee Know about @fludapp ? Awesome iPad/i...  iPad or iPhone App   \n",
       "2     @swonderlin Can not wait for #iPad 2 also. The...                iPad   \n",
       "3     @sxsw I hope this year's festival isn't as cra...  iPad or iPhone App   \n",
       "4     @sxtxstate great stuff on Fri #SXSW: Marissa M...              Google   \n",
       "...                                                 ...                 ...   \n",
       "9088                      Ipad everywhere. #SXSW {link}                iPad   \n",
       "9089  Wave, buzz... RT @mention We interrupt your re...                None   \n",
       "9090  Google's Zeiger, a physician never reported po...                None   \n",
       "9091  Some Verizon iPhone customers complained their...                None   \n",
       "9092  Ï¡Ïàü_ÊÎÒ£Áââ_£â_ÛâRT @...                None   \n",
       "\n",
       "                               sentiment   brand  tweet_length  word_count  \\\n",
       "0                       Negative emotion   Apple           127          23   \n",
       "1                       Positive emotion   Apple           139          22   \n",
       "2                       Positive emotion   Apple            79          15   \n",
       "3                       Negative emotion   Apple            82          15   \n",
       "4                       Positive emotion  Google           131          17   \n",
       "...                                  ...     ...           ...         ...   \n",
       "9088                    Positive emotion   Apple            29           4   \n",
       "9089  No emotion toward brand or product    None           125          18   \n",
       "9090  No emotion toward brand or product    None           145          19   \n",
       "9091  No emotion toward brand or product    None           140          23   \n",
       "9092  No emotion toward brand or product    None           104           9   \n",
       "\n",
       "                                             clean_text  \\\n",
       "0     i have a 3g iphone after 3 hrs tweeting at ris...   \n",
       "1     know about awesome ipadiphone app that youll l...   \n",
       "2     can not wait for ipad 2 also they should sale ...   \n",
       "3     i hope this years festival isnt as crashy as t...   \n",
       "4     great stuff on fri sxsw marissa mayer google t...   \n",
       "...                                                 ...   \n",
       "9088                          ipad everywhere sxsw link   \n",
       "9089  wave buzz rt we interrupt your regularly sched...   \n",
       "9090  googles zeiger a physician never reported pote...   \n",
       "9091  some verizon iphone customers complained their...   \n",
       "9092  ï¡ïàüêîò£áââ£âûârt goog...   \n",
       "\n",
       "                                                 tokens  \\\n",
       "0     [i, have, a, 3g, iphone, after, 3, hrs, tweeti...   \n",
       "1     [know, about, awesome, ipadiphone, app, that, ...   \n",
       "2     [can, not, wait, for, ipad, 2, also, they, sho...   \n",
       "3     [i, hope, this, years, festival, isnt, as, cra...   \n",
       "4     [great, stuff, on, fri, sxsw, marissa, mayer, ...   \n",
       "...                                                 ...   \n",
       "9088                     [ipad, everywhere, sxsw, link]   \n",
       "9089  [wave, buzz, rt, we, interrupt, your, regularl...   \n",
       "9090  [googles, zeiger, a, physician, never, reporte...   \n",
       "9091  [some, verizon, iphone, customers, complained,...   \n",
       "9092  [ï¡ïàüêîò£áââ£âûârt, go...   \n",
       "\n",
       "                                      preprocessed_text  \n",
       "0     3g iphon 3 hr tweet riseaustin dead need upgra...  \n",
       "1     know awesom ipadiphon app youll like appreci d...  \n",
       "2                            wait ipad 2 also sale sxsw  \n",
       "3      hope year festiv isnt crashi year iphon app sxsw  \n",
       "4     great stuff fri sxsw marissa mayer googl tim o...  \n",
       "...                                                 ...  \n",
       "9088                           ipad everywher sxsw link  \n",
       "9089  wave buzz rt interrupt regularli schedul sxsw ...  \n",
       "9090  googl zeiger physician never report potenti ae...  \n",
       "9091  verizon iphon custom complain time fell back h...  \n",
       "9092  ï¡ïàüêîò£áââ£âûârt goog...  \n",
       "\n",
       "[8909 rows x 9 columns]"
      ]
     },
     "execution_count": 44,
     "metadata": {},
     "output_type": "execute_result"
    }
   ],
   "source": [
    "df"
   ]
  },
  {
   "cell_type": "code",
   "execution_count": 45,
   "id": "ac5dd09f",
   "metadata": {},
   "outputs": [],
   "source": [
    "# Import relevant library\n",
    "from sklearn.feature_extraction.text import TfidfVectorizer\n",
    "\n",
    "# Initialize a TF-IDF vectorizer to extract unigrams and bigrams\n",
    "# Limit the vocabulary to the 10,000 most frequent terms\n",
    "vectorizer = TfidfVectorizer(ngram_range=(1, 2), max_features=10000)\n",
    "\n",
    "# Fit the vectorizer to the preprocessed text and transform the text into a sparse matrix\n",
    "X = vectorizer.fit_transform(df['preprocessed_text'])"
   ]
  },
  {
   "cell_type": "code",
   "execution_count": 46,
   "id": "6f7df1eb",
   "metadata": {},
   "outputs": [],
   "source": [
    "# Extract the target variable (sentiment labels) from the DataFrame\n",
    "y = df['sentiment']"
   ]
  },
  {
   "cell_type": "markdown",
   "id": "dc943dfa",
   "metadata": {},
   "source": [
    "**Feature Selection Using Mutual Information**  \n",
    "We use `mutual_info_classif` to calculate the mutual information between each n-gram feature in `X` and the target sentiment label `y`.  \n",
    "\n",
    "Mutual information measures how much knowing a feature reduces uncertainty about the target."
   ]
  },
  {
   "cell_type": "code",
   "execution_count": 47,
   "id": "0bfd40fa-332e-42b9-b083-277c3d9de5ba",
   "metadata": {},
   "outputs": [],
   "source": [
    "import warnings\n",
    "warnings.filterwarnings(\"ignore\")"
   ]
  },
  {
   "cell_type": "code",
   "execution_count": 49,
   "id": "64ebe00e",
   "metadata": {},
   "outputs": [],
   "source": [
    "# Import relevant library\n",
    "from sklearn.feature_selection import mutual_info_classif\n",
    "\n",
    "# Calculate Mutual Information scores between each feature (column in X) and the target variable y\n",
    "mi_scores = mutual_info_classif(X, y, discrete_features=True)"
   ]
  },
  {
   "cell_type": "code",
   "execution_count": 51,
   "id": "d930bd60",
   "metadata": {},
   "outputs": [
    {
     "name": "stdout",
     "output_type": "stream",
     "text": [
      "     feature  mi_score\n",
      "7866    sxsw  0.826178\n",
      "4994    link  0.334228\n",
      "3956    ipad  0.238375\n",
      "6871      rt  0.229681\n",
      "3187   googl  0.199110\n"
     ]
    }
   ],
   "source": [
    "# Get the list of feature (n-gram) names from the vectorizer\n",
    "# Get feature (n-gram) names\n",
    "feature_names = vectorizer.get_feature_names_out()\n",
    "\n",
    "# Create DataFrame with mutual information scores\n",
    "mi_df = pd.DataFrame({\n",
    "    'feature': feature_names,\n",
    "    'mi_score': mi_scores\n",
    "}).sort_values(by='mi_score', ascending=False)\n",
    "\n",
    "# Show top features\n",
    "print(mi_df.head())"
   ]
  },
  {
   "cell_type": "code",
   "execution_count": 52,
   "id": "ba90b555",
   "metadata": {},
   "outputs": [
    {
     "data": {
      "image/png": "[encoded data removed]",
      "text/plain": [
       "<Figure size 720x864 with 1 Axes>"
      ]
     },
     "metadata": {
      "needs_background": "light"
     },
     "output_type": "display_data"
    }
   ],
   "source": [
    "# Plot the frequency of these n-gram features\n",
    "# Import relevant library\n",
    "import matplotlib.pyplot as plt\n",
    "\n",
    "# Select the top 50 features with the highest mutual information scores\n",
    "top_n = 50\n",
    "top_mi = mi_df.head(top_n)\n",
    "\n",
    "plt.figure(figsize=(10, 12))\n",
    "plt.barh(top_mi['feature'][::-1], top_mi['mi_score'][::-1]) # Reverse order to show highest at the top\n",
    "plt.title('Top 50 Features by Mutual Information Score')\n",
    "plt.xlabel('MI Score')\n",
    "plt.tight_layout()\n",
    "plt.show()"
   ]
  },
  {
   "cell_type": "markdown",
   "id": "1fc07b0f",
   "metadata": {},
   "source": [
    "**Reverting to Unigrams Only**  \n",
    "After reviewing the top 50 features ranked by mutual information, it’s clear that most of the informative terms are unigrams. The included bigrams either overlap with these single words or do not appear to add significant value in capturing sentiment.\n",
    "\n",
    "For simplicity and interpretability, we will revert to using unigrams only."
   ]
  },
  {
   "cell_type": "code",
   "execution_count": 53,
   "id": "d1169b69",
   "metadata": {},
   "outputs": [],
   "source": [
    "# Initialize a TF-IDF vectorizer to extract unigrams\n",
    "# Limit the vocabulary to the 10,000 most frequent terms\n",
    "vectorizer_unigram = TfidfVectorizer(ngram_range=(1, 1), max_features=10000)\n",
    "\n",
    "\n",
    "X = vectorizer_unigram.fit_transform(df['preprocessed_text'])"
   ]
  },
  {
   "cell_type": "markdown",
   "id": "36fb85ad",
   "metadata": {},
   "source": [
    "## Feature Engineering Pipeline\n",
    "In this section, we encapsulate the feature engineering steps into a reusable pipeline using `scikit-learn`'s `Pipeline` and `FunctionTransformer`. This will allow these processing steps to be applied to training and test data for the model without risking data leakage."
   ]
  },
  {
   "cell_type": "code",
   "execution_count": 54,
   "id": "4983b279",
   "metadata": {},
   "outputs": [],
   "source": [
    "# Import relevant library\n",
    "from sklearn.preprocessing import FunctionTransformer\n",
    "\n",
    "# Create a custom transformer using FunctionTransformer to apply the text preprocessing function\n",
    "# The lambda takes a list of token lists and applies 'preprocess_text' function to each\n",
    "text_cleaner = FunctionTransformer(\n",
    "    lambda texts: [preprocess_text(tokens) for tokens in texts],\n",
    "    validate=False\n",
    ")"
   ]
  },
  {
   "cell_type": "code",
   "execution_count": 55,
   "id": "1ab40271",
   "metadata": {},
   "outputs": [],
   "source": [
    "# Import relevant library\n",
    "from sklearn.pipeline import Pipeline\n",
    "\n",
    "# Create a feature engineering pipeline that applies text cleaning followed by TF-IDF vectorization\n",
    "fe_pipeline = Pipeline([\n",
    "    ('cleaner', text_cleaner),  # stopword removal + stemming\n",
    "    ('tfidf', TfidfVectorizer(ngram_range=(1, 1), max_features=10000)) # Unigram TF-IDF vectorization\n",
    "])"
   ]
  },
  {
   "cell_type": "code",
   "execution_count": 56,
   "id": "63f5c36a",
   "metadata": {},
   "outputs": [],
   "source": [
    "# Split the data into training and test data for the model\n",
    "# Import relevant library\n",
    "from sklearn.model_selection import train_test_split\n",
    "\n",
    "X_train, X_test, y_train, y_test = train_test_split(\n",
    "    df['tokens'], # Input features (tokenized tweets)\n",
    "    df['sentiment'], # Target labels (sentiment classes)\n",
    "    test_size=0.2, # 20% of the data used for testing\n",
    "    random_state=42 # Ensures reproducibility\n",
    ")\n",
    "\n",
    "# Apply the feature engineering pipeline to the training and test data\n",
    "X_train_vec = fe_pipeline.fit_transform(X_train)\n",
    "X_test_vec = fe_pipeline.transform(X_test)"
   ]
  },
  {
   "cell_type": "markdown",
   "id": "2bec1f38-6a62-4055-b264-e236252be477",
   "metadata": {},
   "source": [
    "# **6.MODELING**"
   ]
  },
  {
   "cell_type": "markdown",
   "id": "31091476-fad0-4e43-83e5-b33f2c5e8ae3",
   "metadata": {},
   "source": [
    "### Prepare Dataset for Binary Classification using Baseline Models."
   ]
  },
  {
   "cell_type": "markdown",
   "id": "a3d00bc4-3bcd-452f-abb1-c673471b5ec5",
   "metadata": {},
   "source": [
    "We will:\n",
    "\n",
    "- Filter the dataset to include only positive and negative sentiment tweets.\n",
    "\n",
    "- Map them to binary labels:\n",
    "\n",
    "   \"Positive emotion\" → 1\n",
    "\n",
    "   \"Negative emotion\" → 0"
   ]
  },
  {
   "cell_type": "code",
   "execution_count": 64,
   "id": "e41a985f-35ca-4ca6-81e7-a1a822c3ae7d",
   "metadata": {},
   "outputs": [
    {
     "name": "stdout",
     "output_type": "stream",
     "text": [
      "1    2968\n",
      "0     569\n",
      "Name: label, dtype: int64\n"
     ]
    },
    {
     "data": {
      "text/html": [
       "<div>\n",
       "<style scoped>\n",
       "    .dataframe tbody tr th:only-of-type {\n",
       "        vertical-align: middle;\n",
       "    }\n",
       "\n",
       "    .dataframe tbody tr th {\n",
       "        vertical-align: top;\n",
       "    }\n",
       "\n",
       "    .dataframe thead th {\n",
       "        text-align: right;\n",
       "    }\n",
       "</style>\n",
       "<table border=\"1\" class=\"dataframe\">\n",
       "  <thead>\n",
       "    <tr style=\"text-align: right;\">\n",
       "      <th></th>\n",
       "      <th>preprocessed_text</th>\n",
       "      <th>sentiment</th>\n",
       "      <th>label</th>\n",
       "    </tr>\n",
       "  </thead>\n",
       "  <tbody>\n",
       "    <tr>\n",
       "      <th>0</th>\n",
       "      <td>3g iphon 3 hr tweet riseaustin dead need upgra...</td>\n",
       "      <td>Negative emotion</td>\n",
       "      <td>0</td>\n",
       "    </tr>\n",
       "    <tr>\n",
       "      <th>1</th>\n",
       "      <td>know awesom ipadiphon app youll like appreci d...</td>\n",
       "      <td>Positive emotion</td>\n",
       "      <td>1</td>\n",
       "    </tr>\n",
       "    <tr>\n",
       "      <th>2</th>\n",
       "      <td>wait ipad 2 also sale sxsw</td>\n",
       "      <td>Positive emotion</td>\n",
       "      <td>1</td>\n",
       "    </tr>\n",
       "    <tr>\n",
       "      <th>3</th>\n",
       "      <td>hope year festiv isnt crashi year iphon app sxsw</td>\n",
       "      <td>Negative emotion</td>\n",
       "      <td>0</td>\n",
       "    </tr>\n",
       "    <tr>\n",
       "      <th>4</th>\n",
       "      <td>great stuff fri sxsw marissa mayer googl tim o...</td>\n",
       "      <td>Positive emotion</td>\n",
       "      <td>1</td>\n",
       "    </tr>\n",
       "  </tbody>\n",
       "</table>\n",
       "</div>"
      ],
      "text/plain": [
       "                                   preprocessed_text         sentiment  label\n",
       "0  3g iphon 3 hr tweet riseaustin dead need upgra...  Negative emotion      0\n",
       "1  know awesom ipadiphon app youll like appreci d...  Positive emotion      1\n",
       "2                         wait ipad 2 also sale sxsw  Positive emotion      1\n",
       "3   hope year festiv isnt crashi year iphon app sxsw  Negative emotion      0\n",
       "4  great stuff fri sxsw marissa mayer googl tim o...  Positive emotion      1"
      ]
     },
     "execution_count": 64,
     "metadata": {},
     "output_type": "execute_result"
    }
   ],
   "source": [
    "# Filter for positive and negative sentiment only\n",
    "df_binary = df[df['sentiment'].isin(['Positive emotion', 'Negative emotion'])].copy()\n",
    "\n",
    "# Map sentiments to binary labels: Positive = 1, Negative = 0\n",
    "df_binary['label'] = df_binary['sentiment'].map({\n",
    "    'Positive emotion': 1,\n",
    "    'Negative emotion': 0\n",
    "})\n",
    "\n",
    "# Confirm class distribution\n",
    "print(df_binary['label'].value_counts())\n",
    "\n",
    "# Optional: check head\n",
    "df_binary[['preprocessed_text', 'sentiment', 'label']].head()\n"
   ]
  },
  {
   "cell_type": "markdown",
   "id": "18c3dd86-ca03-4267-b4ee-6a134a23e2f6",
   "metadata": {},
   "source": [
    "### Train/test split and baseline model training (Naive Bayes + Logistic Regression)"
   ]
  },
  {
   "cell_type": "markdown",
   "id": "84e73370-3101-4047-9217-3ad695f0531e",
   "metadata": {},
   "source": [
    "We’ll split df_binary into training and testing sets for model evaluation."
   ]
  },
  {
   "cell_type": "code",
   "execution_count": 66,
   "id": "30f23ddb-f552-4a71-860d-8e6eb4f184ce",
   "metadata": {},
   "outputs": [
    {
     "name": "stdout",
     "output_type": "stream",
     "text": [
      "Train size: 2829\n",
      "Test size: 708\n"
     ]
    }
   ],
   "source": [
    "from sklearn.model_selection import train_test_split\n",
    "\n",
    "# Input features (preprocessed tweet text) and labels\n",
    "X = df_binary['preprocessed_text']\n",
    "y = df_binary['label']\n",
    "\n",
    "# Split into training (80%) and test (20%) sets\n",
    "X_train, X_test, y_train, y_test = train_test_split(\n",
    "    X, y, test_size=0.2, random_state=42, stratify=y\n",
    ")\n",
    "\n",
    "# Confirm shape\n",
    "print(\"Train size:\", X_train.shape[0])\n",
    "print(\"Test size:\", X_test.shape[0])"
   ]
  },
  {
   "cell_type": "markdown",
   "id": "6667f051-4ccb-4952-91c4-8c3145f7e842",
   "metadata": {},
   "source": [
    "### TF-IDF Vectorization\n",
    "\n",
    "We use the same unigram TF-IDF vectorizer from before to transform the text data."
   ]
  },
  {
   "cell_type": "code",
   "execution_count": 67,
   "id": "1e039590-145f-423f-aeab-4eca1afb1cae",
   "metadata": {},
   "outputs": [],
   "source": [
    "from sklearn.feature_extraction.text import TfidfVectorizer\n",
    "\n",
    "# Initialize vectorizer\n",
    "vectorizer = TfidfVectorizer(ngram_range=(1,1), max_features=10000)\n",
    "\n",
    "# Fit on training and transform both sets\n",
    "X_train_vec = vectorizer.fit_transform(X_train)\n",
    "X_test_vec = vectorizer.transform(X_test)"
   ]
  },
  {
   "cell_type": "markdown",
   "id": "fa36f437-9e0c-4cdb-a506-51a8106b1c58",
   "metadata": {},
   "source": [
    "### Training Baseline Models\n",
    "\n",
    "We’ll start with:\n",
    "\n",
    "   - Multinomial Naive Bayes\n",
    "\n",
    "   - Logistic Regression"
   ]
  },
  {
   "cell_type": "code",
   "execution_count": 68,
   "id": "b2e8b49a-fdbf-4d24-9193-540a0f9e7b7a",
   "metadata": {},
   "outputs": [],
   "source": [
    "from sklearn.naive_bayes import MultinomialNB\n",
    "from sklearn.linear_model import LogisticRegression\n",
    "from sklearn.metrics import classification_report, confusion_matrix\n",
    "\n",
    "# Initialize models\n",
    "nb_model = MultinomialNB()\n",
    "lr_model = LogisticRegression(max_iter=1000, random_state=42)\n",
    "\n",
    "# Train\n",
    "nb_model.fit(X_train_vec, y_train)\n",
    "lr_model.fit(X_train_vec, y_train)\n",
    "\n",
    "# Predict\n",
    "nb_preds = nb_model.predict(X_test_vec)\n",
    "lr_preds = lr_model.predict(X_test_vec)"
   ]
  },
  {
   "cell_type": "markdown",
   "id": "79ad443d-eee8-42d2-a2bb-d15a5b38d6ed",
   "metadata": {},
   "source": [
    "### Evaluating the Models.\n",
    "\n",
    "We will use classification report and confusion matrix."
   ]
  },
  {
   "cell_type": "code",
   "execution_count": 69,
   "id": "5151950e-a40c-4599-9912-a8000350d801",
   "metadata": {},
   "outputs": [
    {
     "name": "stdout",
     "output_type": "stream",
     "text": [
      "Naive Bayes Performance:\n",
      "\n",
      "              precision    recall  f1-score   support\n",
      "\n",
      "    Negative       1.00      0.02      0.03       114\n",
      "    Positive       0.84      1.00      0.91       594\n",
      "\n",
      "    accuracy                           0.84       708\n",
      "   macro avg       0.92      0.51      0.47       708\n",
      "weighted avg       0.87      0.84      0.77       708\n",
      "\n"
     ]
    },
    {
     "data": {
      "image/png": "[encoded data removed]",
      "text/plain": [
       "<Figure size 432x288 with 2 Axes>"
      ]
     },
     "metadata": {
      "needs_background": "light"
     },
     "output_type": "display_data"
    },
    {
     "name": "stdout",
     "output_type": "stream",
     "text": [
      "\n",
      "Logistic Regression Performance:\n",
      "\n",
      "              precision    recall  f1-score   support\n",
      "\n",
      "    Negative       1.00      0.11      0.19       114\n",
      "    Positive       0.85      1.00      0.92       594\n",
      "\n",
      "    accuracy                           0.86       708\n",
      "   macro avg       0.93      0.55      0.56       708\n",
      "weighted avg       0.88      0.86      0.80       708\n",
      "\n"
     ]
    },
    {
     "data": {
      "image/png": "[encoded data removed]",
      "text/plain": [
       "<Figure size 432x288 with 2 Axes>"
      ]
     },
     "metadata": {
      "needs_background": "light"
     },
     "output_type": "display_data"
    }
   ],
   "source": [
    "from sklearn.metrics import ConfusionMatrixDisplay\n",
    "\n",
    "# Naive Bayes\n",
    "print(\"Naive Bayes Performance:\\n\")\n",
    "print(classification_report(y_test, nb_preds, target_names=['Negative', 'Positive']))\n",
    "\n",
    "ConfusionMatrixDisplay.from_predictions(y_test, nb_preds, display_labels=['Negative', 'Positive'])\n",
    "plt.title(\"Naive Bayes Confusion Matrix\")\n",
    "plt.show()\n",
    "\n",
    "# Logistic Regression\n",
    "print(\"\\nLogistic Regression Performance:\\n\")\n",
    "print(classification_report(y_test, lr_preds, target_names=['Negative', 'Positive']))\n",
    "\n",
    "ConfusionMatrixDisplay.from_predictions(y_test, lr_preds, display_labels=['Negative', 'Positive'])\n",
    "plt.title(\"Logistic Regression Confusion Matrix\")\n",
    "plt.show()"
   ]
  },
  {
   "cell_type": "markdown",
   "id": "f7df9852-1a89-4a07-bb75-dd7b83883b83",
   "metadata": {},
   "source": [
    "* Both models predict positive almost all the time.\n",
    "\n",
    "* Perform poorly on negative tweets, which is critical in brand monitoring.\n",
    "\n",
    "* Even though accuracy is high, it's misleading due to the skewed dataset (594 positives vs 114 negatives in the test set)."
   ]
  },
  {
   "cell_type": "markdown",
   "id": "0d72e4cd-dfe3-45a6-976b-8e874241f963",
   "metadata": {},
   "source": [
    "### Retrain Logistic Regression with class_weight='balanced'"
   ]
  },
  {
   "cell_type": "code",
   "execution_count": 70,
   "id": "75f2c052-06ae-4899-8f2a-e08167ff2fba",
   "metadata": {},
   "outputs": [
    {
     "name": "stdout",
     "output_type": "stream",
     "text": [
      "Logistic Regression (Balanced) Performance:\n",
      "\n",
      "              precision    recall  f1-score   support\n",
      "\n",
      "    Negative       0.51      0.65      0.57       114\n",
      "    Positive       0.93      0.88      0.90       594\n",
      "\n",
      "    accuracy                           0.84       708\n",
      "   macro avg       0.72      0.76      0.74       708\n",
      "weighted avg       0.86      0.84      0.85       708\n",
      "\n"
     ]
    },
    {
     "data": {
      "image/png": "[encoded data removed]",
      "text/plain": [
       "<Figure size 432x288 with 2 Axes>"
      ]
     },
     "metadata": {
      "needs_background": "light"
     },
     "output_type": "display_data"
    }
   ],
   "source": [
    "# Retrain Logistic Regression with class weights\n",
    "lr_model_balanced = LogisticRegression(max_iter=1000, random_state=42, class_weight='balanced')\n",
    "lr_model_balanced.fit(X_train_vec, y_train)\n",
    "\n",
    "# Predict and evaluate\n",
    "lr_bal_preds = lr_model_balanced.predict(X_test_vec)\n",
    "\n",
    "print(\"Logistic Regression (Balanced) Performance:\\n\")\n",
    "print(classification_report(y_test, lr_bal_preds, target_names=['Negative', 'Positive']))\n",
    "\n",
    "ConfusionMatrixDisplay.from_predictions(y_test, lr_bal_preds, display_labels=['Negative', 'Positive'])\n",
    "plt.title(\"Logistic Regression (Balanced) Confusion Matrix\")\n",
    "plt.show()"
   ]
  },
  {
   "cell_type": "markdown",
   "id": "4218d1b7-ba01-4ef8-b1fc-4a6cc068cc65",
   "metadata": {},
   "source": [
    "Accuracy: 84%\n",
    "\n",
    "Macro avg F1: 0.74 \n",
    "\n",
    "Business impact:\n",
    "\n",
    "* We now catch most negative tweets (recall = 65%) without false alarms getting out of hand (precision = 51%).\n",
    "\n",
    "* We still maintain excellent recall and precision for positive tweets."
   ]
  },
  {
   "cell_type": "markdown",
   "id": "02e3df39-9a15-4e88-a641-e5c9198d1927",
   "metadata": {},
   "source": [
    "## Advanced Models.\n",
    "\n",
    "### Random Forest Classifier\n",
    "\n",
    "####  Train & Evaluate Random Forest"
   ]
  },
  {
   "cell_type": "code",
   "execution_count": 71,
   "id": "9f19b06d-f690-4a04-ac5d-f41cd2a811d9",
   "metadata": {},
   "outputs": [
    {
     "name": "stdout",
     "output_type": "stream",
     "text": [
      "Random Forest Performance:\n",
      "\n",
      "              precision    recall  f1-score   support\n",
      "\n",
      "    Negative       0.88      0.25      0.38       114\n",
      "    Positive       0.87      0.99      0.93       594\n",
      "\n",
      "    accuracy                           0.87       708\n",
      "   macro avg       0.87      0.62      0.66       708\n",
      "weighted avg       0.87      0.87      0.84       708\n",
      "\n"
     ]
    },
    {
     "data": {
      "image/png": "[encoded data removed]",
      "text/plain": [
       "<Figure size 432x288 with 2 Axes>"
      ]
     },
     "metadata": {
      "needs_background": "light"
     },
     "output_type": "display_data"
    }
   ],
   "source": [
    "from sklearn.ensemble import RandomForestClassifier\n",
    "from sklearn.metrics import classification_report, ConfusionMatrixDisplay\n",
    "\n",
    "# Initialize model with basic settings\n",
    "rf_model = RandomForestClassifier(random_state=42, class_weight='balanced', n_estimators=100)\n",
    "\n",
    "# Train the model\n",
    "rf_model.fit(X_train_vec, y_train)\n",
    "\n",
    "# Predict\n",
    "rf_preds = rf_model.predict(X_test_vec)\n",
    "\n",
    "# Evaluate\n",
    "print(\"Random Forest Performance:\\n\")\n",
    "print(classification_report(y_test, rf_preds, target_names=['Negative', 'Positive']))\n",
    "\n",
    "ConfusionMatrixDisplay.from_predictions(y_test, rf_preds, display_labels=['Negative', 'Positive'])\n",
    "plt.title(\"Random Forest Confusion Matrix\")\n",
    "plt.show()\n"
   ]
  },
  {
   "cell_type": "markdown",
   "id": "9f88cabc-ea4d-40b4-abc9-b9183e7ac8e7",
   "metadata": {},
   "source": [
    "Accuracy: 87%\n",
    "\n",
    "Macro Avg F1: 0.66\n",
    "\n",
    "Weighted Avg F1: 0.84\n",
    "\n",
    "It is excellent at catching positive tweets (Recall = 0.99)\n",
    "\n",
    "Has a very high overall accuracy\n",
    "\n",
    "It has a poor recall on negative tweets (only 25%) as it misses most negative sentiments which is risky for brand monitoring use cases.\n"
   ]
  },
  {
   "cell_type": "markdown",
   "id": "f437870b-ae10-4f5a-a4f0-81ac364d2323",
   "metadata": {},
   "source": [
    "### Support Vector Machine (SVM)\n",
    "\n",
    "#### Train & Evaluate SVM"
   ]
  },
  {
   "cell_type": "code",
   "execution_count": 72,
   "id": "e9b0adfe-b2f9-42e2-a4a3-937198421114",
   "metadata": {},
   "outputs": [
    {
     "name": "stdout",
     "output_type": "stream",
     "text": [
      "SVM Performance:\n",
      "\n",
      "              precision    recall  f1-score   support\n",
      "\n",
      "    Negative       0.63      0.58      0.61       114\n",
      "    Positive       0.92      0.94      0.93       594\n",
      "\n",
      "    accuracy                           0.88       708\n",
      "   macro avg       0.78      0.76      0.77       708\n",
      "weighted avg       0.87      0.88      0.88       708\n",
      "\n"
     ]
    },
    {
     "data": {
      "image/png": "[encoded data removed]",
      "text/plain": [
       "<Figure size 432x288 with 2 Axes>"
      ]
     },
     "metadata": {
      "needs_background": "light"
     },
     "output_type": "display_data"
    }
   ],
   "source": [
    "from sklearn.svm import LinearSVC\n",
    "\n",
    "# Initialize SVM with class weights\n",
    "svm_model = LinearSVC(class_weight='balanced', max_iter=10000)\n",
    "\n",
    "# Train\n",
    "svm_model.fit(X_train_vec, y_train)\n",
    "\n",
    "# Predict\n",
    "svm_preds = svm_model.predict(X_test_vec)\n",
    "\n",
    "# Evaluate\n",
    "print(\"SVM Performance:\\n\")\n",
    "print(classification_report(y_test, svm_preds, target_names=['Negative', 'Positive']))\n",
    "\n",
    "ConfusionMatrixDisplay.from_predictions(y_test, svm_preds, display_labels=['Negative', 'Positive'])\n",
    "plt.title(\"SVM Confusion Matrix\")\n",
    "plt.show()"
   ]
  },
  {
   "cell_type": "markdown",
   "id": "55187dc4-d758-4c4e-8527-ac8042aa09a6",
   "metadata": {},
   "source": [
    "Accuracy: 88%\n",
    "\n",
    "Macro Avg F1: 0.77\n",
    "\n",
    "Weighted Avg F1: 0.88\n",
    "\n",
    "\n",
    "* Naive Bayes achieved perfect recall on positive tweets but failed to detect almost any negative tweets, making it unsuitable due to severe imbalance.\n",
    "\n",
    "* Logistic Regression offered the most balanced performance, detecting 65% of negative tweets and 88% of positives, with a good overall F1 score and      easy interpretability.\n",
    "\n",
    "* Random Forest showed strong accuracy and excellent detection of positive sentiment (99% recall) but struggled significantly with negative tweets,       only identifying 25% of them.\n",
    "\n",
    "* SVM delivered the best overall performance, with high recall on both positive (94%) and negative (58%) tweets, and the highest macro F1 score           making it the most promising model so far for sentiment classification in this context.\n"
   ]
  },
  {
   "cell_type": "markdown",
   "id": "7e49150b-9fe1-4a0c-8d21-2864cac75d19",
   "metadata": {},
   "source": [
    "Now that we've identified SVM and Logistic Regression as the top contenders, we’ll move to the final modeling step."
   ]
  },
  {
   "cell_type": "markdown",
   "id": "c9f6759e-7e79-47ce-9186-77b55f8342fb",
   "metadata": {},
   "source": [
    "## Hyperparameter Tuning (GridSearchCV)\n",
    "\n",
    "Goal:\n",
    "\n",
    "-Improve performance by finding the best hyperparameters.\n",
    "\n",
    "-Avoid overfitting and enhance generalization."
   ]
  },
  {
   "cell_type": "markdown",
   "id": "7b801f9a-ec57-4c6c-b9d8-64d1f30df86b",
   "metadata": {},
   "source": [
    "### Grid Search for Logistic Regression"
   ]
  },
  {
   "cell_type": "code",
   "execution_count": 73,
   "id": "06d17b16-540e-4f72-a5da-28727b738a21",
   "metadata": {},
   "outputs": [
    {
     "name": "stdout",
     "output_type": "stream",
     "text": [
      "Best Logistic Regression Params: {'C': 10, 'solver': 'liblinear'}\n",
      "Best Macro F1 Score (CV): 0.7260913203334806\n"
     ]
    }
   ],
   "source": [
    "from sklearn.linear_model import LogisticRegression\n",
    "from sklearn.model_selection import GridSearchCV\n",
    "\n",
    "# Define the model\n",
    "lr = LogisticRegression(class_weight='balanced', max_iter=1000)\n",
    "\n",
    "# Define hyperparameter grid\n",
    "lr_param_grid = {\n",
    "    'C': [0.01, 0.1, 1, 10],  # Inverse regularization strength\n",
    "    'solver': ['liblinear', 'lbfgs']\n",
    "}\n",
    "\n",
    "# Set up GridSearchCV\n",
    "lr_grid = GridSearchCV(lr, lr_param_grid, cv=5, scoring='f1_macro', n_jobs=-1)\n",
    "\n",
    "# Fit to training data\n",
    "lr_grid.fit(X_train_vec, y_train)\n",
    "\n",
    "# Best model and score\n",
    "print(\"Best Logistic Regression Params:\", lr_grid.best_params_)\n",
    "print(\"Best Macro F1 Score (CV):\", lr_grid.best_score_)"
   ]
  },
  {
   "cell_type": "markdown",
   "id": "4efd0319-2d53-4cf6-8d70-db91134579c7",
   "metadata": {},
   "source": [
    "### Grid Search for SVM"
   ]
  },
  {
   "cell_type": "code",
   "execution_count": 74,
   "id": "3f195363-2b07-4c21-955f-99337224f9eb",
   "metadata": {},
   "outputs": [
    {
     "name": "stdout",
     "output_type": "stream",
     "text": [
      "Best SVM Params: {'C': 1}\n",
      "Best Macro F1 Score (CV): 0.7281282013407023\n"
     ]
    }
   ],
   "source": [
    "from sklearn.svm import LinearSVC\n",
    "\n",
    "# Define the model\n",
    "svm = LinearSVC(class_weight='balanced', max_iter=10000)\n",
    "\n",
    "# Define hyperparameter grid\n",
    "svm_param_grid = {\n",
    "    'C': [0.01, 0.1, 1, 10]  # Regularization parameter\n",
    "}\n",
    "\n",
    "# Set up GridSearchCV\n",
    "svm_grid = GridSearchCV(svm, svm_param_grid, cv=5, scoring='f1_macro', n_jobs=-1)\n",
    "\n",
    "# Fit to training data\n",
    "svm_grid.fit(X_train_vec, y_train)\n",
    "\n",
    "# Best model and score\n",
    "print(\"Best SVM Params:\", svm_grid.best_params_)\n",
    "print(\"Best Macro F1 Score (CV):\", svm_grid.best_score_)\n"
   ]
  },
  {
   "cell_type": "markdown",
   "id": "0ed27a80-d2e6-4a1b-9e33-f18c21cb2c9f",
   "metadata": {},
   "source": [
    "* Logistic Regression\n",
    "\n",
    "-Best Parameters: C=10, solver='liblinear'\n",
    "\n",
    "-Best Macro F1 (CV): 0.726\n",
    "\n",
    "* SVM (LinearSVC)\n",
    "\n",
    "-Best Parameter: C=1\n",
    "\n",
    "-Best Macro F1 (CV): 0.728\n",
    "\n",
    "\n",
    "Interpretation;\n",
    "\n",
    "Both models performed very similarly in cross-validation.However:\n",
    "\n",
    "* SVM edges slightly ahead in performance.\n",
    "\n",
    "* Logistic Regression remains more interpretable (you can examine coefficients directly)."
   ]
  },
  {
   "cell_type": "markdown",
   "id": "e0b88b56-06b1-43bd-8da8-fb83112dddab",
   "metadata": {},
   "source": [
    "## Evaluation on Test Set\n",
    "\n",
    "We'll now evaluate the best-tuned models on the test data (X_test_vec, y_test) to confirm performance."
   ]
  },
  {
   "cell_type": "markdown",
   "id": "677249ae-850f-46e7-a710-f9c55ca309e6",
   "metadata": {},
   "source": [
    "### Evaluate Tuned Logistic Regression"
   ]
  },
  {
   "cell_type": "code",
   "execution_count": 75,
   "id": "b02f19fb-4068-4e65-81ca-c1b60f99c700",
   "metadata": {},
   "outputs": [
    {
     "name": "stdout",
     "output_type": "stream",
     "text": [
      "Logistic Regression (Tuned) Performance:\n",
      "\n",
      "              precision    recall  f1-score   support\n",
      "\n",
      "           0       0.62      0.61      0.62       114\n",
      "           1       0.93      0.93      0.93       594\n",
      "\n",
      "    accuracy                           0.88       708\n",
      "   macro avg       0.78      0.77      0.77       708\n",
      "weighted avg       0.88      0.88      0.88       708\n",
      "\n"
     ]
    }
   ],
   "source": [
    "from sklearn.metrics import classification_report, confusion_matrix\n",
    "\n",
    "# Use best estimator\n",
    "lr_best = lr_grid.best_estimator_\n",
    "\n",
    "# Predict\n",
    "y_pred_lr = lr_best.predict(X_test_vec)\n",
    "\n",
    "# Evaluation report\n",
    "print(\"Logistic Regression (Tuned) Performance:\\n\")\n",
    "print(classification_report(y_test, y_pred_lr))\n"
   ]
  },
  {
   "cell_type": "markdown",
   "id": "9f900b0f-8617-4261-9e75-270853ea9b0d",
   "metadata": {},
   "source": [
    "### Evaluate Tuned SVM"
   ]
  },
  {
   "cell_type": "code",
   "execution_count": 76,
   "id": "11745087-44ae-443b-8044-836ce236527a",
   "metadata": {},
   "outputs": [
    {
     "name": "stdout",
     "output_type": "stream",
     "text": [
      "SVM (Tuned) Performance:\n",
      "\n",
      "              precision    recall  f1-score   support\n",
      "\n",
      "           0       0.63      0.58      0.61       114\n",
      "           1       0.92      0.94      0.93       594\n",
      "\n",
      "    accuracy                           0.88       708\n",
      "   macro avg       0.78      0.76      0.77       708\n",
      "weighted avg       0.87      0.88      0.88       708\n",
      "\n"
     ]
    }
   ],
   "source": [
    "# Use best estimator\n",
    "svm_best = svm_grid.best_estimator_\n",
    "\n",
    "# Predict\n",
    "y_pred_svm = svm_best.predict(X_test_vec)\n",
    "\n",
    "# Evaluation report\n",
    "print(\"SVM (Tuned) Performance:\\n\")\n",
    "print(classification_report(y_test, y_pred_svm))\n"
   ]
  },
  {
   "cell_type": "markdown",
   "id": "017ed679-ffcb-439f-97dd-a7c55cf2e88f",
   "metadata": {},
   "source": [
    "* Both models perform equally well overall in terms of accuracy and macro F1.\n",
    "\n",
    "* Logistic Regression performs slightly better on negative class recall (61% vs 58%)  a key metric for brand monitoring (catching negative sentiment).\n",
    "\n",
    "* SVM gets a slightly higher positive recall, but difference is marginal."
   ]
  },
  {
   "cell_type": "markdown",
   "id": "ff07c464-ee1d-43cf-a7f3-c8620daa64e4",
   "metadata": {},
   "source": [
    "## Neural Network for Sentiment Classification (with Epochs)\n",
    "\n",
    "We'll use Keras (from TensorFlow) to define and train the model."
   ]
  },
  {
   "cell_type": "code",
   "execution_count": 100,
   "id": "d7aaeb71-59e5-4bc3-a348-6524bf2ba4c4",
   "metadata": {},
   "outputs": [
    {
     "name": "stdout",
     "output_type": "stream",
     "text": [
      "Epoch 1/20\n",
      "89/89 [==============================] - 0s 5ms/step - loss: 0.1916 - accuracy: 0.9940 - val_loss: 0.0018 - val_accuracy: 1.0000\n",
      "Epoch 2/20\n",
      "89/89 [==============================] - 0s 4ms/step - loss: 0.0015 - accuracy: 1.0000 - val_loss: 3.9176e-04 - val_accuracy: 1.0000\n",
      "Epoch 3/20\n",
      "89/89 [==============================] - 0s 4ms/step - loss: 4.7979e-04 - accuracy: 1.0000 - val_loss: 1.6404e-04 - val_accuracy: 1.0000\n",
      "Epoch 4/20\n",
      "89/89 [==============================] - 0s 4ms/step - loss: 2.5324e-04 - accuracy: 1.0000 - val_loss: 8.4848e-05 - val_accuracy: 1.0000\n",
      "Epoch 5/20\n",
      "89/89 [==============================] - 0s 5ms/step - loss: 1.5463e-04 - accuracy: 1.0000 - val_loss: 5.0211e-05 - val_accuracy: 1.0000\n",
      "Epoch 6/20\n",
      "89/89 [==============================] - 0s 5ms/step - loss: 1.0810e-04 - accuracy: 1.0000 - val_loss: 3.2696e-05 - val_accuracy: 1.0000\n",
      "Epoch 7/20\n",
      "89/89 [==============================] - 0s 4ms/step - loss: 7.4153e-05 - accuracy: 1.0000 - val_loss: 2.3396e-05 - val_accuracy: 1.0000\n",
      "Epoch 8/20\n",
      "89/89 [==============================] - 0s 4ms/step - loss: 6.3641e-05 - accuracy: 1.0000 - val_loss: 1.6944e-05 - val_accuracy: 1.0000\n",
      "Epoch 9/20\n",
      "89/89 [==============================] - 0s 4ms/step - loss: 4.7450e-05 - accuracy: 1.0000 - val_loss: 1.2870e-05 - val_accuracy: 1.0000\n",
      "Epoch 10/20\n",
      "89/89 [==============================] - 0s 4ms/step - loss: 3.9416e-05 - accuracy: 1.0000 - val_loss: 9.9810e-06 - val_accuracy: 1.0000\n",
      "Epoch 11/20\n",
      "89/89 [==============================] - 0s 4ms/step - loss: 3.2088e-05 - accuracy: 1.0000 - val_loss: 7.9491e-06 - val_accuracy: 1.0000\n",
      "Epoch 12/20\n",
      "89/89 [==============================] - 0s 4ms/step - loss: 2.7543e-05 - accuracy: 1.0000 - val_loss: 6.4209e-06 - val_accuracy: 1.0000\n",
      "Epoch 13/20\n",
      "89/89 [==============================] - 0s 4ms/step - loss: 2.3732e-05 - accuracy: 1.0000 - val_loss: 5.2710e-06 - val_accuracy: 1.0000\n",
      "Epoch 14/20\n",
      "89/89 [==============================] - 0s 4ms/step - loss: 1.9370e-05 - accuracy: 1.0000 - val_loss: 4.4268e-06 - val_accuracy: 1.0000\n",
      "Epoch 15/20\n",
      "89/89 [==============================] - 0s 4ms/step - loss: 1.9041e-05 - accuracy: 1.0000 - val_loss: 3.6952e-06 - val_accuracy: 1.0000\n",
      "Epoch 16/20\n",
      "89/89 [==============================] - 0s 4ms/step - loss: 1.6064e-05 - accuracy: 1.0000 - val_loss: 3.1267e-06 - val_accuracy: 1.0000\n",
      "Epoch 17/20\n",
      "89/89 [==============================] - 0s 4ms/step - loss: 1.2969e-05 - accuracy: 1.0000 - val_loss: 2.7039e-06 - val_accuracy: 1.0000\n",
      "Epoch 18/20\n",
      "89/89 [==============================] - 0s 4ms/step - loss: 1.4216e-05 - accuracy: 1.0000 - val_loss: 2.2916e-06 - val_accuracy: 1.0000\n",
      "Epoch 19/20\n",
      "89/89 [==============================] - 0s 4ms/step - loss: 1.2975e-05 - accuracy: 1.0000 - val_loss: 1.9698e-06 - val_accuracy: 1.0000\n",
      "Epoch 20/20\n",
      "89/89 [==============================] - 0s 6ms/step - loss: 1.1014e-05 - accuracy: 1.0000 - val_loss: 1.7192e-06 - val_accuracy: 1.0000\n",
      "23/23 [==============================] - 0s 1ms/step - loss: 1.7192e-06 - accuracy: 1.0000\n",
      "Test Accuracy: 100.00%\n"
     ]
    }
   ],
   "source": [
    "import tensorflow as tf\n",
    "from tensorflow.keras.models import Sequential\n",
    "from tensorflow.keras.layers import Dense, Dropout\n",
    "from tensorflow.keras.callbacks import EarlyStopping\n",
    "import matplotlib.pyplot as plt\n",
    "\n",
    "# Convert target to binary: 1 = Positive, 0 = Negative\n",
    "y_train_bin = (y_train == 'Positive emotion').astype(int)\n",
    "y_test_bin = (y_test == 'Positive emotion').astype(int)\n",
    "\n",
    "# Build model\n",
    "model = Sequential([\n",
    "    Dense(128, activation='relu', input_shape=(X_train_vec.shape[1],)),\n",
    "    Dropout(0.3),\n",
    "    Dense(64, activation='relu'),\n",
    "    Dropout(0.3),\n",
    "    Dense(1, activation='sigmoid')\n",
    "])\n",
    "\n",
    "# Compile\n",
    "model.compile(optimizer='adam', loss='binary_crossentropy', metrics=['accuracy'])\n",
    "\n",
    "# Early stopping\n",
    "early_stop = EarlyStopping(monitor='val_loss', patience=3, restore_best_weights=True)\n",
    "\n",
    "# Train\n",
    "history = model.fit(\n",
    "    X_train_vec.toarray(), y_train_bin,\n",
    "    validation_data=(X_test_vec.toarray(), y_test_bin),\n",
    "    epochs=20,\n",
    "    batch_size=32,\n",
    "    callbacks=[early_stop],\n",
    "    verbose=1\n",
    ")\n",
    "\n",
    "# Evaluate\n",
    "loss, accuracy = model.evaluate(X_test_vec.toarray(), y_test_bin)\n",
    "print(f\"Test Accuracy: {accuracy * 100:.2f}%\")\n"
   ]
  },
  {
   "cell_type": "markdown",
   "id": "3f974315-a592-4d31-bcd5-eb7cf4ff9690",
   "metadata": {},
   "source": [
    "We're seeing a 100% accuracy on the validation and test set which likely indicates overfitting.\n",
    "\n",
    "* The model trained successfully over 20 epochs.\n",
    "\n",
    "* Training loss steadily decreased, and accuracy reached perfection.\n",
    "\n",
    "* Early stopping wasn't triggered, because validation kept improving."
   ]
  },
  {
   "cell_type": "markdown",
   "id": "16a62090-884a-45f3-84c3-5231e5c17e21",
   "metadata": {},
   "source": [
    "### Visualize Accuracy & Loss Over EpochsVisualize Accuracy & Loss Over Epochs"
   ]
  },
  {
   "cell_type": "code",
   "execution_count": 78,
   "id": "aa97c641-9d8d-4bbb-a8f1-92379f446291",
   "metadata": {},
   "outputs": [
    {
     "data": {
      "image/png": "[encoded data removed]",
      "text/plain": [
       "<Figure size 864x360 with 2 Axes>"
      ]
     },
     "metadata": {
      "needs_background": "light"
     },
     "output_type": "display_data"
    }
   ],
   "source": [
    "# Accuracy Plot\n",
    "plt.figure(figsize=(12, 5))\n",
    "plt.subplot(1, 2, 1)\n",
    "plt.plot(history.history['accuracy'], label='Train Acc')\n",
    "plt.plot(history.history['val_accuracy'], label='Val Acc')\n",
    "plt.title('Model Accuracy over Epochs')\n",
    "plt.xlabel('Epoch')\n",
    "plt.ylabel('Accuracy')\n",
    "plt.legend()\n",
    "\n",
    "# Loss Plot\n",
    "plt.subplot(1, 2, 2)\n",
    "plt.plot(history.history['loss'], label='Train Loss')\n",
    "plt.plot(history.history['val_loss'], label='Val Loss')\n",
    "plt.title('Model Loss over Epochs')\n",
    "plt.xlabel('Epoch')\n",
    "plt.ylabel('Loss')\n",
    "plt.legend()\n",
    "plt.tight_layout()\n",
    "plt.show()"
   ]
  },
  {
   "cell_type": "markdown",
   "id": "1c71457b-6fa6-4977-9c8c-000bb1a643eb",
   "metadata": {},
   "source": [
    "### Left Plot – Accuracy over Epochs\n",
    "\n",
    "Shows how accurately the model is predicting during training and validation.\n",
    "\n",
    "Upward lines mean the model is learning.\n",
    "\n",
    "If training accuracy is high but validation accuracy is low → overfitting."
   ]
  },
  {
   "cell_type": "markdown",
   "id": "2af0675a-595a-41ab-b7ac-eb8e3aa10cfa",
   "metadata": {},
   "source": [
    "### Right Plot – Loss over Epochs\n",
    "\n",
    "Shows how much error the model is making.\n",
    "\n",
    "Downward lines mean the model is improving.\n",
    "\n",
    "If training loss drops but validation loss rises → overfitting.\n",
    "\n",
    "If both stay high → underfitting."
   ]
  },
  {
   "cell_type": "markdown",
   "id": "3a33585f-0822-4064-a660-531160040aa0",
   "metadata": {},
   "source": [
    "### Upgrade to Multiclass Classifier (Positive, Negative, Neutral)\n",
    "\n",
    "### Filter only rows with 3 labels:\n",
    "\n"
   ]
  },
  {
   "cell_type": "code",
   "execution_count": 119,
   "id": "38532225-3c5f-41ba-92fb-d22ce003d4e8",
   "metadata": {},
   "outputs": [
    {
     "name": "stdout",
     "output_type": "stream",
     "text": [
      "Label Mapping: {'No emotion toward brand or product': 0}\n",
      "Training features shape: (4297, 5832)\n",
      "Training labels shape (one-hot): (4297, 3)\n",
      "Test labels shape (one-hot): (1075, 3)\n"
     ]
    }
   ],
   "source": [
    "from sklearn.model_selection import train_test_split\n",
    "from sklearn.preprocessing import LabelEncoder\n",
    "from tensorflow.keras.utils import to_categorical\n",
    "\n",
    "# STEP 1: Filter 3 sentiment classes and encode labels\n",
    "df_multi = df_Tweet[df_Tweet['sentiment'].isin([\n",
    "    'Positive sentiment',\n",
    "    'Negative sentiment',\n",
    "    'No emotion toward brand or product'\n",
    "])].copy()\n",
    "\n",
    "le = LabelEncoder()\n",
    "df_multi['sentiment_encoded'] = le.fit_transform(df_multi['sentiment'])\n",
    "print(\"Label Mapping:\", dict(zip(le.classes_, le.transform(le.classes_))))\n",
    "\n",
    "# STEP 2: Train-test split\n",
    "X = df_multi['tokens']\n",
    "y = df_multi['sentiment_encoded']\n",
    "X_train_m, X_test_m, y_train_m, y_test_m = train_test_split(\n",
    "    X, y, test_size=0.2, random_state=42, stratify=y\n",
    ")\n",
    "\n",
    "# Vectorize features (make sure fe_pipeline is defined earlier)\n",
    "X_train_vec_m = fe_pipeline.fit_transform(X_train_m)\n",
    "X_test_vec_m = fe_pipeline.transform(X_test_m)\n",
    "\n",
    "# STEP 3: One-hot encode the labels\n",
    "y_train_cat = to_categorical(y_train_m, num_classes=3)\n",
    "y_test_cat = to_categorical(y_test_m, num_classes=3)\n",
    "\n",
    "# Summary outputs\n",
    "print(\"Training features shape:\", X_train_vec_m.shape)\n",
    "print(\"Training labels shape (one-hot):\", y_train_cat.shape)\n",
    "print(\"Test labels shape (one-hot):\", y_test_cat.shape)\n"
   ]
  },
  {
   "cell_type": "code",
   "execution_count": 131,
   "id": "7299d6b3-3872-4e5b-9b32-615d6a40a7dd",
   "metadata": {},
   "outputs": [
    {
     "name": "stdout",
     "output_type": "stream",
     "text": [
      "Model: \"sequential_12\"\n",
      "_________________________________________________________________\n",
      "Layer (type)                 Output Shape              Param #   \n",
      "=================================================================\n",
      "dense_36 (Dense)             (None, 128)               750720    \n",
      "_________________________________________________________________\n",
      "dropout_24 (Dropout)         (None, 128)               0         \n",
      "_________________________________________________________________\n",
      "dense_37 (Dense)             (None, 64)                8256      \n",
      "_________________________________________________________________\n",
      "dropout_25 (Dropout)         (None, 64)                0         \n",
      "_________________________________________________________________\n",
      "dense_38 (Dense)             (None, 3)                 195       \n",
      "=================================================================\n",
      "Total params: 759,171\n",
      "Trainable params: 759,171\n",
      "Non-trainable params: 0\n",
      "_________________________________________________________________\n"
     ]
    }
   ],
   "source": [
    "from tensorflow.keras.models import Sequential\n",
    "from tensorflow.keras.layers import Dense, Dropout\n",
    "\n",
    "# STEP 4: Build the model\n",
    "multi_model = Sequential([\n",
    "    Dense(128, activation='relu', input_shape=(X_train_vec_m.shape[1],)),\n",
    "    Dropout(0.3),\n",
    "    Dense(64, activation='relu'),\n",
    "    Dropout(0.3),\n",
    "    Dense(3, activation='softmax')  # 3 classes for multiclass classification\n",
    "])\n",
    "\n",
    "# Compile the model\n",
    "multi_model.compile(\n",
    "    optimizer='adam',\n",
    "    loss='categorical_crossentropy',\n",
    "    metrics=['accuracy']\n",
    ")\n",
    "\n",
    "# Display model summary\n",
    "multi_model.summary()\n"
   ]
  },
  {
   "cell_type": "code",
   "execution_count": 121,
   "id": "e0e2992c-7d38-477d-8075-dc5632b97dcb",
   "metadata": {},
   "outputs": [
    {
     "name": "stdout",
     "output_type": "stream",
     "text": [
      "Epoch 1/20\n",
      "135/135 [==============================] - 2s 14ms/step - loss: 0.2178 - accuracy: 0.9874 - val_loss: 5.5532e-04 - val_accuracy: 1.0000\n",
      "Epoch 2/20\n",
      "135/135 [==============================] - 1s 8ms/step - loss: 5.5841e-04 - accuracy: 1.0000 - val_loss: 9.9414e-05 - val_accuracy: 1.0000\n",
      "Epoch 3/20\n",
      "135/135 [==============================] - 1s 9ms/step - loss: 1.8316e-04 - accuracy: 1.0000 - val_loss: 3.5463e-05 - val_accuracy: 1.0000\n",
      "Epoch 4/20\n",
      "135/135 [==============================] - 1s 11ms/step - loss: 8.8688e-05 - accuracy: 1.0000 - val_loss: 1.7775e-05 - val_accuracy: 1.0000\n",
      "Epoch 5/20\n",
      "135/135 [==============================] - 1s 9ms/step - loss: 5.4118e-05 - accuracy: 1.0000 - val_loss: 1.0095e-05 - val_accuracy: 1.0000\n",
      "Epoch 6/20\n",
      "135/135 [==============================] - 1s 9ms/step - loss: 3.7445e-05 - accuracy: 1.0000 - val_loss: 6.2581e-06 - val_accuracy: 1.0000\n",
      "Epoch 7/20\n",
      "135/135 [==============================] - 1s 8ms/step - loss: 2.7899e-05 - accuracy: 1.0000 - val_loss: 4.1897e-06 - val_accuracy: 1.0000\n",
      "Epoch 8/20\n",
      "135/135 [==============================] - 1s 8ms/step - loss: 2.0277e-05 - accuracy: 1.0000 - val_loss: 2.9552e-06 - val_accuracy: 1.0000\n",
      "Epoch 9/20\n",
      "135/135 [==============================] - 1s 7ms/step - loss: 2.0685e-05 - accuracy: 1.0000 - val_loss: 2.0953e-06 - val_accuracy: 1.0000\n",
      "Epoch 10/20\n",
      "135/135 [==============================] - 1s 9ms/step - loss: 1.5368e-05 - accuracy: 1.0000 - val_loss: 1.5514e-06 - val_accuracy: 1.0000\n",
      "Epoch 11/20\n",
      "135/135 [==============================] - 1s 8ms/step - loss: 1.1122e-05 - accuracy: 1.0000 - val_loss: 1.1909e-06 - val_accuracy: 1.0000\n",
      "Epoch 12/20\n",
      "135/135 [==============================] - 1s 9ms/step - loss: 9.4792e-06 - accuracy: 1.0000 - val_loss: 9.1996e-07 - val_accuracy: 1.0000\n",
      "Epoch 13/20\n",
      "135/135 [==============================] - 1s 9ms/step - loss: 9.2329e-06 - accuracy: 1.0000 - val_loss: 7.1038e-07 - val_accuracy: 1.0000\n",
      "Epoch 14/20\n",
      "135/135 [==============================] - 1s 8ms/step - loss: 6.5533e-06 - accuracy: 1.0000 - val_loss: 5.7243e-07 - val_accuracy: 1.0000\n",
      "Epoch 15/20\n",
      "135/135 [==============================] - 1s 8ms/step - loss: 5.9323e-06 - accuracy: 1.0000 - val_loss: 4.6541e-07 - val_accuracy: 1.0000\n",
      "Epoch 16/20\n",
      "135/135 [==============================] - 1s 8ms/step - loss: 6.1704e-06 - accuracy: 1.0000 - val_loss: 3.7215e-07 - val_accuracy: 1.0000\n",
      "Epoch 17/20\n",
      "135/135 [==============================] - 1s 8ms/step - loss: 5.8876e-06 - accuracy: 1.0000 - val_loss: 2.9187e-07 - val_accuracy: 1.0000\n",
      "Epoch 18/20\n",
      "135/135 [==============================] - 1s 8ms/step - loss: 3.4259e-06 - accuracy: 1.0000 - val_loss: 2.4064e-07 - val_accuracy: 1.0000\n",
      "Epoch 19/20\n",
      "135/135 [==============================] - 1s 9ms/step - loss: 4.5329e-06 - accuracy: 1.0000 - val_loss: 1.9229e-07 - val_accuracy: 1.0000\n",
      "Epoch 20/20\n",
      "135/135 [==============================] - 1s 8ms/step - loss: 3.8551e-06 - accuracy: 1.0000 - val_loss: 1.5436e-07 - val_accuracy: 1.0000\n"
     ]
    }
   ],
   "source": [
    "from tensorflow.keras.callbacks import EarlyStopping\n",
    "\n",
    "# Define early stopping to prevent overfitting\n",
    "early_stop = EarlyStopping(\n",
    "    monitor='val_loss',        # Watch validation loss\n",
    "    patience=3,                # Stop after 3 epochs of no improvement\n",
    "    restore_best_weights=True # Restore the best weights\n",
    ")\n",
    "\n",
    "# Train the model\n",
    "history = multi_model.fit(\n",
    "    X_train_vec_m.toarray(), y_train_cat,\n",
    "    validation_data=(X_test_vec_m.toarray(), y_test_cat),\n",
    "    epochs=20,\n",
    "    batch_size=32,\n",
    "    callbacks=[early_stop],\n",
    "    verbose=1\n",
    ")\n"
   ]
  },
  {
   "cell_type": "code",
   "execution_count": 123,
   "id": "afc6d4ff-3981-4932-9f75-81945bfbe2c7",
   "metadata": {},
   "outputs": [
    {
     "name": "stdout",
     "output_type": "stream",
     "text": [
      "Epoch 1/30\n",
      "108/108 [==============================] - 1s 6ms/step - loss: 0.4813 - accuracy: 0.9811 - val_loss: 0.0586 - val_accuracy: 1.0000\n",
      "Epoch 2/30\n",
      "108/108 [==============================] - 0s 4ms/step - loss: 0.0552 - accuracy: 1.0000 - val_loss: 0.0372 - val_accuracy: 1.0000\n",
      "Epoch 3/30\n",
      "108/108 [==============================] - 0s 5ms/step - loss: 0.0369 - accuracy: 1.0000 - val_loss: 0.0274 - val_accuracy: 1.0000\n",
      "Epoch 4/30\n",
      "108/108 [==============================] - 0s 4ms/step - loss: 0.0280 - accuracy: 1.0000 - val_loss: 0.0216 - val_accuracy: 1.0000\n",
      "Epoch 5/30\n",
      "108/108 [==============================] - 1s 5ms/step - loss: 0.0225 - accuracy: 1.0000 - val_loss: 0.0174 - val_accuracy: 1.0000\n",
      "Epoch 6/30\n",
      "108/108 [==============================] - 1s 5ms/step - loss: 0.0182 - accuracy: 1.0000 - val_loss: 0.0141 - val_accuracy: 1.0000\n",
      "Epoch 7/30\n",
      "108/108 [==============================] - 1s 5ms/step - loss: 0.0151 - accuracy: 1.0000 - val_loss: 0.0116 - val_accuracy: 1.0000\n",
      "Epoch 8/30\n",
      "108/108 [==============================] - 1s 5ms/step - loss: 0.0125 - accuracy: 1.0000 - val_loss: 0.0095 - val_accuracy: 1.0000\n",
      "Epoch 9/30\n",
      "108/108 [==============================] - 1s 5ms/step - loss: 0.0106 - accuracy: 1.0000 - val_loss: 0.0080 - val_accuracy: 1.0000\n",
      "Epoch 10/30\n",
      "108/108 [==============================] - 1s 5ms/step - loss: 0.0090 - accuracy: 1.0000 - val_loss: 0.0067 - val_accuracy: 1.0000\n",
      "Epoch 11/30\n",
      "108/108 [==============================] - 1s 5ms/step - loss: 0.0073 - accuracy: 1.0000 - val_loss: 0.0054 - val_accuracy: 1.0000\n",
      "Epoch 12/30\n",
      "108/108 [==============================] - 1s 5ms/step - loss: 0.0062 - accuracy: 1.0000 - val_loss: 0.0046 - val_accuracy: 1.0000\n",
      "Epoch 13/30\n",
      "108/108 [==============================] - 1s 5ms/step - loss: 0.0054 - accuracy: 1.0000 - val_loss: 0.0039 - val_accuracy: 1.0000\n",
      "Epoch 14/30\n",
      "108/108 [==============================] - 1s 5ms/step - loss: 0.0045 - accuracy: 1.0000 - val_loss: 0.0032 - val_accuracy: 1.0000\n",
      "Epoch 15/30\n",
      "108/108 [==============================] - 1s 5ms/step - loss: 0.0043 - accuracy: 1.0000 - val_loss: 0.0029 - val_accuracy: 1.0000\n",
      "Epoch 16/30\n",
      "108/108 [==============================] - 1s 5ms/step - loss: 0.0036 - accuracy: 1.0000 - val_loss: 0.0024 - val_accuracy: 1.0000\n",
      "Epoch 17/30\n",
      "108/108 [==============================] - 1s 6ms/step - loss: 0.0033 - accuracy: 1.0000 - val_loss: 0.0022 - val_accuracy: 1.0000\n",
      "Epoch 18/30\n",
      "108/108 [==============================] - 1s 5ms/step - loss: 0.0026 - accuracy: 1.0000 - val_loss: 0.0017 - val_accuracy: 1.0000\n",
      "Epoch 19/30\n",
      "108/108 [==============================] - 0s 4ms/step - loss: 0.0024 - accuracy: 1.0000 - val_loss: 0.0016 - val_accuracy: 1.0000\n",
      "Epoch 20/30\n",
      "108/108 [==============================] - 0s 5ms/step - loss: 0.0023 - accuracy: 1.0000 - val_loss: 0.0014 - val_accuracy: 1.0000\n",
      "Epoch 21/30\n",
      "108/108 [==============================] - 0s 4ms/step - loss: 0.0020 - accuracy: 1.0000 - val_loss: 0.0013 - val_accuracy: 1.0000\n",
      "Epoch 22/30\n",
      "108/108 [==============================] - 1s 5ms/step - loss: 0.0019 - accuracy: 1.0000 - val_loss: 0.0012 - val_accuracy: 1.0000\n",
      "Epoch 23/30\n",
      "108/108 [==============================] - 0s 5ms/step - loss: 0.0018 - accuracy: 1.0000 - val_loss: 0.0010 - val_accuracy: 1.0000\n",
      "Epoch 24/30\n",
      "108/108 [==============================] - 1s 6ms/step - loss: 0.0015 - accuracy: 1.0000 - val_loss: 9.1500e-04 - val_accuracy: 1.0000\n",
      "Epoch 25/30\n",
      "108/108 [==============================] - 0s 4ms/step - loss: 0.0014 - accuracy: 1.0000 - val_loss: 8.7650e-04 - val_accuracy: 1.0000\n",
      "Epoch 26/30\n",
      "108/108 [==============================] - 0s 4ms/step - loss: 0.0013 - accuracy: 1.0000 - val_loss: 7.6605e-04 - val_accuracy: 1.0000\n",
      "Epoch 27/30\n",
      "108/108 [==============================] - 1s 5ms/step - loss: 0.0012 - accuracy: 1.0000 - val_loss: 6.6567e-04 - val_accuracy: 1.0000\n",
      "Epoch 28/30\n",
      "108/108 [==============================] - 0s 4ms/step - loss: 0.0011 - accuracy: 1.0000 - val_loss: 7.1575e-04 - val_accuracy: 1.0000\n",
      "Epoch 29/30\n",
      "108/108 [==============================] - 1s 5ms/step - loss: 0.0010 - accuracy: 1.0000 - val_loss: 5.8435e-04 - val_accuracy: 1.0000\n",
      "Epoch 30/30\n",
      "108/108 [==============================] - 1s 5ms/step - loss: 9.2040e-04 - accuracy: 1.0000 - val_loss: 5.4272e-04 - val_accuracy: 1.0000\n"
     ]
    }
   ],
   "source": [
    "from tensorflow.keras.models import Sequential\n",
    "from tensorflow.keras.layers import Dense, Dropout\n",
    "from tensorflow.keras import regularizers\n",
    "from tensorflow.keras.callbacks import EarlyStopping\n",
    "\n",
    "#Build model with reduced capacity, higher dropout, and L2 regularization\n",
    "multi_model = Sequential([\n",
    "    Dense(64, activation='relu', input_shape=(X_train_vec_m.shape[1],),\n",
    "          kernel_regularizer=regularizers.l2(0.001)),\n",
    "    Dropout(0.5),\n",
    "    Dense(32, activation='relu',\n",
    "          kernel_regularizer=regularizers.l2(0.001)),\n",
    "    Dropout(0.5),\n",
    "    Dense(3, activation='softmax')  # 3 output classes\n",
    "])\n",
    "\n",
    "# Compile\n",
    "multi_model.compile(\n",
    "    optimizer='adam',\n",
    "    loss='categorical_crossentropy',\n",
    "    metrics=['accuracy']\n",
    ")\n",
    "\n",
    "# Early stopping remains the same\n",
    "early_stop = EarlyStopping(\n",
    "    monitor='val_loss',\n",
    "    patience=3,\n",
    "    restore_best_weights=True\n",
    ")\n",
    "\n",
    "# Train with validation split from training data\n",
    "history = multi_model.fit(\n",
    "    X_train_vec_m.toarray(), y_train_cat,\n",
    "    validation_split=0.2,\n",
    "    epochs=30,\n",
    "    batch_size=32,\n",
    "    callbacks=[early_stop],\n",
    "    verbose=1\n",
    ")\n"
   ]
  },
  {
   "cell_type": "markdown",
   "id": "53a6a0c2-9bbf-4d9d-8e09-d9d7fa13c52e",
   "metadata": {},
   "source": [
    "1. Realistic Learning Curve\n",
    "\n",
    "   Loss starts high at 0.48, then decreases slowly → a sign that the model is working harder to learn.\n",
    "   Unlike before, it no longer \"memorizes\" instantly.\n",
    "\n",
    "2. L2 Regularization Penalty is Working\n",
    "\n",
    "   You can see the loss includes L2 penalties — that's why it's not 0 even when accuracy is 100%.\n",
    "\n",
    "   This helps prevent the model from developing overly complex weight matrices.\n",
    "\n",
    "3. Dropout Regularization is Active\n",
    "   \n",
    "  50% dropout forces the model to generalize better by reducing neuron co-dependence."
   ]
  },
  {
   "cell_type": "code",
   "execution_count": 125,
   "id": "b94492b8-a0ca-4ab0-99e9-786bf74e6749",
   "metadata": {},
   "outputs": [
    {
     "name": "stdout",
     "output_type": "stream",
     "text": [
      "34/34 [==============================] - 0s 2ms/step - loss: 5.4271e-04 - accuracy: 1.0000\n",
      "Test Accuracy: 100.00%, Test Loss: 0.0005\n"
     ]
    }
   ],
   "source": [
    "loss, accuracy = multi_model.evaluate(X_test_vec_m.toarray(), y_test_cat)\n",
    "print(f\"Test Accuracy: {accuracy:.2%}, Test Loss: {loss:.4f}\")\n"
   ]
  },
  {
   "cell_type": "code",
   "execution_count": null,
   "id": "e26245b2-886d-465b-a882-6f6cfb732b76",
   "metadata": {},
   "outputs": [],
   "source": []
  }
 ],
 "metadata": {
  "kernelspec": {
   "display_name": "Python (learn-env)",
   "language": "python",
   "name": "learn-env"
  },
  "language_info": {
   "codemirror_mode": {
    "name": "ipython",
    "version": 3
   },
   "file_extension": ".py",
   "mimetype": "text/x-python",
   "name": "python",
   "nbconvert_exporter": "python",
   "pygments_lexer": "ipython3",
   "version": "3.8.5"
  }
 },
 "nbformat": 4,
 "nbformat_minor": 5
}
